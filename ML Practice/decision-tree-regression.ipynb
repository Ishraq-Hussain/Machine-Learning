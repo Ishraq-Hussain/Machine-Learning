{
 "cells": [
  {
   "cell_type": "code",
   "execution_count": 1,
   "id": "f7048b8e",
   "metadata": {
    "_cell_guid": "b1076dfc-b9ad-4769-8c92-a6c4dae69d19",
    "_uuid": "8f2839f25d086af736a60e9eeb907d3b93b6e0e5",
    "execution": {
     "iopub.execute_input": "2021-08-07T10:44:50.362927Z",
     "iopub.status.busy": "2021-08-07T10:44:50.362184Z",
     "iopub.status.idle": "2021-08-07T10:44:50.374295Z",
     "shell.execute_reply": "2021-08-07T10:44:50.375106Z",
     "shell.execute_reply.started": "2021-08-07T09:52:48.591417Z"
    },
    "papermill": {
     "duration": 0.037066,
     "end_time": "2021-08-07T10:44:50.375558",
     "exception": false,
     "start_time": "2021-08-07T10:44:50.338492",
     "status": "completed"
    },
    "tags": []
   },
   "outputs": [
    {
     "name": "stdout",
     "output_type": "stream",
     "text": [
      "/kaggle/input/position-salary-dataset/Position_Salaries.csv\n"
     ]
    }
   ],
   "source": [
    "# This Python 3 environment comes with many helpful analytics libraries installed\n",
    "# It is defined by the kaggle/python Docker image: https://github.com/kaggle/docker-python\n",
    "# For example, here's several helpful packages to load\n",
    "\n",
    "import numpy as np # linear algebra\n",
    "import pandas as pd # data processing, CSV file I/O (e.g. pd.read_csv)\n",
    "\n",
    "# Input data files are available in the read-only \"../input/\" directory\n",
    "# For example, running this (by clicking run or pressing Shift+Enter) will list all files under the input directory\n",
    "\n",
    "import os\n",
    "for dirname, _, filenames in os.walk('/kaggle/input'):\n",
    "    for filename in filenames:\n",
    "        print(os.path.join(dirname, filename))\n",
    "\n",
    "# You can write up to 20GB to the current directory (/kaggle/working/) that gets preserved as output when you create a version using \"Save & Run All\" \n",
    "# You can also write temporary files to /kaggle/temp/, but they won't be saved outside of the current session"
   ]
  },
  {
   "cell_type": "code",
   "execution_count": 2,
   "id": "244c2170",
   "metadata": {
    "execution": {
     "iopub.execute_input": "2021-08-07T10:44:50.399304Z",
     "iopub.status.busy": "2021-08-07T10:44:50.398559Z",
     "iopub.status.idle": "2021-08-07T10:44:50.401796Z",
     "shell.execute_reply": "2021-08-07T10:44:50.402322Z",
     "shell.execute_reply.started": "2021-08-07T09:54:40.978745Z"
    },
    "papermill": {
     "duration": 0.017421,
     "end_time": "2021-08-07T10:44:50.402551",
     "exception": false,
     "start_time": "2021-08-07T10:44:50.385130",
     "status": "completed"
    },
    "tags": []
   },
   "outputs": [],
   "source": [
    "#Importing libraries\n",
    "import numpy as np\n",
    "import pandas as pd\n",
    "import matplotlib.pyplot as plt"
   ]
  },
  {
   "cell_type": "code",
   "execution_count": 3,
   "id": "06ab5cb8",
   "metadata": {
    "execution": {
     "iopub.execute_input": "2021-08-07T10:44:50.425899Z",
     "iopub.status.busy": "2021-08-07T10:44:50.425079Z",
     "iopub.status.idle": "2021-08-07T10:44:50.591797Z",
     "shell.execute_reply": "2021-08-07T10:44:50.592688Z",
     "shell.execute_reply.started": "2021-08-07T10:44:16.525269Z"
    },
    "papermill": {
     "duration": 0.182002,
     "end_time": "2021-08-07T10:44:50.592991",
     "exception": false,
     "start_time": "2021-08-07T10:44:50.410989",
     "status": "completed"
    },
    "tags": []
   },
   "outputs": [],
   "source": [
    "#Importing dataset\n",
    "df = pd.read_csv('/kaggle/input/position-salary-dataset/Position_Salaries.csv')\n",
    "x = df.iloc[:, [1]].values\n",
    "y = df.iloc[:, -1].values"
   ]
  },
  {
   "cell_type": "code",
   "execution_count": 4,
   "id": "3e0f4dfe",
   "metadata": {
    "execution": {
     "iopub.execute_input": "2021-08-07T10:44:50.623336Z",
     "iopub.status.busy": "2021-08-07T10:44:50.622654Z",
     "iopub.status.idle": "2021-08-07T10:44:50.624779Z",
     "shell.execute_reply": "2021-08-07T10:44:50.625296Z",
     "shell.execute_reply.started": "2021-08-07T10:34:27.613069Z"
    },
    "papermill": {
     "duration": 0.016787,
     "end_time": "2021-08-07T10:44:50.625520",
     "exception": false,
     "start_time": "2021-08-07T10:44:50.608733",
     "status": "completed"
    },
    "tags": []
   },
   "outputs": [],
   "source": [
    "# #Feature Scaling ###I found that feature scaling break up my model\n",
    "# from sklearn.preprocessing import StandardScaler\n",
    "# sc_x = StandardScaler()\n",
    "# x = sc_x.fit_transform(x)\n",
    "# sc_y = StandardScaler()\n",
    "# y = sc_y.fit_transform(y.reshape(-1,1))\n",
    "# print(x)\n",
    "# print(y.reshape(-1))"
   ]
  },
  {
   "cell_type": "code",
   "execution_count": 5,
   "id": "d864a6a7",
   "metadata": {
    "execution": {
     "iopub.execute_input": "2021-08-07T10:44:50.646978Z",
     "iopub.status.busy": "2021-08-07T10:44:50.646278Z",
     "iopub.status.idle": "2021-08-07T10:44:51.797749Z",
     "shell.execute_reply": "2021-08-07T10:44:51.798215Z",
     "shell.execute_reply.started": "2021-08-07T10:44:19.032375Z"
    },
    "papermill": {
     "duration": 1.164324,
     "end_time": "2021-08-07T10:44:51.798459",
     "exception": false,
     "start_time": "2021-08-07T10:44:50.634135",
     "status": "completed"
    },
    "tags": []
   },
   "outputs": [
    {
     "data": {
      "text/plain": [
       "DecisionTreeRegressor(random_state=0)"
      ]
     },
     "execution_count": 5,
     "metadata": {},
     "output_type": "execute_result"
    }
   ],
   "source": [
    "#Training our model\n",
    "from sklearn.tree import DecisionTreeRegressor\n",
    "regressor = DecisionTreeRegressor(random_state=0)\n",
    "regressor.fit(x, y.ravel())"
   ]
  },
  {
   "cell_type": "code",
   "execution_count": 6,
   "id": "e667a829",
   "metadata": {
    "execution": {
     "iopub.execute_input": "2021-08-07T10:44:51.820654Z",
     "iopub.status.busy": "2021-08-07T10:44:51.819944Z",
     "iopub.status.idle": "2021-08-07T10:44:51.826248Z",
     "shell.execute_reply": "2021-08-07T10:44:51.826776Z",
     "shell.execute_reply.started": "2021-08-07T10:44:19.747948Z"
    },
    "papermill": {
     "duration": 0.018664,
     "end_time": "2021-08-07T10:44:51.826976",
     "exception": false,
     "start_time": "2021-08-07T10:44:51.808312",
     "status": "completed"
    },
    "tags": []
   },
   "outputs": [
    {
     "data": {
      "text/plain": [
       "array([150000.])"
      ]
     },
     "execution_count": 6,
     "metadata": {},
     "output_type": "execute_result"
    }
   ],
   "source": [
    "#Predicting Results\n",
    "y_pred = regressor.predict([[6.5]])\n",
    "y_pred"
   ]
  },
  {
   "cell_type": "code",
   "execution_count": 7,
   "id": "995a3e31",
   "metadata": {
    "execution": {
     "iopub.execute_input": "2021-08-07T10:44:51.849304Z",
     "iopub.status.busy": "2021-08-07T10:44:51.848599Z",
     "iopub.status.idle": "2021-08-07T10:44:52.069175Z",
     "shell.execute_reply": "2021-08-07T10:44:52.068477Z",
     "shell.execute_reply.started": "2021-08-07T10:44:22.473232Z"
    },
    "papermill": {
     "duration": 0.23292,
     "end_time": "2021-08-07T10:44:52.069336",
     "exception": false,
     "start_time": "2021-08-07T10:44:51.836416",
     "status": "completed"
    },
    "tags": []
   },
   "outputs": [
    {
     "data": {
      "image/png": "[encoded data removed]",
      "text/plain": [
       "<Figure size 921.6x633.6 with 1 Axes>"
      ]
     },
     "metadata": {
      "needs_background": "light"
     },
     "output_type": "display_data"
    }
   ],
   "source": [
    "#Visualization\n",
    "x_grid = np.arange(min(x), max(x), 0.001).reshape(-1,1)\n",
    "plt.style.use('seaborn-poster')\n",
    "fig, ax = plt.subplots()\n",
    "ax.scatter(x, y, color = 'red', marker='+')\n",
    "ax.plot(x_grid, regressor.predict(x_grid), color = 'blue')\n",
    "ax.set_xlabel('Job Level')\n",
    "ax.set_ylabel('Salary')\n",
    "ax.set_title('Truth or Bluff')\n",
    "plt.show()"
   ]
  },
  {
   "cell_type": "code",
   "execution_count": null,
   "id": "6af333bb",
   "metadata": {
    "papermill": {
     "duration": 0.009895,
     "end_time": "2021-08-07T10:44:52.089864",
     "exception": false,
     "start_time": "2021-08-07T10:44:52.079969",
     "status": "completed"
    },
    "tags": []
   },
   "outputs": [],
   "source": []
  }
 ],
 "metadata": {
  "kernelspec": {
   "display_name": "Python 3",
   "language": "python",
   "name": "python3"
  },
  "language_info": {
   "codemirror_mode": {
    "name": "ipython",
    "version": 3
   },
   "file_extension": ".py",
   "mimetype": "text/x-python",
   "name": "python",
   "nbconvert_exporter": "python",
   "pygments_lexer": "ipython3",
   "version": "3.7.10"
  },
  "papermill": {
   "default_parameters": {},
   "duration": 12.944764,
   "end_time": "2021-08-07T10:44:53.809487",
   "environment_variables": {},
   "exception": null,
   "input_path": "__notebook__.ipynb",
   "output_path": "__notebook__.ipynb",
   "parameters": {},
   "start_time": "2021-08-07T10:44:40.864723",
   "version": "2.3.3"
  }
 },
 "nbformat": 4,
 "nbformat_minor": 5
}
