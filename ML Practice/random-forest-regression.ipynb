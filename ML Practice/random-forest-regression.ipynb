{
 "cells": [
  {
   "cell_type": "code",
   "execution_count": 1,
   "id": "f5c2113a",
   "metadata": {
    "_cell_guid": "bc7f452f-ed8f-42d6-9dc0-7bdb2fa378a9",
    "_uuid": "009472c1-4980-4022-9a89-4d7cf4cbf5a5",
    "collapsed": false,
    "execution": {
     "iopub.execute_input": "2021-08-07T11:44:56.371441Z",
     "iopub.status.busy": "2021-08-07T11:44:56.370227Z",
     "iopub.status.idle": "2021-08-07T11:44:56.392525Z",
     "shell.execute_reply": "2021-08-07T11:44:56.393099Z",
     "shell.execute_reply.started": "2021-08-07T11:34:33.473533Z"
    },
    "jupyter": {
     "outputs_hidden": false
    },
    "papermill": {
     "duration": 0.03474,
     "end_time": "2021-08-07T11:44:56.393378",
     "exception": false,
     "start_time": "2021-08-07T11:44:56.358638",
     "status": "completed"
    },
    "tags": []
   },
   "outputs": [
    {
     "name": "stdout",
     "output_type": "stream",
     "text": [
      "/kaggle/input/position-salary-dataset/Position_Salaries.csv\n"
     ]
    }
   ],
   "source": [
    "# This Python 3 environment comes with many helpful analytics libraries installed\n",
    "# It is defined by the kaggle/python Docker image: https://github.com/kaggle/docker-python\n",
    "# For example, here's several helpful packages to load\n",
    "\n",
    "import numpy as np # linear algebra\n",
    "import pandas as pd # data processing, CSV file I/O (e.g. pd.read_csv)\n",
    "\n",
    "# Input data files are available in the read-only \"../input/\" directory\n",
    "# For example, running this (by clicking run or pressing Shift+Enter) will list all files under the input directory\n",
    "\n",
    "import os\n",
    "for dirname, _, filenames in os.walk('/kaggle/input'):\n",
    "    for filename in filenames:\n",
    "        print(os.path.join(dirname, filename))\n",
    "\n",
    "# You can write up to 20GB to the current directory (/kaggle/working/) that gets preserved as output when you create a version using \"Save & Run All\" \n",
    "# You can also write temporary files to /kaggle/temp/, but they won't be saved outside of the current session"
   ]
  },
  {
   "cell_type": "code",
   "execution_count": 2,
   "id": "4ee41604",
   "metadata": {
    "execution": {
     "iopub.execute_input": "2021-08-07T11:44:56.410380Z",
     "iopub.status.busy": "2021-08-07T11:44:56.409725Z",
     "iopub.status.idle": "2021-08-07T11:44:56.414540Z",
     "shell.execute_reply": "2021-08-07T11:44:56.413912Z",
     "shell.execute_reply.started": "2021-08-07T11:35:13.227798Z"
    },
    "papermill": {
     "duration": 0.014004,
     "end_time": "2021-08-07T11:44:56.414684",
     "exception": false,
     "start_time": "2021-08-07T11:44:56.400680",
     "status": "completed"
    },
    "tags": []
   },
   "outputs": [],
   "source": [
    "#Importing Libraries\n",
    "import numpy as np\n",
    "import pandas as pd\n",
    "import matplotlib.pyplot as plt"
   ]
  },
  {
   "cell_type": "code",
   "execution_count": 3,
   "id": "955586bd",
   "metadata": {
    "execution": {
     "iopub.execute_input": "2021-08-07T11:44:56.431155Z",
     "iopub.status.busy": "2021-08-07T11:44:56.430497Z",
     "iopub.status.idle": "2021-08-07T11:44:56.537554Z",
     "shell.execute_reply": "2021-08-07T11:44:56.538076Z",
     "shell.execute_reply.started": "2021-08-07T11:36:02.847849Z"
    },
    "papermill": {
     "duration": 0.116882,
     "end_time": "2021-08-07T11:44:56.538271",
     "exception": false,
     "start_time": "2021-08-07T11:44:56.421389",
     "status": "completed"
    },
    "tags": []
   },
   "outputs": [],
   "source": [
    "df = pd.read_csv('/kaggle/input/position-salary-dataset/Position_Salaries.csv')\n",
    "x = df.iloc[:, [1]].values\n",
    "y = df.iloc[:, -1].values"
   ]
  },
  {
   "cell_type": "code",
   "execution_count": 4,
   "id": "b316d7a8",
   "metadata": {
    "execution": {
     "iopub.execute_input": "2021-08-07T11:44:56.554759Z",
     "iopub.status.busy": "2021-08-07T11:44:56.554135Z",
     "iopub.status.idle": "2021-08-07T11:45:13.990447Z",
     "shell.execute_reply": "2021-08-07T11:45:13.989756Z",
     "shell.execute_reply.started": "2021-08-07T11:38:57.780760Z"
    },
    "papermill": {
     "duration": 17.445437,
     "end_time": "2021-08-07T11:45:13.990587",
     "exception": false,
     "start_time": "2021-08-07T11:44:56.545150",
     "status": "completed"
    },
    "tags": []
   },
   "outputs": [
    {
     "data": {
      "text/plain": [
       "RandomForestRegressor(n_estimators=10000, random_state=0)"
      ]
     },
     "execution_count": 4,
     "metadata": {},
     "output_type": "execute_result"
    }
   ],
   "source": [
    "#Training our model\n",
    "from sklearn.ensemble import RandomForestRegressor\n",
    "regressor = RandomForestRegressor(n_estimators=10000, random_state = 0)\n",
    "regressor.fit(x,y)"
   ]
  },
  {
   "cell_type": "code",
   "execution_count": 5,
   "id": "172a55fe",
   "metadata": {
    "execution": {
     "iopub.execute_input": "2021-08-07T11:45:14.012651Z",
     "iopub.status.busy": "2021-08-07T11:45:14.011999Z",
     "iopub.status.idle": "2021-08-07T11:45:14.753682Z",
     "shell.execute_reply": "2021-08-07T11:45:14.753145Z",
     "shell.execute_reply.started": "2021-08-07T11:40:12.990363Z"
    },
    "papermill": {
     "duration": 0.755979,
     "end_time": "2021-08-07T11:45:14.753820",
     "exception": false,
     "start_time": "2021-08-07T11:45:13.997841",
     "status": "completed"
    },
    "tags": []
   },
   "outputs": [
    {
     "data": {
      "text/plain": [
       "array([161835.])"
      ]
     },
     "execution_count": 5,
     "metadata": {},
     "output_type": "execute_result"
    }
   ],
   "source": [
    "#Predicting resultls\n",
    "y_pred = regressor.predict([[6.5]])\n",
    "y_pred"
   ]
  },
  {
   "cell_type": "code",
   "execution_count": 6,
   "id": "4e8994ec",
   "metadata": {
    "execution": {
     "iopub.execute_input": "2021-08-07T11:45:14.797470Z",
     "iopub.status.busy": "2021-08-07T11:45:14.796668Z",
     "iopub.status.idle": "2021-08-07T11:45:15.775917Z",
     "shell.execute_reply": "2021-08-07T11:45:15.775424Z",
     "shell.execute_reply.started": "2021-08-07T11:43:58.582490Z"
    },
    "papermill": {
     "duration": 1.014771,
     "end_time": "2021-08-07T11:45:15.776077",
     "exception": false,
     "start_time": "2021-08-07T11:45:14.761306",
     "status": "completed"
    },
    "tags": []
   },
   "outputs": [
    {
     "data": {
      "image/png": "[encoded data removed]",
      "text/plain": [
       "<Figure size 432x288 with 1 Axes>"
      ]
     },
     "metadata": {
      "needs_background": "light"
     },
     "output_type": "display_data"
    }
   ],
   "source": [
    "#Visualization in higher resolution\n",
    "x_grid = np.arange(min(x), max(x), 0.01).reshape(-1,1)\n",
    "plt.scatter(x, y, color='red')\n",
    "plt.plot(x_grid, regressor.predict(x_grid))\n",
    "plt.xlabel('Job Position')\n",
    "plt.ylabel('Salary')\n",
    "plt.show()"
   ]
  }
 ],
 "metadata": {
  "kernelspec": {
   "display_name": "Python 3",
   "language": "python",
   "name": "python3"
  },
  "language_info": {
   "codemirror_mode": {
    "name": "ipython",
    "version": 3
   },
   "file_extension": ".py",
   "mimetype": "text/x-python",
   "name": "python",
   "nbconvert_exporter": "python",
   "pygments_lexer": "ipython3",
   "version": "3.7.10"
  },
  "papermill": {
   "default_parameters": {},
   "duration": 28.768175,
   "end_time": "2021-08-07T11:45:17.147399",
   "environment_variables": {},
   "exception": null,
   "input_path": "__notebook__.ipynb",
   "output_path": "__notebook__.ipynb",
   "parameters": {},
   "start_time": "2021-08-07T11:44:48.379224",
   "version": "2.3.3"
  }
 },
 "nbformat": 4,
 "nbformat_minor": 5
}
