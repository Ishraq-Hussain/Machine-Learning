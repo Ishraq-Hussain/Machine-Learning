{
 "cells": [
  {
   "cell_type": "code",
   "execution_count": 1,
   "id": "e393e01d",
   "metadata": {
    "_cell_guid": "b1076dfc-b9ad-4769-8c92-a6c4dae69d19",
    "_uuid": "8f2839f25d086af736a60e9eeb907d3b93b6e0e5",
    "execution": {
     "iopub.execute_input": "2021-08-07T08:12:52.566586Z",
     "iopub.status.busy": "2021-08-07T08:12:52.565944Z",
     "iopub.status.idle": "2021-08-07T08:12:52.576398Z",
     "shell.execute_reply": "2021-08-07T08:12:52.576837Z",
     "shell.execute_reply.started": "2021-08-07T07:13:02.966606Z"
    },
    "papermill": {
     "duration": 0.0309,
     "end_time": "2021-08-07T08:12:52.577117",
     "exception": false,
     "start_time": "2021-08-07T08:12:52.546217",
     "status": "completed"
    },
    "tags": []
   },
   "outputs": [
    {
     "name": "stdout",
     "output_type": "stream",
     "text": [
      "/kaggle/input/position-salary-dataset/Position_Salaries.csv\n"
     ]
    }
   ],
   "source": [
    "# This Python 3 environment comes with many helpful analytics libraries installed\n",
    "# It is defined by the kaggle/python Docker image: https://github.com/kaggle/docker-python\n",
    "# For example, here's several helpful packages to load\n",
    "\n",
    "import numpy as np # linear algebra\n",
    "import pandas as pd # data processing, CSV file I/O (e.g. pd.read_csv)\n",
    "\n",
    "# Input data files are available in the read-only \"../input/\" directory\n",
    "# For example, running this (by clicking run or pressing Shift+Enter) will list all files under the input directory\n",
    "\n",
    "import os\n",
    "for dirname, _, filenames in os.walk('/kaggle/input'):\n",
    "    for filename in filenames:\n",
    "        print(os.path.join(dirname, filename))\n",
    "\n",
    "# You can write up to 20GB to the current directory (/kaggle/working/) that gets preserved as output when you create a version using \"Save & Run All\" \n",
    "# You can also write temporary files to /kaggle/temp/, but they won't be saved outside of the current session"
   ]
  },
  {
   "cell_type": "code",
   "execution_count": 2,
   "id": "9b78c9a3",
   "metadata": {
    "execution": {
     "iopub.execute_input": "2021-08-07T08:12:52.595532Z",
     "iopub.status.busy": "2021-08-07T08:12:52.594795Z",
     "iopub.status.idle": "2021-08-07T08:12:52.597934Z",
     "shell.execute_reply": "2021-08-07T08:12:52.597472Z",
     "shell.execute_reply.started": "2021-08-07T07:10:21.064200Z"
    },
    "papermill": {
     "duration": 0.01363,
     "end_time": "2021-08-07T08:12:52.598057",
     "exception": false,
     "start_time": "2021-08-07T08:12:52.584427",
     "status": "completed"
    },
    "tags": []
   },
   "outputs": [],
   "source": [
    "#Importing the libraries\n",
    "import numpy as np\n",
    "import pandas as pd\n",
    "import matplotlib.pyplot as plt\n"
   ]
  },
  {
   "cell_type": "code",
   "execution_count": 3,
   "id": "c0b13e87",
   "metadata": {
    "execution": {
     "iopub.execute_input": "2021-08-07T08:12:52.616175Z",
     "iopub.status.busy": "2021-08-07T08:12:52.615580Z",
     "iopub.status.idle": "2021-08-07T08:12:52.739024Z",
     "shell.execute_reply": "2021-08-07T08:12:52.739762Z",
     "shell.execute_reply.started": "2021-08-07T07:14:13.505245Z"
    },
    "papermill": {
     "duration": 0.135124,
     "end_time": "2021-08-07T08:12:52.739995",
     "exception": false,
     "start_time": "2021-08-07T08:12:52.604871",
     "status": "completed"
    },
    "tags": []
   },
   "outputs": [
    {
     "name": "stdout",
     "output_type": "stream",
     "text": [
      "<class 'pandas.core.frame.DataFrame'>\n",
      "RangeIndex: 10 entries, 0 to 9\n",
      "Data columns (total 3 columns):\n",
      " #   Column    Non-Null Count  Dtype \n",
      "---  ------    --------------  ----- \n",
      " 0   Position  10 non-null     object\n",
      " 1   Level     10 non-null     int64 \n",
      " 2   Salary    10 non-null     int64 \n",
      "dtypes: int64(2), object(1)\n",
      "memory usage: 368.0+ bytes\n",
      "None\n"
     ]
    },
    {
     "data": {
      "text/html": [
       "<div>\n",
       "<style scoped>\n",
       "    .dataframe tbody tr th:only-of-type {\n",
       "        vertical-align: middle;\n",
       "    }\n",
       "\n",
       "    .dataframe tbody tr th {\n",
       "        vertical-align: top;\n",
       "    }\n",
       "\n",
       "    .dataframe thead th {\n",
       "        text-align: right;\n",
       "    }\n",
       "</style>\n",
       "<table border=\"1\" class=\"dataframe\">\n",
       "  <thead>\n",
       "    <tr style=\"text-align: right;\">\n",
       "      <th></th>\n",
       "      <th>Position</th>\n",
       "      <th>Level</th>\n",
       "      <th>Salary</th>\n",
       "    </tr>\n",
       "  </thead>\n",
       "  <tbody>\n",
       "    <tr>\n",
       "      <th>0</th>\n",
       "      <td>Business Analyst</td>\n",
       "      <td>1</td>\n",
       "      <td>45000</td>\n",
       "    </tr>\n",
       "    <tr>\n",
       "      <th>1</th>\n",
       "      <td>Junior Consultant</td>\n",
       "      <td>2</td>\n",
       "      <td>50000</td>\n",
       "    </tr>\n",
       "    <tr>\n",
       "      <th>2</th>\n",
       "      <td>Senior Consultant</td>\n",
       "      <td>3</td>\n",
       "      <td>60000</td>\n",
       "    </tr>\n",
       "    <tr>\n",
       "      <th>3</th>\n",
       "      <td>Manager</td>\n",
       "      <td>4</td>\n",
       "      <td>80000</td>\n",
       "    </tr>\n",
       "    <tr>\n",
       "      <th>4</th>\n",
       "      <td>Country Manager</td>\n",
       "      <td>5</td>\n",
       "      <td>110000</td>\n",
       "    </tr>\n",
       "  </tbody>\n",
       "</table>\n",
       "</div>"
      ],
      "text/plain": [
       "            Position  Level  Salary\n",
       "0   Business Analyst      1   45000\n",
       "1  Junior Consultant      2   50000\n",
       "2  Senior Consultant      3   60000\n",
       "3            Manager      4   80000\n",
       "4    Country Manager      5  110000"
      ]
     },
     "execution_count": 3,
     "metadata": {},
     "output_type": "execute_result"
    }
   ],
   "source": [
    "df = pd.read_csv('/kaggle/input/position-salary-dataset/Position_Salaries.csv')\n",
    "print(df.info())\n",
    "df.head()"
   ]
  },
  {
   "cell_type": "code",
   "execution_count": 4,
   "id": "7bdcdf2a",
   "metadata": {
    "execution": {
     "iopub.execute_input": "2021-08-07T08:12:52.761666Z",
     "iopub.status.busy": "2021-08-07T08:12:52.760989Z",
     "iopub.status.idle": "2021-08-07T08:12:52.763690Z",
     "shell.execute_reply": "2021-08-07T08:12:52.764078Z",
     "shell.execute_reply.started": "2021-08-07T08:11:13.791229Z"
    },
    "papermill": {
     "duration": 0.015853,
     "end_time": "2021-08-07T08:12:52.764237",
     "exception": false,
     "start_time": "2021-08-07T08:12:52.748384",
     "status": "completed"
    },
    "tags": []
   },
   "outputs": [],
   "source": [
    "#Spliting the dataset into independent variable and dependent variable\n",
    "x = df.iloc[:, [1]].values\n",
    "y = df.iloc[:, -1].values"
   ]
  },
  {
   "cell_type": "code",
   "execution_count": 5,
   "id": "5a121ac8",
   "metadata": {
    "execution": {
     "iopub.execute_input": "2021-08-07T08:12:52.784551Z",
     "iopub.status.busy": "2021-08-07T08:12:52.783968Z",
     "iopub.status.idle": "2021-08-07T08:12:53.660477Z",
     "shell.execute_reply": "2021-08-07T08:12:53.660928Z",
     "shell.execute_reply.started": "2021-08-07T08:11:14.931314Z"
    },
    "papermill": {
     "duration": 0.889194,
     "end_time": "2021-08-07T08:12:53.661150",
     "exception": false,
     "start_time": "2021-08-07T08:12:52.771956",
     "status": "completed"
    },
    "tags": []
   },
   "outputs": [],
   "source": [
    "#Feature scaling\n",
    "from sklearn.preprocessing import StandardScaler\n",
    "sc_x = StandardScaler()\n",
    "x = sc_x.fit_transform(x)\n",
    "sc_y = StandardScaler()\n",
    "y = sc_y.fit_transform(y.reshape(-1,1))"
   ]
  },
  {
   "cell_type": "code",
   "execution_count": 6,
   "id": "da9381d0",
   "metadata": {
    "execution": {
     "iopub.execute_input": "2021-08-07T08:12:53.683867Z",
     "iopub.status.busy": "2021-08-07T08:12:53.682965Z",
     "iopub.status.idle": "2021-08-07T08:12:53.687389Z",
     "shell.execute_reply": "2021-08-07T08:12:53.687994Z",
     "shell.execute_reply.started": "2021-08-07T08:11:16.003653Z"
    },
    "papermill": {
     "duration": 0.017968,
     "end_time": "2021-08-07T08:12:53.688211",
     "exception": false,
     "start_time": "2021-08-07T08:12:53.670243",
     "status": "completed"
    },
    "tags": []
   },
   "outputs": [
    {
     "name": "stdout",
     "output_type": "stream",
     "text": [
      "[[-1.5666989 ]\n",
      " [-1.21854359]\n",
      " [-0.87038828]\n",
      " [-0.52223297]\n",
      " [-0.17407766]\n",
      " [ 0.17407766]\n",
      " [ 0.52223297]\n",
      " [ 0.87038828]\n",
      " [ 1.21854359]\n",
      " [ 1.5666989 ]]\n",
      "[[-0.72004253]\n",
      " [-0.70243757]\n",
      " [-0.66722767]\n",
      " [-0.59680786]\n",
      " [-0.49117815]\n",
      " [-0.35033854]\n",
      " [-0.17428902]\n",
      " [ 0.17781001]\n",
      " [ 0.88200808]\n",
      " [ 2.64250325]]\n",
      "[-0.72004253 -0.70243757 -0.66722767 -0.59680786 -0.49117815 -0.35033854\n",
      " -0.17428902  0.17781001  0.88200808  2.64250325]\n"
     ]
    }
   ],
   "source": [
    "print(x)\n",
    "print(y)\n",
    "print(y.ravel())"
   ]
  },
  {
   "cell_type": "code",
   "execution_count": 7,
   "id": "8e18afe6",
   "metadata": {
    "execution": {
     "iopub.execute_input": "2021-08-07T08:12:53.709899Z",
     "iopub.status.busy": "2021-08-07T08:12:53.709314Z",
     "iopub.status.idle": "2021-08-07T08:12:53.849244Z",
     "shell.execute_reply": "2021-08-07T08:12:53.848702Z",
     "shell.execute_reply.started": "2021-08-07T08:11:19.431955Z"
    },
    "papermill": {
     "duration": 0.152086,
     "end_time": "2021-08-07T08:12:53.849409",
     "exception": false,
     "start_time": "2021-08-07T08:12:53.697323",
     "status": "completed"
    },
    "tags": []
   },
   "outputs": [
    {
     "data": {
      "text/plain": [
       "SVR()"
      ]
     },
     "execution_count": 7,
     "metadata": {},
     "output_type": "execute_result"
    }
   ],
   "source": [
    "#Training our model\n",
    "from sklearn.svm import SVR\n",
    "regressor = SVR(kernel='rbf')\n",
    "regressor.fit(x,y.ravel())"
   ]
  },
  {
   "cell_type": "code",
   "execution_count": 8,
   "id": "7a716dae",
   "metadata": {
    "execution": {
     "iopub.execute_input": "2021-08-07T08:12:53.872424Z",
     "iopub.status.busy": "2021-08-07T08:12:53.871558Z",
     "iopub.status.idle": "2021-08-07T08:12:53.875706Z",
     "shell.execute_reply": "2021-08-07T08:12:53.875222Z",
     "shell.execute_reply.started": "2021-08-07T08:12:18.469420Z"
    },
    "papermill": {
     "duration": 0.01809,
     "end_time": "2021-08-07T08:12:53.875831",
     "exception": false,
     "start_time": "2021-08-07T08:12:53.857741",
     "status": "completed"
    },
    "tags": []
   },
   "outputs": [
    {
     "data": {
      "text/plain": [
       "array([170370.0204065])"
      ]
     },
     "execution_count": 8,
     "metadata": {},
     "output_type": "execute_result"
    }
   ],
   "source": [
    "#Predicting our result\n",
    "y_pred = sc_y.inverse_transform(regressor.predict(sc_x.transform([[6.5]])))\n",
    "y_pred"
   ]
  },
  {
   "cell_type": "code",
   "execution_count": 9,
   "id": "19fc139d",
   "metadata": {
    "execution": {
     "iopub.execute_input": "2021-08-07T08:12:53.920535Z",
     "iopub.status.busy": "2021-08-07T08:12:53.919656Z",
     "iopub.status.idle": "2021-08-07T08:12:54.087556Z",
     "shell.execute_reply": "2021-08-07T08:12:54.086762Z",
     "shell.execute_reply.started": "2021-08-07T08:11:24.498088Z"
    },
    "papermill": {
     "duration": 0.203397,
     "end_time": "2021-08-07T08:12:54.087700",
     "exception": false,
     "start_time": "2021-08-07T08:12:53.884303",
     "status": "completed"
    },
    "tags": []
   },
   "outputs": [
    {
     "data": {
      "image/png": "[encoded data removed]",
      "text/plain": [
       "<Figure size 432x288 with 1 Axes>"
      ]
     },
     "metadata": {
      "needs_background": "light"
     },
     "output_type": "display_data"
    }
   ],
   "source": [
    "#Visualizing our model\n",
    "plt.scatter(sc_x.inverse_transform(x), sc_y.inverse_transform(y), color='red', marker='+')\n",
    "plt.plot(sc_x.inverse_transform(x), sc_y.inverse_transform(regressor.predict(x)), color='blue')\n",
    "plt.xlabel('Job position')\n",
    "plt.ylabel('Salary')\n",
    "plt.title('Truth or Bluff')\n",
    "plt.show()"
   ]
  }
 ],
 "metadata": {
  "kernelspec": {
   "display_name": "Python 3",
   "language": "python",
   "name": "python3"
  },
  "language_info": {
   "codemirror_mode": {
    "name": "ipython",
    "version": 3
   },
   "file_extension": ".py",
   "mimetype": "text/x-python",
   "name": "python",
   "nbconvert_exporter": "python",
   "pygments_lexer": "ipython3",
   "version": "3.7.10"
  },
  "papermill": {
   "default_parameters": {},
   "duration": 9.4954,
   "end_time": "2021-08-07T08:12:54.807892",
   "environment_variables": {},
   "exception": null,
   "input_path": "__notebook__.ipynb",
   "output_path": "__notebook__.ipynb",
   "parameters": {},
   "start_time": "2021-08-07T08:12:45.312492",
   "version": "2.3.3"
  }
 },
 "nbformat": 4,
 "nbformat_minor": 5
}
