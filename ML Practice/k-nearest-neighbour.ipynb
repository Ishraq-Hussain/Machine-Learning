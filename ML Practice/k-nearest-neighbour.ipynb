{
 "cells": [
  {
   "cell_type": "code",
   "execution_count": 1,
   "id": "ff4834ef",
   "metadata": {
    "_cell_guid": "b1076dfc-b9ad-4769-8c92-a6c4dae69d19",
    "_uuid": "8f2839f25d086af736a60e9eeb907d3b93b6e0e5",
    "execution": {
     "iopub.execute_input": "2021-08-08T09:05:22.753416Z",
     "iopub.status.busy": "2021-08-08T09:05:22.750099Z",
     "iopub.status.idle": "2021-08-08T09:05:22.765715Z",
     "shell.execute_reply": "2021-08-08T09:05:22.768670Z",
     "shell.execute_reply.started": "2021-08-08T08:25:21.807182Z"
    },
    "papermill": {
     "duration": 0.03816,
     "end_time": "2021-08-08T09:05:22.768948",
     "exception": false,
     "start_time": "2021-08-08T09:05:22.730788",
     "status": "completed"
    },
    "tags": []
   },
   "outputs": [
    {
     "name": "stdout",
     "output_type": "stream",
     "text": [
      "/kaggle/input/social-network-ads/Social_Network_Ads.csv\n"
     ]
    }
   ],
   "source": [
    "# This Python 3 environment comes with many helpful analytics libraries installed\n",
    "# It is defined by the kaggle/python Docker image: https://github.com/kaggle/docker-python\n",
    "# For example, here's several helpful packages to load\n",
    "\n",
    "import numpy as np # linear algebra\n",
    "import pandas as pd # data processing, CSV file I/O (e.g. pd.read_csv)\n",
    "\n",
    "# Input data files are available in the read-only \"../input/\" directory\n",
    "# For example, running this (by clicking run or pressing Shift+Enter) will list all files under the input directory\n",
    "\n",
    "import os\n",
    "for dirname, _, filenames in os.walk('/kaggle/input'):\n",
    "    for filename in filenames:\n",
    "        print(os.path.join(dirname, filename))\n",
    "\n",
    "# You can write up to 20GB to the current directory (/kaggle/working/) that gets preserved as output when you create a version using \"Save & Run All\" \n",
    "# You can also write temporary files to /kaggle/temp/, but they won't be saved outside of the current session"
   ]
  },
  {
   "cell_type": "code",
   "execution_count": 2,
   "id": "d437531e",
   "metadata": {
    "execution": {
     "iopub.execute_input": "2021-08-08T09:05:22.794419Z",
     "iopub.status.busy": "2021-08-08T09:05:22.793515Z",
     "iopub.status.idle": "2021-08-08T09:05:22.796258Z",
     "shell.execute_reply": "2021-08-08T09:05:22.795718Z",
     "shell.execute_reply.started": "2021-08-08T08:25:55.773843Z"
    },
    "papermill": {
     "duration": 0.015753,
     "end_time": "2021-08-08T09:05:22.796391",
     "exception": false,
     "start_time": "2021-08-08T09:05:22.780638",
     "status": "completed"
    },
    "tags": []
   },
   "outputs": [],
   "source": [
    "#Importing Libraries\n",
    "import numpy as np\n",
    "import pandas as pd\n",
    "import matplotlib.pyplot as plt"
   ]
  },
  {
   "cell_type": "code",
   "execution_count": 3,
   "id": "ea57c576",
   "metadata": {
    "execution": {
     "iopub.execute_input": "2021-08-08T09:05:22.817838Z",
     "iopub.status.busy": "2021-08-08T09:05:22.816900Z",
     "iopub.status.idle": "2021-08-08T09:05:22.932391Z",
     "shell.execute_reply": "2021-08-08T09:05:22.931898Z",
     "shell.execute_reply.started": "2021-08-08T08:27:41.041001Z"
    },
    "papermill": {
     "duration": 0.127211,
     "end_time": "2021-08-08T09:05:22.932521",
     "exception": false,
     "start_time": "2021-08-08T09:05:22.805310",
     "status": "completed"
    },
    "tags": []
   },
   "outputs": [
    {
     "data": {
      "text/html": [
       "<div>\n",
       "<style scoped>\n",
       "    .dataframe tbody tr th:only-of-type {\n",
       "        vertical-align: middle;\n",
       "    }\n",
       "\n",
       "    .dataframe tbody tr th {\n",
       "        vertical-align: top;\n",
       "    }\n",
       "\n",
       "    .dataframe thead th {\n",
       "        text-align: right;\n",
       "    }\n",
       "</style>\n",
       "<table border=\"1\" class=\"dataframe\">\n",
       "  <thead>\n",
       "    <tr style=\"text-align: right;\">\n",
       "      <th></th>\n",
       "      <th>User ID</th>\n",
       "      <th>Gender</th>\n",
       "      <th>Age</th>\n",
       "      <th>EstimatedSalary</th>\n",
       "      <th>Purchased</th>\n",
       "    </tr>\n",
       "  </thead>\n",
       "  <tbody>\n",
       "    <tr>\n",
       "      <th>0</th>\n",
       "      <td>15624510</td>\n",
       "      <td>Male</td>\n",
       "      <td>19</td>\n",
       "      <td>19000</td>\n",
       "      <td>0</td>\n",
       "    </tr>\n",
       "    <tr>\n",
       "      <th>1</th>\n",
       "      <td>15810944</td>\n",
       "      <td>Male</td>\n",
       "      <td>35</td>\n",
       "      <td>20000</td>\n",
       "      <td>0</td>\n",
       "    </tr>\n",
       "    <tr>\n",
       "      <th>2</th>\n",
       "      <td>15668575</td>\n",
       "      <td>Female</td>\n",
       "      <td>26</td>\n",
       "      <td>43000</td>\n",
       "      <td>0</td>\n",
       "    </tr>\n",
       "    <tr>\n",
       "      <th>3</th>\n",
       "      <td>15603246</td>\n",
       "      <td>Female</td>\n",
       "      <td>27</td>\n",
       "      <td>57000</td>\n",
       "      <td>0</td>\n",
       "    </tr>\n",
       "    <tr>\n",
       "      <th>4</th>\n",
       "      <td>15804002</td>\n",
       "      <td>Male</td>\n",
       "      <td>19</td>\n",
       "      <td>76000</td>\n",
       "      <td>0</td>\n",
       "    </tr>\n",
       "  </tbody>\n",
       "</table>\n",
       "</div>"
      ],
      "text/plain": [
       "    User ID  Gender  Age  EstimatedSalary  Purchased\n",
       "0  15624510    Male   19            19000          0\n",
       "1  15810944    Male   35            20000          0\n",
       "2  15668575  Female   26            43000          0\n",
       "3  15603246  Female   27            57000          0\n",
       "4  15804002    Male   19            76000          0"
      ]
     },
     "execution_count": 3,
     "metadata": {},
     "output_type": "execute_result"
    }
   ],
   "source": [
    "#Dataset importing\n",
    "df = pd.read_csv('/kaggle/input/social-network-ads/Social_Network_Ads.csv')\n",
    "df.head()"
   ]
  },
  {
   "cell_type": "code",
   "execution_count": 4,
   "id": "375278fb",
   "metadata": {
    "execution": {
     "iopub.execute_input": "2021-08-08T09:05:22.956698Z",
     "iopub.status.busy": "2021-08-08T09:05:22.956132Z",
     "iopub.status.idle": "2021-08-08T09:05:22.960412Z",
     "shell.execute_reply": "2021-08-08T09:05:22.959391Z",
     "shell.execute_reply.started": "2021-08-08T08:30:58.901187Z"
    },
    "papermill": {
     "duration": 0.018812,
     "end_time": "2021-08-08T09:05:22.960602",
     "exception": false,
     "start_time": "2021-08-08T09:05:22.941790",
     "status": "completed"
    },
    "tags": []
   },
   "outputs": [],
   "source": [
    "x = df.iloc[:, [2,3]].values\n",
    "y = df.iloc[:, -1].values"
   ]
  },
  {
   "cell_type": "code",
   "execution_count": 5,
   "id": "e9c4f09f",
   "metadata": {
    "execution": {
     "iopub.execute_input": "2021-08-08T09:05:22.993344Z",
     "iopub.status.busy": "2021-08-08T09:05:22.992521Z",
     "iopub.status.idle": "2021-08-08T09:05:23.885294Z",
     "shell.execute_reply": "2021-08-08T09:05:23.885705Z",
     "shell.execute_reply.started": "2021-08-08T08:32:20.570614Z"
    },
    "papermill": {
     "duration": 0.911198,
     "end_time": "2021-08-08T09:05:23.885878",
     "exception": false,
     "start_time": "2021-08-08T09:05:22.974680",
     "status": "completed"
    },
    "tags": []
   },
   "outputs": [],
   "source": [
    "#Spliting the dataset into training set and test set\n",
    "from sklearn.model_selection import train_test_split\n",
    "x_train, x_test, y_train, y_test = train_test_split(x, y, test_size=0.2)"
   ]
  },
  {
   "cell_type": "code",
   "execution_count": 6,
   "id": "679cd079",
   "metadata": {
    "execution": {
     "iopub.execute_input": "2021-08-08T09:05:23.906769Z",
     "iopub.status.busy": "2021-08-08T09:05:23.906257Z",
     "iopub.status.idle": "2021-08-08T09:05:23.910620Z",
     "shell.execute_reply": "2021-08-08T09:05:23.910999Z",
     "shell.execute_reply.started": "2021-08-08T08:46:36.990306Z"
    },
    "papermill": {
     "duration": 0.015824,
     "end_time": "2021-08-08T09:05:23.911159",
     "exception": false,
     "start_time": "2021-08-08T09:05:23.895335",
     "status": "completed"
    },
    "tags": []
   },
   "outputs": [
    {
     "data": {
      "text/plain": [
       "array([0, 0, 0, 0, 0, 1, 1, 0, 0, 0, 0, 0, 0, 1, 0, 0, 0, 0, 0, 0, 1, 1,\n",
       "       0, 0, 0, 0, 0, 1, 0, 0, 0, 1, 0, 0, 1, 0, 0, 0, 1, 1, 1, 0, 0, 0,\n",
       "       0, 0, 0, 1, 0, 1, 1, 1, 0, 0, 0, 0, 0, 0, 0, 1, 0, 0, 1, 0, 0, 0,\n",
       "       0, 1, 0, 1, 0, 0, 0, 0, 1, 1, 0, 0, 1, 1])"
      ]
     },
     "execution_count": 6,
     "metadata": {},
     "output_type": "execute_result"
    }
   ],
   "source": [
    "y_test"
   ]
  },
  {
   "cell_type": "code",
   "execution_count": 7,
   "id": "0f4fa208",
   "metadata": {
    "execution": {
     "iopub.execute_input": "2021-08-08T09:05:23.932404Z",
     "iopub.status.busy": "2021-08-08T09:05:23.931835Z",
     "iopub.status.idle": "2021-08-08T09:05:23.937452Z",
     "shell.execute_reply": "2021-08-08T09:05:23.937031Z",
     "shell.execute_reply.started": "2021-08-08T08:33:23.585640Z"
    },
    "papermill": {
     "duration": 0.017174,
     "end_time": "2021-08-08T09:05:23.937574",
     "exception": false,
     "start_time": "2021-08-08T09:05:23.920400",
     "status": "completed"
    },
    "tags": []
   },
   "outputs": [],
   "source": [
    "#Feature Scaling\n",
    "from sklearn.preprocessing import StandardScaler\n",
    "sc_x = StandardScaler()\n",
    "x_train = sc_x.fit_transform(x_train)\n",
    "x_test = sc_x.transform(x_test)"
   ]
  },
  {
   "cell_type": "code",
   "execution_count": 8,
   "id": "fe4d6aa3",
   "metadata": {
    "execution": {
     "iopub.execute_input": "2021-08-08T09:05:23.961212Z",
     "iopub.status.busy": "2021-08-08T09:05:23.960652Z",
     "iopub.status.idle": "2021-08-08T09:05:24.106030Z",
     "shell.execute_reply": "2021-08-08T09:05:24.105534Z",
     "shell.execute_reply.started": "2021-08-08T08:42:42.446414Z"
    },
    "papermill": {
     "duration": 0.158953,
     "end_time": "2021-08-08T09:05:24.106168",
     "exception": false,
     "start_time": "2021-08-08T09:05:23.947215",
     "status": "completed"
    },
    "tags": []
   },
   "outputs": [
    {
     "data": {
      "text/plain": [
       "KNeighborsClassifier()"
      ]
     },
     "execution_count": 8,
     "metadata": {},
     "output_type": "execute_result"
    }
   ],
   "source": [
    "#Creating and fitting training datta in our model or classifier\n",
    "from sklearn.neighbors import KNeighborsClassifier\n",
    "classifier = KNeighborsClassifier(n_neighbors=5, metric='minkowski', p=2)\n",
    "classifier.fit(x_train, y_train)"
   ]
  },
  {
   "cell_type": "code",
   "execution_count": 9,
   "id": "11ae5207",
   "metadata": {
    "execution": {
     "iopub.execute_input": "2021-08-08T09:05:24.131628Z",
     "iopub.status.busy": "2021-08-08T09:05:24.131054Z",
     "iopub.status.idle": "2021-08-08T09:05:24.138387Z",
     "shell.execute_reply": "2021-08-08T09:05:24.137826Z",
     "shell.execute_reply.started": "2021-08-08T08:43:25.718522Z"
    },
    "papermill": {
     "duration": 0.02186,
     "end_time": "2021-08-08T09:05:24.138512",
     "exception": false,
     "start_time": "2021-08-08T09:05:24.116652",
     "status": "completed"
    },
    "tags": []
   },
   "outputs": [
    {
     "data": {
      "text/plain": [
       "0.925"
      ]
     },
     "execution_count": 9,
     "metadata": {},
     "output_type": "execute_result"
    }
   ],
   "source": [
    "#Scoring the classifier\n",
    "classifier.score(x_test, y_test)"
   ]
  },
  {
   "cell_type": "code",
   "execution_count": 10,
   "id": "ba2c1754",
   "metadata": {
    "execution": {
     "iopub.execute_input": "2021-08-08T09:05:24.165262Z",
     "iopub.status.busy": "2021-08-08T09:05:24.164330Z",
     "iopub.status.idle": "2021-08-08T09:05:24.177416Z",
     "shell.execute_reply": "2021-08-08T09:05:24.176945Z",
     "shell.execute_reply.started": "2021-08-08T08:49:08.171335Z"
    },
    "papermill": {
     "duration": 0.029012,
     "end_time": "2021-08-08T09:05:24.177551",
     "exception": false,
     "start_time": "2021-08-08T09:05:24.148539",
     "status": "completed"
    },
    "tags": []
   },
   "outputs": [
    {
     "data": {
      "text/html": [
       "<div>\n",
       "<style scoped>\n",
       "    .dataframe tbody tr th:only-of-type {\n",
       "        vertical-align: middle;\n",
       "    }\n",
       "\n",
       "    .dataframe tbody tr th {\n",
       "        vertical-align: top;\n",
       "    }\n",
       "\n",
       "    .dataframe thead th {\n",
       "        text-align: right;\n",
       "    }\n",
       "</style>\n",
       "<table border=\"1\" class=\"dataframe\">\n",
       "  <thead>\n",
       "    <tr style=\"text-align: right;\">\n",
       "      <th></th>\n",
       "      <th>Y_pred</th>\n",
       "      <th>Y_test</th>\n",
       "    </tr>\n",
       "  </thead>\n",
       "  <tbody>\n",
       "    <tr>\n",
       "      <th>0</th>\n",
       "      <td>0</td>\n",
       "      <td>0</td>\n",
       "    </tr>\n",
       "    <tr>\n",
       "      <th>1</th>\n",
       "      <td>0</td>\n",
       "      <td>0</td>\n",
       "    </tr>\n",
       "    <tr>\n",
       "      <th>2</th>\n",
       "      <td>0</td>\n",
       "      <td>0</td>\n",
       "    </tr>\n",
       "    <tr>\n",
       "      <th>3</th>\n",
       "      <td>0</td>\n",
       "      <td>0</td>\n",
       "    </tr>\n",
       "    <tr>\n",
       "      <th>4</th>\n",
       "      <td>0</td>\n",
       "      <td>0</td>\n",
       "    </tr>\n",
       "    <tr>\n",
       "      <th>...</th>\n",
       "      <td>...</td>\n",
       "      <td>...</td>\n",
       "    </tr>\n",
       "    <tr>\n",
       "      <th>75</th>\n",
       "      <td>1</td>\n",
       "      <td>1</td>\n",
       "    </tr>\n",
       "    <tr>\n",
       "      <th>76</th>\n",
       "      <td>0</td>\n",
       "      <td>0</td>\n",
       "    </tr>\n",
       "    <tr>\n",
       "      <th>77</th>\n",
       "      <td>0</td>\n",
       "      <td>0</td>\n",
       "    </tr>\n",
       "    <tr>\n",
       "      <th>78</th>\n",
       "      <td>1</td>\n",
       "      <td>1</td>\n",
       "    </tr>\n",
       "    <tr>\n",
       "      <th>79</th>\n",
       "      <td>1</td>\n",
       "      <td>1</td>\n",
       "    </tr>\n",
       "  </tbody>\n",
       "</table>\n",
       "<p>80 rows × 2 columns</p>\n",
       "</div>"
      ],
      "text/plain": [
       "    Y_pred  Y_test\n",
       "0        0       0\n",
       "1        0       0\n",
       "2        0       0\n",
       "3        0       0\n",
       "4        0       0\n",
       "..     ...     ...\n",
       "75       1       1\n",
       "76       0       0\n",
       "77       0       0\n",
       "78       1       1\n",
       "79       1       1\n",
       "\n",
       "[80 rows x 2 columns]"
      ]
     },
     "execution_count": 10,
     "metadata": {},
     "output_type": "execute_result"
    }
   ],
   "source": [
    "#Prediction of y_test\n",
    "y_pred = classifier.predict(x_test)\n",
    "pd.DataFrame(np.hstack((y_pred.reshape(-1,1), y_test.reshape(-1,1))), columns=['Y_pred', 'Y_test'])"
   ]
  },
  {
   "cell_type": "code",
   "execution_count": 11,
   "id": "f995ca3a",
   "metadata": {
    "execution": {
     "iopub.execute_input": "2021-08-08T09:05:24.206319Z",
     "iopub.status.busy": "2021-08-08T09:05:24.205650Z",
     "iopub.status.idle": "2021-08-08T09:05:24.208091Z",
     "shell.execute_reply": "2021-08-08T09:05:24.208529Z",
     "shell.execute_reply.started": "2021-08-08T08:51:15.097416Z"
    },
    "papermill": {
     "duration": 0.020202,
     "end_time": "2021-08-08T09:05:24.208685",
     "exception": false,
     "start_time": "2021-08-08T09:05:24.188483",
     "status": "completed"
    },
    "tags": []
   },
   "outputs": [
    {
     "data": {
      "text/plain": [
       "array([[55,  2],\n",
       "       [ 4, 19]])"
      ]
     },
     "execution_count": 11,
     "metadata": {},
     "output_type": "execute_result"
    }
   ],
   "source": [
    "#Confusion Matrix\n",
    "from sklearn.metrics import confusion_matrix\n",
    "cm = confusion_matrix(y_test, y_pred)\n",
    "cm"
   ]
  },
  {
   "cell_type": "code",
   "execution_count": 12,
   "id": "ae2ccd66",
   "metadata": {
    "execution": {
     "iopub.execute_input": "2021-08-08T09:05:24.233037Z",
     "iopub.status.busy": "2021-08-08T09:05:24.232454Z",
     "iopub.status.idle": "2021-08-08T09:05:33.749339Z",
     "shell.execute_reply": "2021-08-08T09:05:33.749818Z",
     "shell.execute_reply.started": "2021-08-08T09:01:29.779328Z"
    },
    "papermill": {
     "duration": 9.53053,
     "end_time": "2021-08-08T09:05:33.749989",
     "exception": false,
     "start_time": "2021-08-08T09:05:24.219459",
     "status": "completed"
    },
    "tags": []
   },
   "outputs": [
    {
     "data": {
      "image/png": "[encoded data removed]",
      "text/plain": [
       "<Figure size 921.6x633.6 with 1 Axes>"
      ]
     },
     "metadata": {
      "needs_background": "light"
     },
     "output_type": "display_data"
    }
   ],
   "source": [
    "#Visualization \n",
    "plt.style.use('seaborn-poster')\n",
    "from matplotlib.colors import ListedColormap\n",
    "x_set, y_set = x_train, y_train\n",
    "x1, x2 = np.meshgrid(np.arange(start=min(x_set[:,0]-1), stop=max(x_set[:, 0]+1), step=0.01), \n",
    "                     np.arange(start=min(x_set[:,1]-1), stop=max(x_set[:, 1]+1), step=0.01))\n",
    "plt.contourf(x1, x2, classifier.predict(np.array([x1.ravel(), x2.ravel()]).T).reshape(x1.shape),\n",
    "            cmap = ListedColormap(('r', 'b')), alpha=0.5)\n",
    "for j in np.unique(y_set):\n",
    "    plt.scatter(x_set[y_set==j,0], x_set[y_set==j, 1], c=ListedColormap(('r', 'b'))(j), label=j)\n",
    "plt.xlabel('Age')\n",
    "plt.ylabel(\"Salary\")\n",
    "plt.title('K-NN (Training Set)')\n",
    "plt.show()"
   ]
  },
  {
   "cell_type": "code",
   "execution_count": 13,
   "id": "cb0cd3d4",
   "metadata": {
    "execution": {
     "iopub.execute_input": "2021-08-08T09:05:33.782765Z",
     "iopub.status.busy": "2021-08-08T09:05:33.782187Z",
     "iopub.status.idle": "2021-08-08T09:05:43.341741Z",
     "shell.execute_reply": "2021-08-08T09:05:43.342187Z",
     "shell.execute_reply.started": "2021-08-08T09:01:55.667967Z"
    },
    "papermill": {
     "duration": 9.579859,
     "end_time": "2021-08-08T09:05:43.342345",
     "exception": false,
     "start_time": "2021-08-08T09:05:33.762486",
     "status": "completed"
    },
    "tags": []
   },
   "outputs": [
    {
     "data": {
      "image/png": "[encoded data removed]",
      "text/plain": [
       "<Figure size 921.6x633.6 with 1 Axes>"
      ]
     },
     "metadata": {
      "needs_background": "light"
     },
     "output_type": "display_data"
    }
   ],
   "source": [
    "#Visualization test set\n",
    "plt.style.use('seaborn-poster')\n",
    "from matplotlib.colors import ListedColormap\n",
    "x_set, y_set = x_test, y_test\n",
    "x1, x2 = np.meshgrid(np.arange(start=min(x_set[:,0]-1), stop=max(x_set[:, 0]+1), step=0.01), \n",
    "                     np.arange(start=min(x_set[:,1]-1), stop=max(x_set[:, 1]+1), step=0.01))\n",
    "plt.contourf(x1, x2, classifier.predict(np.array([x1.ravel(), x2.ravel()]).T).reshape(x1.shape),\n",
    "            cmap = ListedColormap(('r', 'b')), alpha=0.5)\n",
    "for j in np.unique(y_set):\n",
    "    plt.scatter(x_set[y_set==j,0], x_set[y_set==j, 1], c=ListedColormap(('r', 'b'))(j), label=j)\n",
    "plt.xlabel('Age')\n",
    "plt.ylabel(\"Salary\")\n",
    "plt.title('K-NN (Training Set)')\n",
    "plt.show()"
   ]
  }
 ],
 "metadata": {
  "kernelspec": {
   "display_name": "Python 3",
   "language": "python",
   "name": "python3"
  },
  "language_info": {
   "codemirror_mode": {
    "name": "ipython",
    "version": 3
   },
   "file_extension": ".py",
   "mimetype": "text/x-python",
   "name": "python",
   "nbconvert_exporter": "python",
   "pygments_lexer": "ipython3",
   "version": "3.7.10"
  },
  "papermill": {
   "default_parameters": {},
   "duration": 28.523494,
   "end_time": "2021-08-08T09:05:44.064655",
   "environment_variables": {},
   "exception": null,
   "input_path": "__notebook__.ipynb",
   "output_path": "__notebook__.ipynb",
   "parameters": {},
   "start_time": "2021-08-08T09:05:15.541161",
   "version": "2.3.3"
  }
 },
 "nbformat": 4,
 "nbformat_minor": 5
}
