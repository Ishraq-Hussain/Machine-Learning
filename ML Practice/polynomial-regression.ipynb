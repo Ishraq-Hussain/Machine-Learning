{
 "cells": [
  {
   "cell_type": "code",
   "execution_count": 1,
   "id": "4855e697",
   "metadata": {
    "_cell_guid": "b1076dfc-b9ad-4769-8c92-a6c4dae69d19",
    "_uuid": "8f2839f25d086af736a60e9eeb907d3b93b6e0e5",
    "execution": {
     "iopub.execute_input": "2021-08-02T11:55:25.804551Z",
     "iopub.status.busy": "2021-08-02T11:55:25.803268Z",
     "iopub.status.idle": "2021-08-02T11:55:25.827304Z",
     "shell.execute_reply": "2021-08-02T11:55:25.828032Z",
     "shell.execute_reply.started": "2021-08-02T11:52:56.790999Z"
    },
    "papermill": {
     "duration": 0.043362,
     "end_time": "2021-08-02T11:55:25.828419",
     "exception": false,
     "start_time": "2021-08-02T11:55:25.785057",
     "status": "completed"
    },
    "tags": []
   },
   "outputs": [
    {
     "name": "stdout",
     "output_type": "stream",
     "text": [
      "/kaggle/input/position-salary-dataset/Position_Salaries.csv\n"
     ]
    }
   ],
   "source": [
    "# This Python 3 environment comes with many helpful analytics libraries installed\n",
    "# It is defined by the kaggle/python Docker image: https://github.com/kaggle/docker-python\n",
    "# For example, here's several helpful packages to load\n",
    "\n",
    "import numpy as np # linear algebra\n",
    "import pandas as pd # data processing, CSV file I/O (e.g. pd.read_csv)\n",
    "\n",
    "# Input data files are available in the read-only \"../input/\" directory\n",
    "# For example, running this (by clicking run or pressing Shift+Enter) will list all files under the input directory\n",
    "\n",
    "import os\n",
    "for dirname, _, filenames in os.walk('/kaggle/input'):\n",
    "    for filename in filenames:\n",
    "        print(os.path.join(dirname, filename))\n",
    "\n",
    "# You can write up to 20GB to the current directory (/kaggle/working/) that gets preserved as output when you create a version using \"Save & Run All\" \n",
    "# You can also write temporary files to /kaggle/temp/, but they won't be saved outside of the current session"
   ]
  },
  {
   "cell_type": "markdown",
   "id": "2c899bc9",
   "metadata": {
    "papermill": {
     "duration": 0.010881,
     "end_time": "2021-08-02T11:55:25.851943",
     "exception": false,
     "start_time": "2021-08-02T11:55:25.841062",
     "status": "completed"
    },
    "tags": []
   },
   "source": [
    "**Importing Libraries**"
   ]
  },
  {
   "cell_type": "code",
   "execution_count": 2,
   "id": "d3f3c86e",
   "metadata": {
    "execution": {
     "iopub.execute_input": "2021-08-02T11:55:25.881663Z",
     "iopub.status.busy": "2021-08-02T11:55:25.881018Z",
     "iopub.status.idle": "2021-08-02T11:55:25.883683Z",
     "shell.execute_reply": "2021-08-02T11:55:25.884091Z",
     "shell.execute_reply.started": "2021-08-02T11:52:56.812175Z"
    },
    "papermill": {
     "duration": 0.018603,
     "end_time": "2021-08-02T11:55:25.884261",
     "exception": false,
     "start_time": "2021-08-02T11:55:25.865658",
     "status": "completed"
    },
    "tags": []
   },
   "outputs": [],
   "source": [
    "import numpy as np\n",
    "import pandas as pd\n",
    "import matplotlib.pyplot as plt"
   ]
  },
  {
   "cell_type": "markdown",
   "id": "d3723da9",
   "metadata": {
    "papermill": {
     "duration": 0.011028,
     "end_time": "2021-08-02T11:55:25.906737",
     "exception": false,
     "start_time": "2021-08-02T11:55:25.895709",
     "status": "completed"
    },
    "tags": []
   },
   "source": [
    "**Importing dataset**"
   ]
  },
  {
   "cell_type": "code",
   "execution_count": 3,
   "id": "ff7df0ba",
   "metadata": {
    "execution": {
     "iopub.execute_input": "2021-08-02T11:55:25.934783Z",
     "iopub.status.busy": "2021-08-02T11:55:25.934141Z",
     "iopub.status.idle": "2021-08-02T11:55:26.066791Z",
     "shell.execute_reply": "2021-08-02T11:55:26.067424Z",
     "shell.execute_reply.started": "2021-08-02T11:52:56.821148Z"
    },
    "papermill": {
     "duration": 0.149357,
     "end_time": "2021-08-02T11:55:26.067653",
     "exception": false,
     "start_time": "2021-08-02T11:55:25.918296",
     "status": "completed"
    },
    "tags": []
   },
   "outputs": [
    {
     "name": "stdout",
     "output_type": "stream",
     "text": [
      "<class 'pandas.core.frame.DataFrame'>\n",
      "RangeIndex: 10 entries, 0 to 9\n",
      "Data columns (total 3 columns):\n",
      " #   Column    Non-Null Count  Dtype \n",
      "---  ------    --------------  ----- \n",
      " 0   Position  10 non-null     object\n",
      " 1   Level     10 non-null     int64 \n",
      " 2   Salary    10 non-null     int64 \n",
      "dtypes: int64(2), object(1)\n",
      "memory usage: 368.0+ bytes\n",
      "None\n"
     ]
    },
    {
     "data": {
      "text/html": [
       "<div>\n",
       "<style scoped>\n",
       "    .dataframe tbody tr th:only-of-type {\n",
       "        vertical-align: middle;\n",
       "    }\n",
       "\n",
       "    .dataframe tbody tr th {\n",
       "        vertical-align: top;\n",
       "    }\n",
       "\n",
       "    .dataframe thead th {\n",
       "        text-align: right;\n",
       "    }\n",
       "</style>\n",
       "<table border=\"1\" class=\"dataframe\">\n",
       "  <thead>\n",
       "    <tr style=\"text-align: right;\">\n",
       "      <th></th>\n",
       "      <th>Position</th>\n",
       "      <th>Level</th>\n",
       "      <th>Salary</th>\n",
       "    </tr>\n",
       "  </thead>\n",
       "  <tbody>\n",
       "    <tr>\n",
       "      <th>0</th>\n",
       "      <td>Business Analyst</td>\n",
       "      <td>1</td>\n",
       "      <td>45000</td>\n",
       "    </tr>\n",
       "    <tr>\n",
       "      <th>1</th>\n",
       "      <td>Junior Consultant</td>\n",
       "      <td>2</td>\n",
       "      <td>50000</td>\n",
       "    </tr>\n",
       "    <tr>\n",
       "      <th>2</th>\n",
       "      <td>Senior Consultant</td>\n",
       "      <td>3</td>\n",
       "      <td>60000</td>\n",
       "    </tr>\n",
       "    <tr>\n",
       "      <th>3</th>\n",
       "      <td>Manager</td>\n",
       "      <td>4</td>\n",
       "      <td>80000</td>\n",
       "    </tr>\n",
       "    <tr>\n",
       "      <th>4</th>\n",
       "      <td>Country Manager</td>\n",
       "      <td>5</td>\n",
       "      <td>110000</td>\n",
       "    </tr>\n",
       "    <tr>\n",
       "      <th>5</th>\n",
       "      <td>Region Manager</td>\n",
       "      <td>6</td>\n",
       "      <td>150000</td>\n",
       "    </tr>\n",
       "    <tr>\n",
       "      <th>6</th>\n",
       "      <td>Partner</td>\n",
       "      <td>7</td>\n",
       "      <td>200000</td>\n",
       "    </tr>\n",
       "    <tr>\n",
       "      <th>7</th>\n",
       "      <td>Senior Partner</td>\n",
       "      <td>8</td>\n",
       "      <td>300000</td>\n",
       "    </tr>\n",
       "    <tr>\n",
       "      <th>8</th>\n",
       "      <td>C-level</td>\n",
       "      <td>9</td>\n",
       "      <td>500000</td>\n",
       "    </tr>\n",
       "    <tr>\n",
       "      <th>9</th>\n",
       "      <td>CEO</td>\n",
       "      <td>10</td>\n",
       "      <td>1000000</td>\n",
       "    </tr>\n",
       "  </tbody>\n",
       "</table>\n",
       "</div>"
      ],
      "text/plain": [
       "            Position  Level   Salary\n",
       "0   Business Analyst      1    45000\n",
       "1  Junior Consultant      2    50000\n",
       "2  Senior Consultant      3    60000\n",
       "3            Manager      4    80000\n",
       "4    Country Manager      5   110000\n",
       "5     Region Manager      6   150000\n",
       "6            Partner      7   200000\n",
       "7     Senior Partner      8   300000\n",
       "8            C-level      9   500000\n",
       "9                CEO     10  1000000"
      ]
     },
     "execution_count": 3,
     "metadata": {},
     "output_type": "execute_result"
    }
   ],
   "source": [
    "df = pd.read_csv('/kaggle/input/position-salary-dataset/Position_Salaries.csv')\n",
    "print(df.info())\n",
    "df"
   ]
  },
  {
   "cell_type": "code",
   "execution_count": 4,
   "id": "f74020eb",
   "metadata": {
    "execution": {
     "iopub.execute_input": "2021-08-02T11:55:26.098338Z",
     "iopub.status.busy": "2021-08-02T11:55:26.097605Z",
     "iopub.status.idle": "2021-08-02T11:55:26.102181Z",
     "shell.execute_reply": "2021-08-02T11:55:26.101520Z",
     "shell.execute_reply.started": "2021-08-02T11:52:56.954623Z"
    },
    "papermill": {
     "duration": 0.022448,
     "end_time": "2021-08-02T11:55:26.102391",
     "exception": false,
     "start_time": "2021-08-02T11:55:26.079943",
     "status": "completed"
    },
    "tags": []
   },
   "outputs": [
    {
     "name": "stdout",
     "output_type": "stream",
     "text": [
      "[[ 1]\n",
      " [ 2]\n",
      " [ 3]\n",
      " [ 4]\n",
      " [ 5]\n",
      " [ 6]\n",
      " [ 7]\n",
      " [ 8]\n",
      " [ 9]\n",
      " [10]]\n",
      "[  45000   50000   60000   80000  110000  150000  200000  300000  500000\n",
      " 1000000]\n"
     ]
    }
   ],
   "source": [
    "X = df.iloc[:,[1]].values\n",
    "y = df.iloc[:, -1].values\n",
    "print(X)\n",
    "print(y)"
   ]
  },
  {
   "cell_type": "markdown",
   "id": "011baa54",
   "metadata": {
    "papermill": {
     "duration": 0.011803,
     "end_time": "2021-08-02T11:55:26.128046",
     "exception": false,
     "start_time": "2021-08-02T11:55:26.116243",
     "status": "completed"
    },
    "tags": []
   },
   "source": [
    "**Ploting the independent and dependent variable to get an idea of which model to use**"
   ]
  },
  {
   "cell_type": "code",
   "execution_count": 5,
   "id": "1d63db74",
   "metadata": {
    "execution": {
     "iopub.execute_input": "2021-08-02T11:55:26.170440Z",
     "iopub.status.busy": "2021-08-02T11:55:26.169784Z",
     "iopub.status.idle": "2021-08-02T11:55:26.321431Z",
     "shell.execute_reply": "2021-08-02T11:55:26.320448Z",
     "shell.execute_reply.started": "2021-08-02T11:52:56.963779Z"
    },
    "papermill": {
     "duration": 0.181549,
     "end_time": "2021-08-02T11:55:26.321662",
     "exception": false,
     "start_time": "2021-08-02T11:55:26.140113",
     "status": "completed"
    },
    "tags": []
   },
   "outputs": [
    {
     "data": {
      "image/png": "[encoded data removed]",
      "text/plain": [
       "<Figure size 432x288 with 1 Axes>"
      ]
     },
     "metadata": {
      "needs_background": "light"
     },
     "output_type": "display_data"
    }
   ],
   "source": [
    "plt.scatter(X, y, color='red', marker='*')\n",
    "plt.xlabel('Job level')\n",
    "plt.ylabel('Salary')\n",
    "plt.show()"
   ]
  },
  {
   "cell_type": "markdown",
   "id": "b043c1bc",
   "metadata": {
    "papermill": {
     "duration": 0.01604,
     "end_time": "2021-08-02T11:55:26.359460",
     "exception": false,
     "start_time": "2021-08-02T11:55:26.343420",
     "status": "completed"
    },
    "tags": []
   },
   "source": [
    "From plot we see that datapoints are not linear. So, Simple Linear Regreesion will not be the best choice for this data"
   ]
  },
  {
   "cell_type": "code",
   "execution_count": 6,
   "id": "5c0f367b",
   "metadata": {
    "execution": {
     "iopub.execute_input": "2021-08-02T11:55:26.390050Z",
     "iopub.status.busy": "2021-08-02T11:55:26.389428Z",
     "iopub.status.idle": "2021-08-02T11:55:27.636677Z",
     "shell.execute_reply": "2021-08-02T11:55:27.637144Z",
     "shell.execute_reply.started": "2021-08-02T11:52:57.117222Z"
    },
    "papermill": {
     "duration": 1.264888,
     "end_time": "2021-08-02T11:55:27.637309",
     "exception": false,
     "start_time": "2021-08-02T11:55:26.372421",
     "status": "completed"
    },
    "tags": []
   },
   "outputs": [
    {
     "data": {
      "text/plain": [
       "LinearRegression()"
      ]
     },
     "execution_count": 6,
     "metadata": {},
     "output_type": "execute_result"
    }
   ],
   "source": [
    "from sklearn.linear_model import LinearRegression\n",
    "lin_reg = LinearRegression()\n",
    "lin_reg.fit(X,y)"
   ]
  },
  {
   "cell_type": "code",
   "execution_count": 7,
   "id": "acaf413d",
   "metadata": {
    "execution": {
     "iopub.execute_input": "2021-08-02T11:55:27.669385Z",
     "iopub.status.busy": "2021-08-02T11:55:27.668479Z",
     "iopub.status.idle": "2021-08-02T11:55:27.672106Z",
     "shell.execute_reply": "2021-08-02T11:55:27.672524Z",
     "shell.execute_reply.started": "2021-08-02T11:52:58.216048Z"
    },
    "papermill": {
     "duration": 0.022459,
     "end_time": "2021-08-02T11:55:27.672691",
     "exception": false,
     "start_time": "2021-08-02T11:55:27.650232",
     "status": "completed"
    },
    "tags": []
   },
   "outputs": [
    {
     "data": {
      "text/plain": [
       "array([330378.78787879])"
      ]
     },
     "execution_count": 7,
     "metadata": {},
     "output_type": "execute_result"
    }
   ],
   "source": [
    "lin_reg.predict([[6.5]])"
   ]
  },
  {
   "cell_type": "markdown",
   "id": "53f01533",
   "metadata": {
    "papermill": {
     "duration": 0.013352,
     "end_time": "2021-08-02T11:55:27.699061",
     "exception": false,
     "start_time": "2021-08-02T11:55:27.685709",
     "status": "completed"
    },
    "tags": []
   },
   "source": [
    "This data point will fit best in case of polynomial regression. For Polynomial Regression our eqn: y = b0 + b1.x + b2.x + b3.x +..........+ bn.x"
   ]
  },
  {
   "cell_type": "markdown",
   "id": "f2d90bdb",
   "metadata": {
    "papermill": {
     "duration": 0.013198,
     "end_time": "2021-08-02T11:55:27.725822",
     "exception": false,
     "start_time": "2021-08-02T11:55:27.712624",
     "status": "completed"
    },
    "tags": []
   },
   "source": [
    "So, first we will transfrom our matrix of feature "
   ]
  },
  {
   "cell_type": "code",
   "execution_count": 8,
   "id": "c87675e8",
   "metadata": {
    "execution": {
     "iopub.execute_input": "2021-08-02T11:55:27.756878Z",
     "iopub.status.busy": "2021-08-02T11:55:27.755929Z",
     "iopub.status.idle": "2021-08-02T11:55:27.763156Z",
     "shell.execute_reply": "2021-08-02T11:55:27.763669Z",
     "shell.execute_reply.started": "2021-08-02T11:52:58.223186Z"
    },
    "papermill": {
     "duration": 0.0244,
     "end_time": "2021-08-02T11:55:27.763834",
     "exception": false,
     "start_time": "2021-08-02T11:55:27.739434",
     "status": "completed"
    },
    "tags": []
   },
   "outputs": [
    {
     "data": {
      "text/plain": [
       "array([[1.000e+00, 1.000e+00, 1.000e+00, 1.000e+00, 1.000e+00],\n",
       "       [1.000e+00, 2.000e+00, 4.000e+00, 8.000e+00, 1.600e+01],\n",
       "       [1.000e+00, 3.000e+00, 9.000e+00, 2.700e+01, 8.100e+01],\n",
       "       [1.000e+00, 4.000e+00, 1.600e+01, 6.400e+01, 2.560e+02],\n",
       "       [1.000e+00, 5.000e+00, 2.500e+01, 1.250e+02, 6.250e+02],\n",
       "       [1.000e+00, 6.000e+00, 3.600e+01, 2.160e+02, 1.296e+03],\n",
       "       [1.000e+00, 7.000e+00, 4.900e+01, 3.430e+02, 2.401e+03],\n",
       "       [1.000e+00, 8.000e+00, 6.400e+01, 5.120e+02, 4.096e+03],\n",
       "       [1.000e+00, 9.000e+00, 8.100e+01, 7.290e+02, 6.561e+03],\n",
       "       [1.000e+00, 1.000e+01, 1.000e+02, 1.000e+03, 1.000e+04]])"
      ]
     },
     "execution_count": 8,
     "metadata": {},
     "output_type": "execute_result"
    }
   ],
   "source": [
    "from sklearn.preprocessing import PolynomialFeatures\n",
    "poly_f = PolynomialFeatures(degree=4)\n",
    "X_poly = poly_f.fit_transform(X)\n",
    "X_poly\n"
   ]
  },
  {
   "cell_type": "markdown",
   "id": "1004989c",
   "metadata": {
    "papermill": {
     "duration": 0.013103,
     "end_time": "2021-08-02T11:55:27.790275",
     "exception": false,
     "start_time": "2021-08-02T11:55:27.777172",
     "status": "completed"
    },
    "tags": []
   },
   "source": [
    "**Creating new regressor to fit our new matrix of feature**"
   ]
  },
  {
   "cell_type": "code",
   "execution_count": 9,
   "id": "e4d0ee6a",
   "metadata": {
    "execution": {
     "iopub.execute_input": "2021-08-02T11:55:27.821968Z",
     "iopub.status.busy": "2021-08-02T11:55:27.821000Z",
     "iopub.status.idle": "2021-08-02T11:55:27.835893Z",
     "shell.execute_reply": "2021-08-02T11:55:27.836316Z",
     "shell.execute_reply.started": "2021-08-02T11:52:58.238428Z"
    },
    "papermill": {
     "duration": 0.032766,
     "end_time": "2021-08-02T11:55:27.836529",
     "exception": false,
     "start_time": "2021-08-02T11:55:27.803763",
     "status": "completed"
    },
    "tags": []
   },
   "outputs": [
    {
     "data": {
      "text/plain": [
       "LinearRegression()"
      ]
     },
     "execution_count": 9,
     "metadata": {},
     "output_type": "execute_result"
    }
   ],
   "source": [
    "regressor = LinearRegression()\n",
    "regressor.fit(poly_f.fit_transform(X), y)"
   ]
  },
  {
   "cell_type": "code",
   "execution_count": 10,
   "id": "514790e4",
   "metadata": {
    "execution": {
     "iopub.execute_input": "2021-08-02T11:55:27.867745Z",
     "iopub.status.busy": "2021-08-02T11:55:27.867097Z",
     "iopub.status.idle": "2021-08-02T11:55:27.873606Z",
     "shell.execute_reply": "2021-08-02T11:55:27.874026Z",
     "shell.execute_reply.started": "2021-08-02T11:52:58.256486Z"
    },
    "papermill": {
     "duration": 0.023711,
     "end_time": "2021-08-02T11:55:27.874213",
     "exception": false,
     "start_time": "2021-08-02T11:55:27.850502",
     "status": "completed"
    },
    "tags": []
   },
   "outputs": [
    {
     "data": {
      "text/plain": [
       "array([158862.45265153])"
      ]
     },
     "execution_count": 10,
     "metadata": {},
     "output_type": "execute_result"
    }
   ],
   "source": [
    "regressor.predict(poly_f.fit_transform([[6.5]]))"
   ]
  },
  {
   "cell_type": "code",
   "execution_count": 11,
   "id": "fdf66c3e",
   "metadata": {
    "execution": {
     "iopub.execute_input": "2021-08-02T11:55:27.906543Z",
     "iopub.status.busy": "2021-08-02T11:55:27.905869Z",
     "iopub.status.idle": "2021-08-02T11:55:27.913291Z",
     "shell.execute_reply": "2021-08-02T11:55:27.912668Z",
     "shell.execute_reply.started": "2021-08-02T11:52:58.267618Z"
    },
    "papermill": {
     "duration": 0.024744,
     "end_time": "2021-08-02T11:55:27.913452",
     "exception": false,
     "start_time": "2021-08-02T11:55:27.888708",
     "status": "completed"
    },
    "tags": []
   },
   "outputs": [
    {
     "name": "stdout",
     "output_type": "stream",
     "text": [
      "Score of Simple Linear Regression Model 0.6690412331929895\n",
      "Score of Polynomial Regression Model 0.9973922891706613\n"
     ]
    }
   ],
   "source": [
    "print(\"Score of Simple Linear Regression Model {}\".format(lin_reg.score(X,y)))\n",
    "print(\"Score of Polynomial Regression Model {}\".format(regressor.score(poly_f.fit_transform(X),y)))"
   ]
  },
  {
   "cell_type": "code",
   "execution_count": 12,
   "id": "8dfcee75",
   "metadata": {
    "execution": {
     "iopub.execute_input": "2021-08-02T11:55:27.971029Z",
     "iopub.status.busy": "2021-08-02T11:55:27.961262Z",
     "iopub.status.idle": "2021-08-02T11:55:28.075199Z",
     "shell.execute_reply": "2021-08-02T11:55:28.074579Z",
     "shell.execute_reply.started": "2021-08-02T11:54:58.082544Z"
    },
    "papermill": {
     "duration": 0.147634,
     "end_time": "2021-08-02T11:55:28.075351",
     "exception": false,
     "start_time": "2021-08-02T11:55:27.927717",
     "status": "completed"
    },
    "tags": []
   },
   "outputs": [
    {
     "data": {
      "image/png": "[encoded data removed]",
      "text/plain": [
       "<Figure size 432x288 with 1 Axes>"
      ]
     },
     "metadata": {
      "needs_background": "light"
     },
     "output_type": "display_data"
    }
   ],
   "source": [
    "X_grid = np.arange(min(X), max(X), 0.01).reshape(-1,1)\n",
    "plt.scatter(X, y, color='red', marker='+')\n",
    "plt.plot(X_grid, regressor.predict(poly_f.fit_transform(X_grid)), color='blue')\n",
    "plt.xlabel('Job Level')\n",
    "plt.ylabel('Salary')\n",
    "plt.show()"
   ]
  },
  {
   "cell_type": "code",
   "execution_count": null,
   "id": "876da480",
   "metadata": {
    "papermill": {
     "duration": 0.01474,
     "end_time": "2021-08-02T11:55:28.105208",
     "exception": false,
     "start_time": "2021-08-02T11:55:28.090468",
     "status": "completed"
    },
    "tags": []
   },
   "outputs": [],
   "source": []
  }
 ],
 "metadata": {
  "kernelspec": {
   "display_name": "Python 3",
   "language": "python",
   "name": "python3"
  },
  "language_info": {
   "codemirror_mode": {
    "name": "ipython",
    "version": 3
   },
   "file_extension": ".py",
   "mimetype": "text/x-python",
   "name": "python",
   "nbconvert_exporter": "python",
   "pygments_lexer": "ipython3",
   "version": "3.7.10"
  },
  "papermill": {
   "default_parameters": {},
   "duration": 10.313935,
   "end_time": "2021-08-02T11:55:28.830366",
   "environment_variables": {},
   "exception": null,
   "input_path": "__notebook__.ipynb",
   "output_path": "__notebook__.ipynb",
   "parameters": {},
   "start_time": "2021-08-02T11:55:18.516431",
   "version": "2.3.3"
  }
 },
 "nbformat": 4,
 "nbformat_minor": 5
}
