{
 "cells": [
  {
   "cell_type": "code",
   "execution_count": 1,
   "id": "02e0cbd1",
   "metadata": {
    "_cell_guid": "b1076dfc-b9ad-4769-8c92-a6c4dae69d19",
    "_uuid": "8f2839f25d086af736a60e9eeb907d3b93b6e0e5",
    "execution": {
     "iopub.execute_input": "2021-07-31T15:58:41.315219Z",
     "iopub.status.busy": "2021-07-31T15:58:41.314605Z",
     "iopub.status.idle": "2021-07-31T15:58:41.329523Z",
     "shell.execute_reply": "2021-07-31T15:58:41.328592Z",
     "shell.execute_reply.started": "2021-07-31T10:00:35.598661Z"
    },
    "papermill": {
     "duration": 0.045108,
     "end_time": "2021-07-31T15:58:41.329760",
     "exception": false,
     "start_time": "2021-07-31T15:58:41.284652",
     "status": "completed"
    },
    "tags": []
   },
   "outputs": [
    {
     "name": "stdout",
     "output_type": "stream",
     "text": [
      "/kaggle/input/various-expenses-and-the-profits-of-50-startups/50_Startups.csv\n"
     ]
    }
   ],
   "source": [
    "# This Python 3 environment comes with many helpful analytics libraries installed\n",
    "# It is defined by the kaggle/python Docker image: https://github.com/kaggle/docker-python\n",
    "# For example, here's several helpful packages to load\n",
    "\n",
    "import numpy as np # linear algebra\n",
    "import pandas as pd # data processing, CSV file I/O (e.g. pd.read_csv)\n",
    "\n",
    "# Input data files are available in the read-only \"../input/\" directory\n",
    "# For example, running this (by clicking run or pressing Shift+Enter) will list all files under the input directory\n",
    "\n",
    "import os\n",
    "for dirname, _, filenames in os.walk('/kaggle/input'):\n",
    "    for filename in filenames:\n",
    "        print(os.path.join(dirname, filename))\n",
    "\n",
    "# You can write up to 20GB to the current directory (/kaggle/working/) that gets preserved as output when you create a version using \"Save & Run All\" \n",
    "# You can also write temporary files to /kaggle/temp/, but they won't be saved outside of the current session"
   ]
  },
  {
   "cell_type": "code",
   "execution_count": 2,
   "id": "00c61a68",
   "metadata": {
    "execution": {
     "iopub.execute_input": "2021-07-31T15:58:41.377444Z",
     "iopub.status.busy": "2021-07-31T15:58:41.376460Z",
     "iopub.status.idle": "2021-07-31T15:58:41.378749Z",
     "shell.execute_reply": "2021-07-31T15:58:41.379269Z",
     "shell.execute_reply.started": "2021-07-31T14:53:52.728612Z"
    },
    "papermill": {
     "duration": 0.029018,
     "end_time": "2021-07-31T15:58:41.379428",
     "exception": false,
     "start_time": "2021-07-31T15:58:41.350410",
     "status": "completed"
    },
    "tags": []
   },
   "outputs": [],
   "source": [
    "#Importing the libraries\n",
    "import numpy as np\n",
    "import pandas as pd\n",
    "import matplotlib.pyplot as plt"
   ]
  },
  {
   "cell_type": "code",
   "execution_count": 3,
   "id": "8ce3a995",
   "metadata": {
    "execution": {
     "iopub.execute_input": "2021-07-31T15:58:41.422813Z",
     "iopub.status.busy": "2021-07-31T15:58:41.422167Z",
     "iopub.status.idle": "2021-07-31T15:58:41.540408Z",
     "shell.execute_reply": "2021-07-31T15:58:41.539788Z",
     "shell.execute_reply.started": "2021-07-31T14:53:53.044526Z"
    },
    "papermill": {
     "duration": 0.140588,
     "end_time": "2021-07-31T15:58:41.540547",
     "exception": false,
     "start_time": "2021-07-31T15:58:41.399959",
     "status": "completed"
    },
    "tags": []
   },
   "outputs": [
    {
     "name": "stdout",
     "output_type": "stream",
     "text": [
      "<class 'pandas.core.frame.DataFrame'>\n",
      "RangeIndex: 50 entries, 0 to 49\n",
      "Data columns (total 5 columns):\n",
      " #   Column           Non-Null Count  Dtype  \n",
      "---  ------           --------------  -----  \n",
      " 0   R&D Spend        50 non-null     float64\n",
      " 1   Administration   50 non-null     float64\n",
      " 2   Marketing Spend  50 non-null     float64\n",
      " 3   State            50 non-null     object \n",
      " 4   Profit           50 non-null     float64\n",
      "dtypes: float64(4), object(1)\n",
      "memory usage: 2.1+ KB\n"
     ]
    }
   ],
   "source": [
    "#Importing the dataset\n",
    "df = pd.read_csv('../input/various-expenses-and-the-profits-of-50-startups/50_Startups.csv')\n",
    "df.head()\n",
    "df.info()"
   ]
  },
  {
   "cell_type": "code",
   "execution_count": 4,
   "id": "2259d6a2",
   "metadata": {
    "execution": {
     "iopub.execute_input": "2021-07-31T15:58:41.585612Z",
     "iopub.status.busy": "2021-07-31T15:58:41.584821Z",
     "iopub.status.idle": "2021-07-31T15:58:41.588481Z",
     "shell.execute_reply": "2021-07-31T15:58:41.589351Z",
     "shell.execute_reply.started": "2021-07-31T15:47:29.679091Z"
    },
    "papermill": {
     "duration": 0.031275,
     "end_time": "2021-07-31T15:58:41.589565",
     "exception": false,
     "start_time": "2021-07-31T15:58:41.558290",
     "status": "completed"
    },
    "tags": []
   },
   "outputs": [
    {
     "name": "stdout",
     "output_type": "stream",
     "text": [
      "[[165349.2 136897.8 471784.1 'New York']\n",
      " [162597.7 151377.59 443898.53 'California']\n",
      " [153441.51 101145.55 407934.54 'Florida']\n",
      " [144372.41 118671.85 383199.62 'New York']\n",
      " [142107.34 91391.77 366168.42 'Florida']\n",
      " [131876.9 99814.71 362861.36 'New York']\n",
      " [134615.46 147198.87 127716.82 'California']\n",
      " [130298.13 145530.06 323876.68 'Florida']\n",
      " [120542.52 148718.95 311613.29 'New York']\n",
      " [123334.88 108679.17 304981.62 'California']\n",
      " [101913.08 110594.11 229160.95 'Florida']\n",
      " [100671.96 91790.61 249744.55 'California']\n",
      " [93863.75 127320.38 249839.44 'Florida']\n",
      " [91992.39 135495.07 252664.93 'California']\n",
      " [119943.24 156547.42 256512.92 'Florida']\n",
      " [114523.61 122616.84 261776.23 'New York']\n",
      " [78013.11 121597.55 264346.06 'California']\n",
      " [94657.16 145077.58 282574.31 'New York']\n",
      " [91749.16 114175.79 294919.57 'Florida']\n",
      " [86419.7 153514.11 0.0 'New York']\n",
      " [76253.86 113867.3 298664.47 'California']\n",
      " [78389.47 153773.43 299737.29 'New York']\n",
      " [73994.56 122782.75 303319.26 'Florida']\n",
      " [67532.53 105751.03 304768.73 'Florida']\n",
      " [77044.01 99281.34 140574.81 'New York']\n",
      " [64664.71 139553.16 137962.62 'California']\n",
      " [75328.87 144135.98 134050.07 'Florida']\n",
      " [72107.6 127864.55 353183.81 'New York']\n",
      " [66051.52 182645.56 118148.2 'Florida']\n",
      " [65605.48 153032.06 107138.38 'New York']\n",
      " [61994.48 115641.28 91131.24 'Florida']\n",
      " [61136.38 152701.92 88218.23 'New York']\n",
      " [63408.86 129219.61 46085.25 'California']\n",
      " [55493.95 103057.49 214634.81 'Florida']\n",
      " [46426.07 157693.92 210797.67 'California']\n",
      " [46014.02 85047.44 205517.64 'New York']\n",
      " [28663.76 127056.21 201126.82 'Florida']\n",
      " [44069.95 51283.14 197029.42 'California']\n",
      " [20229.59 65947.93 185265.1 'New York']\n",
      " [38558.51 82982.09 174999.3 'California']\n",
      " [28754.33 118546.05 172795.67 'California']\n",
      " [27892.92 84710.77 164470.71 'Florida']\n",
      " [23640.93 96189.63 148001.11 'California']\n",
      " [15505.73 127382.3 35534.17 'New York']\n",
      " [22177.74 154806.14 28334.72 'California']\n",
      " [1000.23 124153.04 1903.93 'New York']\n",
      " [1315.46 115816.21 297114.46 'Florida']\n",
      " [0.0 135426.92 0.0 'California']\n",
      " [542.05 51743.15 0.0 'New York']\n",
      " [0.0 116983.8 45173.06 'California']]\n",
      "[192261.83 191792.06 191050.39 182901.99 166187.94 156991.12 156122.51\n",
      " 155752.6  152211.77 149759.96 146121.95 144259.4  141585.52 134307.35\n",
      " 132602.65 129917.04 126992.93 125370.37 124266.9  122776.86 118474.03\n",
      " 111313.02 110352.25 108733.99 108552.04 107404.34 105733.54 105008.31\n",
      " 103282.38 101004.64  99937.59  97483.56  97427.84  96778.92  96712.8\n",
      "  96479.51  90708.19  89949.14  81229.06  81005.76  78239.91  77798.83\n",
      "  71498.49  69758.98  65200.33  64926.08  49490.75  42559.73  35673.41\n",
      "  14681.4 ]\n"
     ]
    }
   ],
   "source": [
    "#Spliting the datasset into Independent and dependent variable\n",
    "x = df.iloc[:, :-1].values\n",
    "y = df.iloc[:, -1].values\n",
    "print(x)\n",
    "print(y)"
   ]
  },
  {
   "cell_type": "code",
   "execution_count": 5,
   "id": "7cff72c0",
   "metadata": {
    "execution": {
     "iopub.execute_input": "2021-07-31T15:58:41.645629Z",
     "iopub.status.busy": "2021-07-31T15:58:41.644725Z",
     "iopub.status.idle": "2021-07-31T15:58:42.488070Z",
     "shell.execute_reply": "2021-07-31T15:58:42.488566Z",
     "shell.execute_reply.started": "2021-07-31T15:47:30.484057Z"
    },
    "papermill": {
     "duration": 0.872811,
     "end_time": "2021-07-31T15:58:42.488745",
     "exception": false,
     "start_time": "2021-07-31T15:58:41.615934",
     "status": "completed"
    },
    "tags": []
   },
   "outputs": [
    {
     "name": "stdout",
     "output_type": "stream",
     "text": [
      "[[0.0 0.0 1.0 165349.2 136897.8 471784.1]\n",
      " [1.0 0.0 0.0 162597.7 151377.59 443898.53]\n",
      " [0.0 1.0 0.0 153441.51 101145.55 407934.54]\n",
      " [0.0 0.0 1.0 144372.41 118671.85 383199.62]\n",
      " [0.0 1.0 0.0 142107.34 91391.77 366168.42]\n",
      " [0.0 0.0 1.0 131876.9 99814.71 362861.36]\n",
      " [1.0 0.0 0.0 134615.46 147198.87 127716.82]\n",
      " [0.0 1.0 0.0 130298.13 145530.06 323876.68]\n",
      " [0.0 0.0 1.0 120542.52 148718.95 311613.29]\n",
      " [1.0 0.0 0.0 123334.88 108679.17 304981.62]\n",
      " [0.0 1.0 0.0 101913.08 110594.11 229160.95]\n",
      " [1.0 0.0 0.0 100671.96 91790.61 249744.55]\n",
      " [0.0 1.0 0.0 93863.75 127320.38 249839.44]\n",
      " [1.0 0.0 0.0 91992.39 135495.07 252664.93]\n",
      " [0.0 1.0 0.0 119943.24 156547.42 256512.92]\n",
      " [0.0 0.0 1.0 114523.61 122616.84 261776.23]\n",
      " [1.0 0.0 0.0 78013.11 121597.55 264346.06]\n",
      " [0.0 0.0 1.0 94657.16 145077.58 282574.31]\n",
      " [0.0 1.0 0.0 91749.16 114175.79 294919.57]\n",
      " [0.0 0.0 1.0 86419.7 153514.11 0.0]\n",
      " [1.0 0.0 0.0 76253.86 113867.3 298664.47]\n",
      " [0.0 0.0 1.0 78389.47 153773.43 299737.29]\n",
      " [0.0 1.0 0.0 73994.56 122782.75 303319.26]\n",
      " [0.0 1.0 0.0 67532.53 105751.03 304768.73]\n",
      " [0.0 0.0 1.0 77044.01 99281.34 140574.81]\n",
      " [1.0 0.0 0.0 64664.71 139553.16 137962.62]\n",
      " [0.0 1.0 0.0 75328.87 144135.98 134050.07]\n",
      " [0.0 0.0 1.0 72107.6 127864.55 353183.81]\n",
      " [0.0 1.0 0.0 66051.52 182645.56 118148.2]\n",
      " [0.0 0.0 1.0 65605.48 153032.06 107138.38]\n",
      " [0.0 1.0 0.0 61994.48 115641.28 91131.24]\n",
      " [0.0 0.0 1.0 61136.38 152701.92 88218.23]\n",
      " [1.0 0.0 0.0 63408.86 129219.61 46085.25]\n",
      " [0.0 1.0 0.0 55493.95 103057.49 214634.81]\n",
      " [1.0 0.0 0.0 46426.07 157693.92 210797.67]\n",
      " [0.0 0.0 1.0 46014.02 85047.44 205517.64]\n",
      " [0.0 1.0 0.0 28663.76 127056.21 201126.82]\n",
      " [1.0 0.0 0.0 44069.95 51283.14 197029.42]\n",
      " [0.0 0.0 1.0 20229.59 65947.93 185265.1]\n",
      " [1.0 0.0 0.0 38558.51 82982.09 174999.3]\n",
      " [1.0 0.0 0.0 28754.33 118546.05 172795.67]\n",
      " [0.0 1.0 0.0 27892.92 84710.77 164470.71]\n",
      " [1.0 0.0 0.0 23640.93 96189.63 148001.11]\n",
      " [0.0 0.0 1.0 15505.73 127382.3 35534.17]\n",
      " [1.0 0.0 0.0 22177.74 154806.14 28334.72]\n",
      " [0.0 0.0 1.0 1000.23 124153.04 1903.93]\n",
      " [0.0 1.0 0.0 1315.46 115816.21 297114.46]\n",
      " [1.0 0.0 0.0 0.0 135426.92 0.0]\n",
      " [0.0 0.0 1.0 542.05 51743.15 0.0]\n",
      " [1.0 0.0 0.0 0.0 116983.8 45173.06]]\n"
     ]
    }
   ],
   "source": [
    "#Handling categorical variable\n",
    "from sklearn.compose import ColumnTransformer\n",
    "from sklearn.preprocessing import OneHotEncoder\n",
    "ct = ColumnTransformer(transformers=[('encode', OneHotEncoder(), [3])], remainder='passthrough')\n",
    "x = ct.fit_transform(x)\n",
    "print(x)"
   ]
  },
  {
   "cell_type": "code",
   "execution_count": 6,
   "id": "82f8546e",
   "metadata": {
    "execution": {
     "iopub.execute_input": "2021-07-31T15:58:42.533756Z",
     "iopub.status.busy": "2021-07-31T15:58:42.533067Z",
     "iopub.status.idle": "2021-07-31T15:58:42.600119Z",
     "shell.execute_reply": "2021-07-31T15:58:42.600879Z",
     "shell.execute_reply.started": "2021-07-31T10:00:36.733719Z"
    },
    "papermill": {
     "duration": 0.092309,
     "end_time": "2021-07-31T15:58:42.601127",
     "exception": false,
     "start_time": "2021-07-31T15:58:42.508818",
     "status": "completed"
    },
    "tags": []
   },
   "outputs": [
    {
     "name": "stdout",
     "output_type": "stream",
     "text": [
      "[[0.0 1.0 0.0 73994.56 122782.75 303319.26]\n",
      " [0.0 1.0 0.0 142107.34 91391.77 366168.42]\n",
      " [0.0 1.0 0.0 55493.95 103057.49 214634.81]\n",
      " [0.0 0.0 1.0 46014.02 85047.44 205517.64]\n",
      " [0.0 1.0 0.0 75328.87 144135.98 134050.07]\n",
      " [1.0 0.0 0.0 46426.07 157693.92 210797.67]\n",
      " [0.0 1.0 0.0 91749.16 114175.79 294919.57]\n",
      " [0.0 1.0 0.0 130298.13 145530.06 323876.68]\n",
      " [0.0 1.0 0.0 119943.24 156547.42 256512.92]\n",
      " [0.0 0.0 1.0 1000.23 124153.04 1903.93]\n",
      " [0.0 0.0 1.0 542.05 51743.15 0.0]\n",
      " [0.0 0.0 1.0 65605.48 153032.06 107138.38]\n",
      " [0.0 0.0 1.0 114523.61 122616.84 261776.23]\n",
      " [0.0 1.0 0.0 61994.48 115641.28 91131.24]\n",
      " [1.0 0.0 0.0 63408.86 129219.61 46085.25]\n",
      " [1.0 0.0 0.0 78013.11 121597.55 264346.06]\n",
      " [1.0 0.0 0.0 23640.93 96189.63 148001.11]\n",
      " [1.0 0.0 0.0 76253.86 113867.3 298664.47]\n",
      " [0.0 0.0 1.0 15505.73 127382.3 35534.17]\n",
      " [0.0 0.0 1.0 120542.52 148718.95 311613.29]\n",
      " [1.0 0.0 0.0 91992.39 135495.07 252664.93]\n",
      " [1.0 0.0 0.0 64664.71 139553.16 137962.62]\n",
      " [0.0 0.0 1.0 131876.9 99814.71 362861.36]\n",
      " [0.0 0.0 1.0 94657.16 145077.58 282574.31]\n",
      " [1.0 0.0 0.0 28754.33 118546.05 172795.67]\n",
      " [1.0 0.0 0.0 0.0 116983.8 45173.06]\n",
      " [1.0 0.0 0.0 162597.7 151377.59 443898.53]\n",
      " [0.0 1.0 0.0 93863.75 127320.38 249839.44]\n",
      " [1.0 0.0 0.0 44069.95 51283.14 197029.42]\n",
      " [0.0 0.0 1.0 77044.01 99281.34 140574.81]\n",
      " [1.0 0.0 0.0 134615.46 147198.87 127716.82]\n",
      " [0.0 1.0 0.0 67532.53 105751.03 304768.73]\n",
      " [0.0 1.0 0.0 28663.76 127056.21 201126.82]\n",
      " [0.0 0.0 1.0 78389.47 153773.43 299737.29]\n",
      " [0.0 0.0 1.0 86419.7 153514.11 0.0]\n",
      " [1.0 0.0 0.0 123334.88 108679.17 304981.62]\n",
      " [1.0 0.0 0.0 38558.51 82982.09 174999.3]\n",
      " [0.0 1.0 0.0 1315.46 115816.21 297114.46]\n",
      " [0.0 0.0 1.0 144372.41 118671.85 383199.62]\n",
      " [0.0 0.0 1.0 165349.2 136897.8 471784.1]\n",
      " [1.0 0.0 0.0 0.0 135426.92 0.0]\n",
      " [1.0 0.0 0.0 22177.74 154806.14 28334.72]]\n",
      "[110352.25 166187.94  96778.92  96479.51 105733.54  96712.8  124266.9\n",
      " 155752.6  132602.65  64926.08  35673.41 101004.64 129917.04  99937.59\n",
      "  97427.84 126992.93  71498.49 118474.03  69758.98 152211.77 134307.35\n",
      " 107404.34 156991.12 125370.37  78239.91  14681.4  191792.06 141585.52\n",
      "  89949.14 108552.04 156122.51 108733.99  90708.19 111313.02 122776.86\n",
      " 149759.96  81005.76  49490.75 182901.99 192261.83  42559.73  65200.33]\n",
      "[[0.0 1.0 0.0 66051.52 182645.56 118148.2]\n",
      " [1.0 0.0 0.0 100671.96 91790.61 249744.55]\n",
      " [0.0 1.0 0.0 101913.08 110594.11 229160.95]\n",
      " [0.0 1.0 0.0 27892.92 84710.77 164470.71]\n",
      " [0.0 1.0 0.0 153441.51 101145.55 407934.54]\n",
      " [0.0 0.0 1.0 72107.6 127864.55 353183.81]\n",
      " [0.0 0.0 1.0 20229.59 65947.93 185265.1]\n",
      " [0.0 0.0 1.0 61136.38 152701.92 88218.23]]\n",
      "[103282.38 144259.4  146121.95  77798.83 191050.39 105008.31  81229.06\n",
      "  97483.56]\n"
     ]
    }
   ],
   "source": [
    "#Spliting our data into training set and test set\n",
    "from sklearn.model_selection import train_test_split\n",
    "x_train, x_test, y_train, y_test = train_test_split(x, y, test_size=0.15, random_state=0)\n",
    "print(x_train)\n",
    "print(y_train)\n",
    "print(x_test)\n",
    "print(y_test)"
   ]
  },
  {
   "cell_type": "code",
   "execution_count": 7,
   "id": "7711ee91",
   "metadata": {
    "execution": {
     "iopub.execute_input": "2021-07-31T15:58:42.646835Z",
     "iopub.status.busy": "2021-07-31T15:58:42.646116Z",
     "iopub.status.idle": "2021-07-31T15:58:42.888005Z",
     "shell.execute_reply": "2021-07-31T15:58:42.888465Z",
     "shell.execute_reply.started": "2021-07-31T10:00:36.808142Z"
    },
    "papermill": {
     "duration": 0.265565,
     "end_time": "2021-07-31T15:58:42.888630",
     "exception": false,
     "start_time": "2021-07-31T15:58:42.623065",
     "status": "completed"
    },
    "tags": []
   },
   "outputs": [
    {
     "data": {
      "text/plain": [
       "LinearRegression()"
      ]
     },
     "execution_count": 7,
     "metadata": {},
     "output_type": "execute_result"
    }
   ],
   "source": [
    "#Training our machine\n",
    "from sklearn.linear_model import LinearRegression\n",
    "regressor = LinearRegression()\n",
    "regressor.fit(x_train, y_train)"
   ]
  },
  {
   "cell_type": "code",
   "execution_count": 8,
   "id": "486f7f99",
   "metadata": {
    "execution": {
     "iopub.execute_input": "2021-07-31T15:58:42.931744Z",
     "iopub.status.busy": "2021-07-31T15:58:42.930995Z",
     "iopub.status.idle": "2021-07-31T15:58:42.936109Z",
     "shell.execute_reply": "2021-07-31T15:58:42.935176Z",
     "shell.execute_reply.started": "2021-07-31T10:04:16.427217Z"
    },
    "papermill": {
     "duration": 0.028768,
     "end_time": "2021-07-31T15:58:42.936384",
     "exception": false,
     "start_time": "2021-07-31T15:58:42.907616",
     "status": "completed"
    },
    "tags": []
   },
   "outputs": [
    {
     "name": "stdout",
     "output_type": "stream",
     "text": [
      "(8,)\n",
      "(8,)\n"
     ]
    }
   ],
   "source": [
    "#Predictions\n",
    "y_pred = regressor.predict(x_test)\n",
    "print(y_pred.shape)\n",
    "print(y_test.shape)"
   ]
  },
  {
   "cell_type": "code",
   "execution_count": 9,
   "id": "5672468c",
   "metadata": {
    "execution": {
     "iopub.execute_input": "2021-07-31T15:58:42.984079Z",
     "iopub.status.busy": "2021-07-31T15:58:42.983237Z",
     "iopub.status.idle": "2021-07-31T15:58:42.987559Z",
     "shell.execute_reply": "2021-07-31T15:58:42.986942Z",
     "shell.execute_reply.started": "2021-07-31T10:06:15.028467Z"
    },
    "papermill": {
     "duration": 0.029951,
     "end_time": "2021-07-31T15:58:42.987679",
     "exception": false,
     "start_time": "2021-07-31T15:58:42.957728",
     "status": "completed"
    },
    "tags": []
   },
   "outputs": [
    {
     "name": "stdout",
     "output_type": "stream",
     "text": [
      "[[102778.64 103282.38]\n",
      " [132460.8  144259.4 ]\n",
      " [131978.66 146121.95]\n",
      " [ 71514.72  77798.83]\n",
      " [177931.87 191050.39]\n",
      " [116097.91 105008.31]\n",
      " [ 67761.74  81229.06]\n",
      " [ 98927.52  97483.56]]\n"
     ]
    }
   ],
   "source": [
    "np.set_printoptions(precision=2)\n",
    "print(np.concatenate((y_pred.reshape(len(y_pred),1), y_test.reshape(len(y_test), 1)), axis=1))"
   ]
  },
  {
   "cell_type": "code",
   "execution_count": 10,
   "id": "1301120b",
   "metadata": {
    "execution": {
     "iopub.execute_input": "2021-07-31T15:58:43.032546Z",
     "iopub.status.busy": "2021-07-31T15:58:43.031732Z",
     "iopub.status.idle": "2021-07-31T15:58:43.035405Z",
     "shell.execute_reply": "2021-07-31T15:58:43.034894Z",
     "shell.execute_reply.started": "2021-07-31T10:08:29.918207Z"
    },
    "papermill": {
     "duration": 0.027893,
     "end_time": "2021-07-31T15:58:43.035533",
     "exception": false,
     "start_time": "2021-07-31T15:58:43.007640",
     "status": "completed"
    },
    "tags": []
   },
   "outputs": [
    {
     "data": {
      "text/plain": [
       "<function numpy.hstack(tup)>"
      ]
     },
     "execution_count": 10,
     "metadata": {},
     "output_type": "execute_result"
    }
   ],
   "source": [
    "np.delete\n",
    "np.hstack"
   ]
  },
  {
   "cell_type": "markdown",
   "id": "7fdd3861",
   "metadata": {
    "papermill": {
     "duration": 0.020028,
     "end_time": "2021-07-31T15:58:43.075455",
     "exception": false,
     "start_time": "2021-07-31T15:58:43.055427",
     "status": "completed"
    },
    "tags": []
   },
   "source": [
    "# Now Optimizing our code with Backward Elimination"
   ]
  },
  {
   "cell_type": "code",
   "execution_count": 11,
   "id": "c2000612",
   "metadata": {
    "execution": {
     "iopub.execute_input": "2021-07-31T15:58:43.121168Z",
     "iopub.status.busy": "2021-07-31T15:58:43.120543Z",
     "iopub.status.idle": "2021-07-31T15:58:43.870550Z",
     "shell.execute_reply": "2021-07-31T15:58:43.869664Z",
     "shell.execute_reply.started": "2021-07-31T10:07:44.687752Z"
    },
    "papermill": {
     "duration": 0.775157,
     "end_time": "2021-07-31T15:58:43.870700",
     "exception": false,
     "start_time": "2021-07-31T15:58:43.095543",
     "status": "completed"
    },
    "tags": []
   },
   "outputs": [
    {
     "data": {
      "text/html": [
       "<table class=\"simpletable\">\n",
       "<caption>OLS Regression Results</caption>\n",
       "<tr>\n",
       "  <th>Dep. Variable:</th>            <td>y</td>        <th>  R-squared:         </th> <td>   0.951</td>\n",
       "</tr>\n",
       "<tr>\n",
       "  <th>Model:</th>                   <td>OLS</td>       <th>  Adj. R-squared:    </th> <td>   0.945</td>\n",
       "</tr>\n",
       "<tr>\n",
       "  <th>Method:</th>             <td>Least Squares</td>  <th>  F-statistic:       </th> <td>   169.9</td>\n",
       "</tr>\n",
       "<tr>\n",
       "  <th>Date:</th>             <td>Sat, 31 Jul 2021</td> <th>  Prob (F-statistic):</th> <td>1.34e-27</td>\n",
       "</tr>\n",
       "<tr>\n",
       "  <th>Time:</th>                 <td>15:58:43</td>     <th>  Log-Likelihood:    </th> <td> -525.38</td>\n",
       "</tr>\n",
       "<tr>\n",
       "  <th>No. Observations:</th>      <td>    50</td>      <th>  AIC:               </th> <td>   1063.</td>\n",
       "</tr>\n",
       "<tr>\n",
       "  <th>Df Residuals:</th>          <td>    44</td>      <th>  BIC:               </th> <td>   1074.</td>\n",
       "</tr>\n",
       "<tr>\n",
       "  <th>Df Model:</th>              <td>     5</td>      <th>                     </th>     <td> </td>   \n",
       "</tr>\n",
       "<tr>\n",
       "  <th>Covariance Type:</th>      <td>nonrobust</td>    <th>                     </th>     <td> </td>   \n",
       "</tr>\n",
       "</table>\n",
       "<table class=\"simpletable\">\n",
       "<tr>\n",
       "    <td></td>       <th>coef</th>     <th>std err</th>      <th>t</th>      <th>P>|t|</th>  <th>[0.025</th>    <th>0.975]</th>  \n",
       "</tr>\n",
       "<tr>\n",
       "  <th>const</th> <td> 5.013e+04</td> <td> 6884.820</td> <td>    7.281</td> <td> 0.000</td> <td> 3.62e+04</td> <td>  6.4e+04</td>\n",
       "</tr>\n",
       "<tr>\n",
       "  <th>x1</th>    <td>  198.7888</td> <td> 3371.007</td> <td>    0.059</td> <td> 0.953</td> <td>-6595.030</td> <td> 6992.607</td>\n",
       "</tr>\n",
       "<tr>\n",
       "  <th>x2</th>    <td>  -41.8870</td> <td> 3256.039</td> <td>   -0.013</td> <td> 0.990</td> <td>-6604.003</td> <td> 6520.229</td>\n",
       "</tr>\n",
       "<tr>\n",
       "  <th>x3</th>    <td>    0.8060</td> <td>    0.046</td> <td>   17.369</td> <td> 0.000</td> <td>    0.712</td> <td>    0.900</td>\n",
       "</tr>\n",
       "<tr>\n",
       "  <th>x4</th>    <td>   -0.0270</td> <td>    0.052</td> <td>   -0.517</td> <td> 0.608</td> <td>   -0.132</td> <td>    0.078</td>\n",
       "</tr>\n",
       "<tr>\n",
       "  <th>x5</th>    <td>    0.0270</td> <td>    0.017</td> <td>    1.574</td> <td> 0.123</td> <td>   -0.008</td> <td>    0.062</td>\n",
       "</tr>\n",
       "</table>\n",
       "<table class=\"simpletable\">\n",
       "<tr>\n",
       "  <th>Omnibus:</th>       <td>14.782</td> <th>  Durbin-Watson:     </th> <td>   1.283</td>\n",
       "</tr>\n",
       "<tr>\n",
       "  <th>Prob(Omnibus):</th> <td> 0.001</td> <th>  Jarque-Bera (JB):  </th> <td>  21.266</td>\n",
       "</tr>\n",
       "<tr>\n",
       "  <th>Skew:</th>          <td>-0.948</td> <th>  Prob(JB):          </th> <td>2.41e-05</td>\n",
       "</tr>\n",
       "<tr>\n",
       "  <th>Kurtosis:</th>      <td> 5.572</td> <th>  Cond. No.          </th> <td>1.45e+06</td>\n",
       "</tr>\n",
       "</table><br/><br/>Notes:<br/>[1] Standard Errors assume that the covariance matrix of the errors is correctly specified.<br/>[2] The condition number is large, 1.45e+06. This might indicate that there are<br/>strong multicollinearity or other numerical problems."
      ],
      "text/plain": [
       "<class 'statsmodels.iolib.summary.Summary'>\n",
       "\"\"\"\n",
       "                            OLS Regression Results                            \n",
       "==============================================================================\n",
       "Dep. Variable:                      y   R-squared:                       0.951\n",
       "Model:                            OLS   Adj. R-squared:                  0.945\n",
       "Method:                 Least Squares   F-statistic:                     169.9\n",
       "Date:                Sat, 31 Jul 2021   Prob (F-statistic):           1.34e-27\n",
       "Time:                        15:58:43   Log-Likelihood:                -525.38\n",
       "No. Observations:                  50   AIC:                             1063.\n",
       "Df Residuals:                      44   BIC:                             1074.\n",
       "Df Model:                           5                                         \n",
       "Covariance Type:            nonrobust                                         \n",
       "==============================================================================\n",
       "                 coef    std err          t      P>|t|      [0.025      0.975]\n",
       "------------------------------------------------------------------------------\n",
       "const       5.013e+04   6884.820      7.281      0.000    3.62e+04     6.4e+04\n",
       "x1           198.7888   3371.007      0.059      0.953   -6595.030    6992.607\n",
       "x2           -41.8870   3256.039     -0.013      0.990   -6604.003    6520.229\n",
       "x3             0.8060      0.046     17.369      0.000       0.712       0.900\n",
       "x4            -0.0270      0.052     -0.517      0.608      -0.132       0.078\n",
       "x5             0.0270      0.017      1.574      0.123      -0.008       0.062\n",
       "==============================================================================\n",
       "Omnibus:                       14.782   Durbin-Watson:                   1.283\n",
       "Prob(Omnibus):                  0.001   Jarque-Bera (JB):               21.266\n",
       "Skew:                          -0.948   Prob(JB):                     2.41e-05\n",
       "Kurtosis:                       5.572   Cond. No.                     1.45e+06\n",
       "==============================================================================\n",
       "\n",
       "Notes:\n",
       "[1] Standard Errors assume that the covariance matrix of the errors is correctly specified.\n",
       "[2] The condition number is large, 1.45e+06. This might indicate that there are\n",
       "strong multicollinearity or other numerical problems.\n",
       "\"\"\""
      ]
     },
     "execution_count": 11,
     "metadata": {},
     "output_type": "execute_result"
    }
   ],
   "source": [
    "import statsmodels.api as sm\n",
    "x_opt = np.append(arr=np.ones((50,1), dtype=int), values=x.astype(float), axis=1)\n",
    "x_opt = x_opt[:, [0,2,3,4,5,6]]\n",
    "# print(x_opt)\n",
    "regressor_OLS = sm.OLS(endog=y, exog=x_opt).fit()\n",
    "regressor_OLS.summary()"
   ]
  },
  {
   "cell_type": "code",
   "execution_count": 12,
   "id": "0b1cf5ae",
   "metadata": {
    "execution": {
     "iopub.execute_input": "2021-07-31T15:58:43.920542Z",
     "iopub.status.busy": "2021-07-31T15:58:43.919205Z",
     "iopub.status.idle": "2021-07-31T15:58:43.935124Z",
     "shell.execute_reply": "2021-07-31T15:58:43.935628Z",
     "shell.execute_reply.started": "2021-07-31T07:24:13.342528Z"
    },
    "papermill": {
     "duration": 0.044058,
     "end_time": "2021-07-31T15:58:43.935782",
     "exception": false,
     "start_time": "2021-07-31T15:58:43.891724",
     "status": "completed"
    },
    "tags": []
   },
   "outputs": [
    {
     "data": {
      "text/html": [
       "<table class=\"simpletable\">\n",
       "<caption>OLS Regression Results</caption>\n",
       "<tr>\n",
       "  <th>Dep. Variable:</th>            <td>y</td>        <th>  R-squared:         </th> <td>   0.951</td>\n",
       "</tr>\n",
       "<tr>\n",
       "  <th>Model:</th>                   <td>OLS</td>       <th>  Adj. R-squared:    </th> <td>   0.946</td>\n",
       "</tr>\n",
       "<tr>\n",
       "  <th>Method:</th>             <td>Least Squares</td>  <th>  F-statistic:       </th> <td>   217.2</td>\n",
       "</tr>\n",
       "<tr>\n",
       "  <th>Date:</th>             <td>Sat, 31 Jul 2021</td> <th>  Prob (F-statistic):</th> <td>8.49e-29</td>\n",
       "</tr>\n",
       "<tr>\n",
       "  <th>Time:</th>                 <td>15:58:43</td>     <th>  Log-Likelihood:    </th> <td> -525.38</td>\n",
       "</tr>\n",
       "<tr>\n",
       "  <th>No. Observations:</th>      <td>    50</td>      <th>  AIC:               </th> <td>   1061.</td>\n",
       "</tr>\n",
       "<tr>\n",
       "  <th>Df Residuals:</th>          <td>    45</td>      <th>  BIC:               </th> <td>   1070.</td>\n",
       "</tr>\n",
       "<tr>\n",
       "  <th>Df Model:</th>              <td>     4</td>      <th>                     </th>     <td> </td>   \n",
       "</tr>\n",
       "<tr>\n",
       "  <th>Covariance Type:</th>      <td>nonrobust</td>    <th>                     </th>     <td> </td>   \n",
       "</tr>\n",
       "</table>\n",
       "<table class=\"simpletable\">\n",
       "<tr>\n",
       "    <td></td>       <th>coef</th>     <th>std err</th>      <th>t</th>      <th>P>|t|</th>  <th>[0.025</th>    <th>0.975]</th>  \n",
       "</tr>\n",
       "<tr>\n",
       "  <th>const</th> <td> 5.011e+04</td> <td> 6647.870</td> <td>    7.537</td> <td> 0.000</td> <td> 3.67e+04</td> <td> 6.35e+04</td>\n",
       "</tr>\n",
       "<tr>\n",
       "  <th>x1</th>    <td>  220.1585</td> <td> 2900.536</td> <td>    0.076</td> <td> 0.940</td> <td>-5621.821</td> <td> 6062.138</td>\n",
       "</tr>\n",
       "<tr>\n",
       "  <th>x2</th>    <td>    0.8060</td> <td>    0.046</td> <td>   17.606</td> <td> 0.000</td> <td>    0.714</td> <td>    0.898</td>\n",
       "</tr>\n",
       "<tr>\n",
       "  <th>x3</th>    <td>   -0.0270</td> <td>    0.052</td> <td>   -0.523</td> <td> 0.604</td> <td>   -0.131</td> <td>    0.077</td>\n",
       "</tr>\n",
       "<tr>\n",
       "  <th>x4</th>    <td>    0.0270</td> <td>    0.017</td> <td>    1.592</td> <td> 0.118</td> <td>   -0.007</td> <td>    0.061</td>\n",
       "</tr>\n",
       "</table>\n",
       "<table class=\"simpletable\">\n",
       "<tr>\n",
       "  <th>Omnibus:</th>       <td>14.758</td> <th>  Durbin-Watson:     </th> <td>   1.282</td>\n",
       "</tr>\n",
       "<tr>\n",
       "  <th>Prob(Omnibus):</th> <td> 0.001</td> <th>  Jarque-Bera (JB):  </th> <td>  21.172</td>\n",
       "</tr>\n",
       "<tr>\n",
       "  <th>Skew:</th>          <td>-0.948</td> <th>  Prob(JB):          </th> <td>2.53e-05</td>\n",
       "</tr>\n",
       "<tr>\n",
       "  <th>Kurtosis:</th>      <td> 5.563</td> <th>  Cond. No.          </th> <td>1.40e+06</td>\n",
       "</tr>\n",
       "</table><br/><br/>Notes:<br/>[1] Standard Errors assume that the covariance matrix of the errors is correctly specified.<br/>[2] The condition number is large, 1.4e+06. This might indicate that there are<br/>strong multicollinearity or other numerical problems."
      ],
      "text/plain": [
       "<class 'statsmodels.iolib.summary.Summary'>\n",
       "\"\"\"\n",
       "                            OLS Regression Results                            \n",
       "==============================================================================\n",
       "Dep. Variable:                      y   R-squared:                       0.951\n",
       "Model:                            OLS   Adj. R-squared:                  0.946\n",
       "Method:                 Least Squares   F-statistic:                     217.2\n",
       "Date:                Sat, 31 Jul 2021   Prob (F-statistic):           8.49e-29\n",
       "Time:                        15:58:43   Log-Likelihood:                -525.38\n",
       "No. Observations:                  50   AIC:                             1061.\n",
       "Df Residuals:                      45   BIC:                             1070.\n",
       "Df Model:                           4                                         \n",
       "Covariance Type:            nonrobust                                         \n",
       "==============================================================================\n",
       "                 coef    std err          t      P>|t|      [0.025      0.975]\n",
       "------------------------------------------------------------------------------\n",
       "const       5.011e+04   6647.870      7.537      0.000    3.67e+04    6.35e+04\n",
       "x1           220.1585   2900.536      0.076      0.940   -5621.821    6062.138\n",
       "x2             0.8060      0.046     17.606      0.000       0.714       0.898\n",
       "x3            -0.0270      0.052     -0.523      0.604      -0.131       0.077\n",
       "x4             0.0270      0.017      1.592      0.118      -0.007       0.061\n",
       "==============================================================================\n",
       "Omnibus:                       14.758   Durbin-Watson:                   1.282\n",
       "Prob(Omnibus):                  0.001   Jarque-Bera (JB):               21.172\n",
       "Skew:                          -0.948   Prob(JB):                     2.53e-05\n",
       "Kurtosis:                       5.563   Cond. No.                     1.40e+06\n",
       "==============================================================================\n",
       "\n",
       "Notes:\n",
       "[1] Standard Errors assume that the covariance matrix of the errors is correctly specified.\n",
       "[2] The condition number is large, 1.4e+06. This might indicate that there are\n",
       "strong multicollinearity or other numerical problems.\n",
       "\"\"\""
      ]
     },
     "execution_count": 12,
     "metadata": {},
     "output_type": "execute_result"
    }
   ],
   "source": [
    "x_opt = x_opt[:, [0,1,3,4,5]]\n",
    "# print(x_opt)\n",
    "regressor_OLS = sm.OLS(endog=y, exog=x_opt).fit()\n",
    "regressor_OLS.summary()"
   ]
  },
  {
   "cell_type": "code",
   "execution_count": 13,
   "id": "d2971a01",
   "metadata": {
    "execution": {
     "iopub.execute_input": "2021-07-31T15:58:43.997338Z",
     "iopub.status.busy": "2021-07-31T15:58:43.996440Z",
     "iopub.status.idle": "2021-07-31T15:58:44.000285Z",
     "shell.execute_reply": "2021-07-31T15:58:44.000699Z",
     "shell.execute_reply.started": "2021-07-31T07:25:47.049789Z"
    },
    "papermill": {
     "duration": 0.043906,
     "end_time": "2021-07-31T15:58:44.000857",
     "exception": false,
     "start_time": "2021-07-31T15:58:43.956951",
     "status": "completed"
    },
    "tags": []
   },
   "outputs": [
    {
     "data": {
      "text/html": [
       "<table class=\"simpletable\">\n",
       "<caption>OLS Regression Results</caption>\n",
       "<tr>\n",
       "  <th>Dep. Variable:</th>            <td>y</td>        <th>  R-squared:         </th> <td>   0.951</td>\n",
       "</tr>\n",
       "<tr>\n",
       "  <th>Model:</th>                   <td>OLS</td>       <th>  Adj. R-squared:    </th> <td>   0.948</td>\n",
       "</tr>\n",
       "<tr>\n",
       "  <th>Method:</th>             <td>Least Squares</td>  <th>  F-statistic:       </th> <td>   296.0</td>\n",
       "</tr>\n",
       "<tr>\n",
       "  <th>Date:</th>             <td>Sat, 31 Jul 2021</td> <th>  Prob (F-statistic):</th> <td>4.53e-30</td>\n",
       "</tr>\n",
       "<tr>\n",
       "  <th>Time:</th>                 <td>15:58:43</td>     <th>  Log-Likelihood:    </th> <td> -525.39</td>\n",
       "</tr>\n",
       "<tr>\n",
       "  <th>No. Observations:</th>      <td>    50</td>      <th>  AIC:               </th> <td>   1059.</td>\n",
       "</tr>\n",
       "<tr>\n",
       "  <th>Df Residuals:</th>          <td>    46</td>      <th>  BIC:               </th> <td>   1066.</td>\n",
       "</tr>\n",
       "<tr>\n",
       "  <th>Df Model:</th>              <td>     3</td>      <th>                     </th>     <td> </td>   \n",
       "</tr>\n",
       "<tr>\n",
       "  <th>Covariance Type:</th>      <td>nonrobust</td>    <th>                     </th>     <td> </td>   \n",
       "</tr>\n",
       "</table>\n",
       "<table class=\"simpletable\">\n",
       "<tr>\n",
       "    <td></td>       <th>coef</th>     <th>std err</th>      <th>t</th>      <th>P>|t|</th>  <th>[0.025</th>    <th>0.975]</th>  \n",
       "</tr>\n",
       "<tr>\n",
       "  <th>const</th> <td> 5.012e+04</td> <td> 6572.353</td> <td>    7.626</td> <td> 0.000</td> <td> 3.69e+04</td> <td> 6.34e+04</td>\n",
       "</tr>\n",
       "<tr>\n",
       "  <th>x1</th>    <td>    0.8057</td> <td>    0.045</td> <td>   17.846</td> <td> 0.000</td> <td>    0.715</td> <td>    0.897</td>\n",
       "</tr>\n",
       "<tr>\n",
       "  <th>x2</th>    <td>   -0.0268</td> <td>    0.051</td> <td>   -0.526</td> <td> 0.602</td> <td>   -0.130</td> <td>    0.076</td>\n",
       "</tr>\n",
       "<tr>\n",
       "  <th>x3</th>    <td>    0.0272</td> <td>    0.016</td> <td>    1.655</td> <td> 0.105</td> <td>   -0.006</td> <td>    0.060</td>\n",
       "</tr>\n",
       "</table>\n",
       "<table class=\"simpletable\">\n",
       "<tr>\n",
       "  <th>Omnibus:</th>       <td>14.838</td> <th>  Durbin-Watson:     </th> <td>   1.282</td>\n",
       "</tr>\n",
       "<tr>\n",
       "  <th>Prob(Omnibus):</th> <td> 0.001</td> <th>  Jarque-Bera (JB):  </th> <td>  21.442</td>\n",
       "</tr>\n",
       "<tr>\n",
       "  <th>Skew:</th>          <td>-0.949</td> <th>  Prob(JB):          </th> <td>2.21e-05</td>\n",
       "</tr>\n",
       "<tr>\n",
       "  <th>Kurtosis:</th>      <td> 5.586</td> <th>  Cond. No.          </th> <td>1.40e+06</td>\n",
       "</tr>\n",
       "</table><br/><br/>Notes:<br/>[1] Standard Errors assume that the covariance matrix of the errors is correctly specified.<br/>[2] The condition number is large, 1.4e+06. This might indicate that there are<br/>strong multicollinearity or other numerical problems."
      ],
      "text/plain": [
       "<class 'statsmodels.iolib.summary.Summary'>\n",
       "\"\"\"\n",
       "                            OLS Regression Results                            \n",
       "==============================================================================\n",
       "Dep. Variable:                      y   R-squared:                       0.951\n",
       "Model:                            OLS   Adj. R-squared:                  0.948\n",
       "Method:                 Least Squares   F-statistic:                     296.0\n",
       "Date:                Sat, 31 Jul 2021   Prob (F-statistic):           4.53e-30\n",
       "Time:                        15:58:43   Log-Likelihood:                -525.39\n",
       "No. Observations:                  50   AIC:                             1059.\n",
       "Df Residuals:                      46   BIC:                             1066.\n",
       "Df Model:                           3                                         \n",
       "Covariance Type:            nonrobust                                         \n",
       "==============================================================================\n",
       "                 coef    std err          t      P>|t|      [0.025      0.975]\n",
       "------------------------------------------------------------------------------\n",
       "const       5.012e+04   6572.353      7.626      0.000    3.69e+04    6.34e+04\n",
       "x1             0.8057      0.045     17.846      0.000       0.715       0.897\n",
       "x2            -0.0268      0.051     -0.526      0.602      -0.130       0.076\n",
       "x3             0.0272      0.016      1.655      0.105      -0.006       0.060\n",
       "==============================================================================\n",
       "Omnibus:                       14.838   Durbin-Watson:                   1.282\n",
       "Prob(Omnibus):                  0.001   Jarque-Bera (JB):               21.442\n",
       "Skew:                          -0.949   Prob(JB):                     2.21e-05\n",
       "Kurtosis:                       5.586   Cond. No.                     1.40e+06\n",
       "==============================================================================\n",
       "\n",
       "Notes:\n",
       "[1] Standard Errors assume that the covariance matrix of the errors is correctly specified.\n",
       "[2] The condition number is large, 1.4e+06. This might indicate that there are\n",
       "strong multicollinearity or other numerical problems.\n",
       "\"\"\""
      ]
     },
     "execution_count": 13,
     "metadata": {},
     "output_type": "execute_result"
    }
   ],
   "source": [
    "x_opt = x_opt[:, [0,2,3,4]]\n",
    "# print(x_opt)\n",
    "regressor_OLS = sm.OLS(endog=y, exog=x_opt).fit()\n",
    "regressor_OLS.summary()"
   ]
  },
  {
   "cell_type": "code",
   "execution_count": 14,
   "id": "5751114e",
   "metadata": {
    "execution": {
     "iopub.execute_input": "2021-07-31T15:58:44.050615Z",
     "iopub.status.busy": "2021-07-31T15:58:44.049897Z",
     "iopub.status.idle": "2021-07-31T15:58:44.066000Z",
     "shell.execute_reply": "2021-07-31T15:58:44.065467Z",
     "shell.execute_reply.started": "2021-07-31T07:26:26.339071Z"
    },
    "papermill": {
     "duration": 0.043121,
     "end_time": "2021-07-31T15:58:44.066148",
     "exception": false,
     "start_time": "2021-07-31T15:58:44.023027",
     "status": "completed"
    },
    "tags": []
   },
   "outputs": [
    {
     "data": {
      "text/html": [
       "<table class=\"simpletable\">\n",
       "<caption>OLS Regression Results</caption>\n",
       "<tr>\n",
       "  <th>Dep. Variable:</th>            <td>y</td>        <th>  R-squared:         </th> <td>   0.950</td>\n",
       "</tr>\n",
       "<tr>\n",
       "  <th>Model:</th>                   <td>OLS</td>       <th>  Adj. R-squared:    </th> <td>   0.948</td>\n",
       "</tr>\n",
       "<tr>\n",
       "  <th>Method:</th>             <td>Least Squares</td>  <th>  F-statistic:       </th> <td>   450.8</td>\n",
       "</tr>\n",
       "<tr>\n",
       "  <th>Date:</th>             <td>Sat, 31 Jul 2021</td> <th>  Prob (F-statistic):</th> <td>2.16e-31</td>\n",
       "</tr>\n",
       "<tr>\n",
       "  <th>Time:</th>                 <td>15:58:44</td>     <th>  Log-Likelihood:    </th> <td> -525.54</td>\n",
       "</tr>\n",
       "<tr>\n",
       "  <th>No. Observations:</th>      <td>    50</td>      <th>  AIC:               </th> <td>   1057.</td>\n",
       "</tr>\n",
       "<tr>\n",
       "  <th>Df Residuals:</th>          <td>    47</td>      <th>  BIC:               </th> <td>   1063.</td>\n",
       "</tr>\n",
       "<tr>\n",
       "  <th>Df Model:</th>              <td>     2</td>      <th>                     </th>     <td> </td>   \n",
       "</tr>\n",
       "<tr>\n",
       "  <th>Covariance Type:</th>      <td>nonrobust</td>    <th>                     </th>     <td> </td>   \n",
       "</tr>\n",
       "</table>\n",
       "<table class=\"simpletable\">\n",
       "<tr>\n",
       "    <td></td>       <th>coef</th>     <th>std err</th>      <th>t</th>      <th>P>|t|</th>  <th>[0.025</th>    <th>0.975]</th>  \n",
       "</tr>\n",
       "<tr>\n",
       "  <th>const</th> <td> 4.698e+04</td> <td> 2689.933</td> <td>   17.464</td> <td> 0.000</td> <td> 4.16e+04</td> <td> 5.24e+04</td>\n",
       "</tr>\n",
       "<tr>\n",
       "  <th>x1</th>    <td>    0.7966</td> <td>    0.041</td> <td>   19.266</td> <td> 0.000</td> <td>    0.713</td> <td>    0.880</td>\n",
       "</tr>\n",
       "<tr>\n",
       "  <th>x2</th>    <td>    0.0299</td> <td>    0.016</td> <td>    1.927</td> <td> 0.060</td> <td>   -0.001</td> <td>    0.061</td>\n",
       "</tr>\n",
       "</table>\n",
       "<table class=\"simpletable\">\n",
       "<tr>\n",
       "  <th>Omnibus:</th>       <td>14.677</td> <th>  Durbin-Watson:     </th> <td>   1.257</td>\n",
       "</tr>\n",
       "<tr>\n",
       "  <th>Prob(Omnibus):</th> <td> 0.001</td> <th>  Jarque-Bera (JB):  </th> <td>  21.161</td>\n",
       "</tr>\n",
       "<tr>\n",
       "  <th>Skew:</th>          <td>-0.939</td> <th>  Prob(JB):          </th> <td>2.54e-05</td>\n",
       "</tr>\n",
       "<tr>\n",
       "  <th>Kurtosis:</th>      <td> 5.575</td> <th>  Cond. No.          </th> <td>5.32e+05</td>\n",
       "</tr>\n",
       "</table><br/><br/>Notes:<br/>[1] Standard Errors assume that the covariance matrix of the errors is correctly specified.<br/>[2] The condition number is large, 5.32e+05. This might indicate that there are<br/>strong multicollinearity or other numerical problems."
      ],
      "text/plain": [
       "<class 'statsmodels.iolib.summary.Summary'>\n",
       "\"\"\"\n",
       "                            OLS Regression Results                            \n",
       "==============================================================================\n",
       "Dep. Variable:                      y   R-squared:                       0.950\n",
       "Model:                            OLS   Adj. R-squared:                  0.948\n",
       "Method:                 Least Squares   F-statistic:                     450.8\n",
       "Date:                Sat, 31 Jul 2021   Prob (F-statistic):           2.16e-31\n",
       "Time:                        15:58:44   Log-Likelihood:                -525.54\n",
       "No. Observations:                  50   AIC:                             1057.\n",
       "Df Residuals:                      47   BIC:                             1063.\n",
       "Df Model:                           2                                         \n",
       "Covariance Type:            nonrobust                                         \n",
       "==============================================================================\n",
       "                 coef    std err          t      P>|t|      [0.025      0.975]\n",
       "------------------------------------------------------------------------------\n",
       "const       4.698e+04   2689.933     17.464      0.000    4.16e+04    5.24e+04\n",
       "x1             0.7966      0.041     19.266      0.000       0.713       0.880\n",
       "x2             0.0299      0.016      1.927      0.060      -0.001       0.061\n",
       "==============================================================================\n",
       "Omnibus:                       14.677   Durbin-Watson:                   1.257\n",
       "Prob(Omnibus):                  0.001   Jarque-Bera (JB):               21.161\n",
       "Skew:                          -0.939   Prob(JB):                     2.54e-05\n",
       "Kurtosis:                       5.575   Cond. No.                     5.32e+05\n",
       "==============================================================================\n",
       "\n",
       "Notes:\n",
       "[1] Standard Errors assume that the covariance matrix of the errors is correctly specified.\n",
       "[2] The condition number is large, 5.32e+05. This might indicate that there are\n",
       "strong multicollinearity or other numerical problems.\n",
       "\"\"\""
      ]
     },
     "execution_count": 14,
     "metadata": {},
     "output_type": "execute_result"
    }
   ],
   "source": [
    "x_opt = x_opt[:, [0,1,3]]\n",
    "# print(x_opt)\n",
    "regressor_OLS = sm.OLS(endog=y, exog=x_opt).fit()\n",
    "regressor_OLS.summary()"
   ]
  },
  {
   "cell_type": "markdown",
   "id": "f3f64428",
   "metadata": {
    "papermill": {
     "duration": 0.023366,
     "end_time": "2021-07-31T15:58:44.112497",
     "exception": false,
     "start_time": "2021-07-31T15:58:44.089131",
     "status": "completed"
    },
    "tags": []
   },
   "source": [
    "***Automatic Backward Elimination***"
   ]
  },
  {
   "cell_type": "code",
   "execution_count": 15,
   "id": "415ccc64",
   "metadata": {
    "execution": {
     "iopub.execute_input": "2021-07-31T15:58:44.173771Z",
     "iopub.status.busy": "2021-07-31T15:58:44.166852Z",
     "iopub.status.idle": "2021-07-31T15:58:44.181978Z",
     "shell.execute_reply": "2021-07-31T15:58:44.181431Z",
     "shell.execute_reply.started": "2021-07-31T14:58:33.691300Z"
    },
    "papermill": {
     "duration": 0.046544,
     "end_time": "2021-07-31T15:58:44.182142",
     "exception": false,
     "start_time": "2021-07-31T15:58:44.135598",
     "status": "completed"
    },
    "tags": []
   },
   "outputs": [
    {
     "name": "stdout",
     "output_type": "stream",
     "text": [
      "[[1.0 0.0 0.0 1.0 165349.2]\n",
      " [1.0 1.0 0.0 0.0 162597.7]\n",
      " [1.0 0.0 1.0 0.0 153441.51]\n",
      " [1.0 0.0 0.0 1.0 144372.41]\n",
      " [1.0 0.0 1.0 0.0 142107.34]\n",
      " [1.0 0.0 0.0 1.0 131876.9]\n",
      " [1.0 1.0 0.0 0.0 134615.46]\n",
      " [1.0 0.0 1.0 0.0 130298.13]\n",
      " [1.0 0.0 0.0 1.0 120542.52]\n",
      " [1.0 1.0 0.0 0.0 123334.88]\n",
      " [1.0 0.0 1.0 0.0 101913.08]\n",
      " [1.0 1.0 0.0 0.0 100671.96]\n",
      " [1.0 0.0 1.0 0.0 93863.75]\n",
      " [1.0 1.0 0.0 0.0 91992.39]\n",
      " [1.0 0.0 1.0 0.0 119943.24]\n",
      " [1.0 0.0 0.0 1.0 114523.61]\n",
      " [1.0 1.0 0.0 0.0 78013.11]\n",
      " [1.0 0.0 0.0 1.0 94657.16]\n",
      " [1.0 0.0 1.0 0.0 91749.16]\n",
      " [1.0 0.0 0.0 1.0 86419.7]\n",
      " [1.0 1.0 0.0 0.0 76253.86]\n",
      " [1.0 0.0 0.0 1.0 78389.47]\n",
      " [1.0 0.0 1.0 0.0 73994.56]\n",
      " [1.0 0.0 1.0 0.0 67532.53]\n",
      " [1.0 0.0 0.0 1.0 77044.01]\n",
      " [1.0 1.0 0.0 0.0 64664.71]\n",
      " [1.0 0.0 1.0 0.0 75328.87]\n",
      " [1.0 0.0 0.0 1.0 72107.6]\n",
      " [1.0 0.0 1.0 0.0 66051.52]\n",
      " [1.0 0.0 0.0 1.0 65605.48]\n",
      " [1.0 0.0 1.0 0.0 61994.48]\n",
      " [1.0 0.0 0.0 1.0 61136.38]\n",
      " [1.0 1.0 0.0 0.0 63408.86]\n",
      " [1.0 0.0 1.0 0.0 55493.95]\n",
      " [1.0 1.0 0.0 0.0 46426.07]\n",
      " [1.0 0.0 0.0 1.0 46014.02]\n",
      " [1.0 0.0 1.0 0.0 28663.76]\n",
      " [1.0 1.0 0.0 0.0 44069.95]\n",
      " [1.0 0.0 0.0 1.0 20229.59]\n",
      " [1.0 1.0 0.0 0.0 38558.51]\n",
      " [1.0 1.0 0.0 0.0 28754.33]\n",
      " [1.0 0.0 1.0 0.0 27892.92]\n",
      " [1.0 1.0 0.0 0.0 23640.93]\n",
      " [1.0 0.0 0.0 1.0 15505.73]\n",
      " [1.0 1.0 0.0 0.0 22177.74]\n",
      " [1.0 0.0 0.0 1.0 1000.23]\n",
      " [1.0 0.0 1.0 0.0 1315.46]\n",
      " [1.0 1.0 0.0 0.0 0.0]\n",
      " [1.0 0.0 0.0 1.0 542.05]\n",
      " [1.0 1.0 0.0 0.0 0.0]]\n"
     ]
    }
   ],
   "source": [
    "import statsmodels.api as sm\n",
    "def backward_elimination(x, sl):\n",
    "    x = sm.add_constant(x)\n",
    "    numV = len(x[0])\n",
    "    for i in range(0, numV):\n",
    "        regressor_OLS = sm.OLS(y, x.astype(float)).fit()\n",
    "        max_p = max(regressor_OLS.pvalues).astype(float)\n",
    "        if max_p > sl:\n",
    "            for j in range(0, numV-i):\n",
    "                if regressor_OLS.pvalues[j].astype(float) == max_p:\n",
    "                    x = np.delete(x, j, 1)\n",
    "    regressor_OLS.summary()\n",
    "    return x\n",
    "\n",
    "x_opt = x[:, [0,1,2,3,4,5]]\n",
    "SL = 0.05\n",
    "x_model = backward_elimination(x_opt, SL)\n",
    "print(x_model)"
   ]
  },
  {
   "cell_type": "markdown",
   "id": "7ee17de5",
   "metadata": {
    "papermill": {
     "duration": 0.02427,
     "end_time": "2021-07-31T15:58:44.229533",
     "exception": false,
     "start_time": "2021-07-31T15:58:44.205263",
     "status": "completed"
    },
    "tags": []
   },
   "source": [
    "***Automatic Backward Elimination with p-values and Adjusted-R square***"
   ]
  },
  {
   "cell_type": "code",
   "execution_count": 16,
   "id": "30dc733f",
   "metadata": {
    "execution": {
     "iopub.execute_input": "2021-07-31T15:58:44.286789Z",
     "iopub.status.busy": "2021-07-31T15:58:44.286174Z",
     "iopub.status.idle": "2021-07-31T15:58:44.302633Z",
     "shell.execute_reply": "2021-07-31T15:58:44.303162Z",
     "shell.execute_reply.started": "2021-07-31T15:56:28.925708Z"
    },
    "papermill": {
     "duration": 0.050718,
     "end_time": "2021-07-31T15:58:44.303338",
     "exception": false,
     "start_time": "2021-07-31T15:58:44.252620",
     "status": "completed"
    },
    "tags": []
   },
   "outputs": [
    {
     "name": "stdout",
     "output_type": "stream",
     "text": [
      "                            OLS Regression Results                            \n",
      "==============================================================================\n",
      "Dep. Variable:                      y   R-squared:                       0.951\n",
      "Model:                            OLS   Adj. R-squared:                  0.945\n",
      "Method:                 Least Squares   F-statistic:                     169.9\n",
      "Date:                Sat, 31 Jul 2021   Prob (F-statistic):           1.34e-27\n",
      "Time:                        15:58:44   Log-Likelihood:                -525.38\n",
      "No. Observations:                  50   AIC:                             1063.\n",
      "Df Residuals:                      44   BIC:                             1074.\n",
      "Df Model:                           5                                         \n",
      "Covariance Type:            nonrobust                                         \n",
      "==============================================================================\n",
      "                 coef    std err          t      P>|t|      [0.025      0.975]\n",
      "------------------------------------------------------------------------------\n",
      "const       3.763e+04   5073.636      7.417      0.000    2.74e+04    4.79e+04\n",
      "x1          1.249e+04   2449.797      5.099      0.000    7554.868    1.74e+04\n",
      "x2          1.269e+04   2726.700      4.654      0.000    7195.596    1.82e+04\n",
      "x3          1.245e+04   2486.364      5.007      0.000    7439.285    1.75e+04\n",
      "x4             0.8060      0.046     17.369      0.000       0.712       0.900\n",
      "x5            -0.0270      0.052     -0.517      0.608      -0.132       0.078\n",
      "x6             0.0270      0.017      1.574      0.123      -0.008       0.062\n",
      "==============================================================================\n",
      "Omnibus:                       14.782   Durbin-Watson:                   1.283\n",
      "Prob(Omnibus):                  0.001   Jarque-Bera (JB):               21.266\n",
      "Skew:                          -0.948   Prob(JB):                     2.41e-05\n",
      "Kurtosis:                       5.572   Cond. No.                     2.42e+19\n",
      "==============================================================================\n",
      "\n",
      "Notes:\n",
      "[1] Standard Errors assume that the covariance matrix of the errors is correctly specified.\n",
      "[2] The smallest eigenvalue is 6.64e-27. This might indicate that there are\n",
      "strong multicollinearity problems or that the design matrix is singular.\n",
      "[[1.0 0.0 0.0 1.0 165349.2 471784.1 136897]\n",
      " [1.0 1.0 0.0 0.0 162597.7 443898.53 151377]\n",
      " [1.0 0.0 1.0 0.0 153441.51 407934.54 101145]\n",
      " [1.0 0.0 0.0 1.0 144372.41 383199.62 118671]\n",
      " [1.0 0.0 1.0 0.0 142107.34 366168.42 91391]\n",
      " [1.0 0.0 0.0 1.0 131876.9 362861.36 99814]\n",
      " [1.0 1.0 0.0 0.0 134615.46 127716.82 147198]\n",
      " [1.0 0.0 1.0 0.0 130298.13 323876.68 145530]\n",
      " [1.0 0.0 0.0 1.0 120542.52 311613.29 148718]\n",
      " [1.0 1.0 0.0 0.0 123334.88 304981.62 108679]\n",
      " [1.0 0.0 1.0 0.0 101913.08 229160.95 110594]\n",
      " [1.0 1.0 0.0 0.0 100671.96 249744.55 91790]\n",
      " [1.0 0.0 1.0 0.0 93863.75 249839.44 127320]\n",
      " [1.0 1.0 0.0 0.0 91992.39 252664.93 135495]\n",
      " [1.0 0.0 1.0 0.0 119943.24 256512.92 156547]\n",
      " [1.0 0.0 0.0 1.0 114523.61 261776.23 122616]\n",
      " [1.0 1.0 0.0 0.0 78013.11 264346.06 121597]\n",
      " [1.0 0.0 0.0 1.0 94657.16 282574.31 145077]\n",
      " [1.0 0.0 1.0 0.0 91749.16 294919.57 114175]\n",
      " [1.0 0.0 0.0 1.0 86419.7 0.0 153514]\n",
      " [1.0 1.0 0.0 0.0 76253.86 298664.47 113867]\n",
      " [1.0 0.0 0.0 1.0 78389.47 299737.29 153773]\n",
      " [1.0 0.0 1.0 0.0 73994.56 303319.26 122782]\n",
      " [1.0 0.0 1.0 0.0 67532.53 304768.73 105751]\n",
      " [1.0 0.0 0.0 1.0 77044.01 140574.81 99281]\n",
      " [1.0 1.0 0.0 0.0 64664.71 137962.62 139553]\n",
      " [1.0 0.0 1.0 0.0 75328.87 134050.07 144135]\n",
      " [1.0 0.0 0.0 1.0 72107.6 353183.81 127864]\n",
      " [1.0 0.0 1.0 0.0 66051.52 118148.2 182645]\n",
      " [1.0 0.0 0.0 1.0 65605.48 107138.38 153032]\n",
      " [1.0 0.0 1.0 0.0 61994.48 91131.24 115641]\n",
      " [1.0 0.0 0.0 1.0 61136.38 88218.23 152701]\n",
      " [1.0 1.0 0.0 0.0 63408.86 46085.25 129219]\n",
      " [1.0 0.0 1.0 0.0 55493.95 214634.81 103057]\n",
      " [1.0 1.0 0.0 0.0 46426.07 210797.67 157693]\n",
      " [1.0 0.0 0.0 1.0 46014.02 205517.64 85047]\n",
      " [1.0 0.0 1.0 0.0 28663.76 201126.82 127056]\n",
      " [1.0 1.0 0.0 0.0 44069.95 197029.42 51283]\n",
      " [1.0 0.0 0.0 1.0 20229.59 185265.1 65947]\n",
      " [1.0 1.0 0.0 0.0 38558.51 174999.3 82982]\n",
      " [1.0 1.0 0.0 0.0 28754.33 172795.67 118546]\n",
      " [1.0 0.0 1.0 0.0 27892.92 164470.71 84710]\n",
      " [1.0 1.0 0.0 0.0 23640.93 148001.11 96189]\n",
      " [1.0 0.0 0.0 1.0 15505.73 35534.17 127382]\n",
      " [1.0 1.0 0.0 0.0 22177.74 28334.72 154806]\n",
      " [1.0 0.0 0.0 1.0 1000.23 1903.93 124153]\n",
      " [1.0 0.0 1.0 0.0 1315.46 297114.46 115816]\n",
      " [1.0 1.0 0.0 0.0 0.0 0.0 135426]\n",
      " [1.0 0.0 0.0 1.0 542.05 0.0 51743]\n",
      " [1.0 1.0 0.0 0.0 0.0 45173.06 116983]]\n",
      "(50, 7)\n"
     ]
    }
   ],
   "source": [
    "import statsmodels.api as sm\n",
    "def backward_elimination_adjR(x, sl):\n",
    "    x = sm.add_constant(x)\n",
    "    temp = np.zeros(x.shape).astype(int)\n",
    "    numV = len(x[0])\n",
    "    for i in range(0, numV):\n",
    "        regressor_OLS = sm.OLS(y, x.astype(float)).fit()\n",
    "        max_p = max(regressor_OLS.pvalues).astype(float)\n",
    "        adjR_before = regressor_OLS.rsquared_adj.astype(float)\n",
    "        if max_p > sl:\n",
    "            for j in range(0, numV-i):\n",
    "                if regressor_OLS.pvalues[j].astype(float) == max_p:\n",
    "                    temp[:, j] = x[:, j]\n",
    "                    x = np.delete(x, j, 1)\n",
    "                    tmp_regressor = sm.OLS(y, x.astype(float)).fit()\n",
    "                    adjR_after = regressor_OLS.rsquared_adj.astype(float)\n",
    "                    if (adjR_before>=adjR_after):\n",
    "                        x_rollback = np.hstack((x, temp[:, [j]]))\n",
    "#                         x_rollback = np.delete(x_rollback, j ,1)\n",
    "                        print(regressor_OLS.summary())\n",
    "                        return x_rollback\n",
    "                    else:\n",
    "                        continue\n",
    "    print(regressor_OLS.summary())\n",
    "    return x\n",
    "\n",
    "x_opt = x[:, [0,1,2,3,4,5]]\n",
    "SL = 0.05\n",
    "x_model = backward_elimination_adjR(x_opt, SL)\n",
    "print(x_model)\n",
    "print(x_model.shape)"
   ]
  },
  {
   "cell_type": "code",
   "execution_count": 17,
   "id": "6c50345e",
   "metadata": {
    "execution": {
     "iopub.execute_input": "2021-07-31T15:58:44.358053Z",
     "iopub.status.busy": "2021-07-31T15:58:44.357359Z",
     "iopub.status.idle": "2021-07-31T15:58:44.360662Z",
     "shell.execute_reply": "2021-07-31T15:58:44.361102Z",
     "shell.execute_reply.started": "2021-07-31T15:51:04.133988Z"
    },
    "papermill": {
     "duration": 0.033922,
     "end_time": "2021-07-31T15:58:44.361265",
     "exception": false,
     "start_time": "2021-07-31T15:58:44.327343",
     "status": "completed"
    },
    "tags": []
   },
   "outputs": [
    {
     "name": "stdout",
     "output_type": "stream",
     "text": [
      "[[1. 1. 0. 0. 1. 1. 1.]\n",
      " [1. 1. 0. 0. 1. 1. 1.]\n",
      " [1. 1. 0. 0. 1. 1. 1.]\n",
      " [1. 1. 0. 0. 1. 1. 1.]\n",
      " [1. 1. 0. 0. 1. 1. 1.]]\n"
     ]
    }
   ],
   "source": [
    "xz = np.ones((5,2))\n",
    "raf = np.zeros((5,2))\n",
    "xz = np.hstack((xz, raf))\n",
    "xz = np.hstack((xz, np.ones((5,3))))\n",
    "print(xz)"
   ]
  },
  {
   "cell_type": "code",
   "execution_count": 18,
   "id": "ec571a91",
   "metadata": {
    "execution": {
     "iopub.execute_input": "2021-07-31T15:58:44.415669Z",
     "iopub.status.busy": "2021-07-31T15:58:44.415011Z",
     "iopub.status.idle": "2021-07-31T15:58:44.418767Z",
     "shell.execute_reply": "2021-07-31T15:58:44.418190Z",
     "shell.execute_reply.started": "2021-07-31T15:32:14.217847Z"
    },
    "papermill": {
     "duration": 0.033964,
     "end_time": "2021-07-31T15:58:44.418916",
     "exception": false,
     "start_time": "2021-07-31T15:58:44.384952",
     "status": "completed"
    },
    "tags": []
   },
   "outputs": [
    {
     "name": "stdout",
     "output_type": "stream",
     "text": [
      "[[1. 0. 0. 1. 1. 1. 1.]\n",
      " [1. 0. 0. 1. 1. 1. 1.]\n",
      " [1. 0. 0. 1. 1. 1. 1.]\n",
      " [1. 0. 0. 1. 1. 1. 1.]\n",
      " [1. 0. 0. 1. 1. 1. 1.]]\n"
     ]
    }
   ],
   "source": [
    "temp = np.zeros(xz.shape).astype(int)\n",
    "temp[:,1] = xz[:, 1]\n",
    "xz = np.delete(xz, 1,1)\n",
    "x_r = np.hstack((xz, temp[:, [1]]))\n",
    "# x_r = np.delete(x_r,1,1)\n",
    "print(x_r)"
   ]
  },
  {
   "cell_type": "code",
   "execution_count": 19,
   "id": "80229bb3",
   "metadata": {
    "execution": {
     "iopub.execute_input": "2021-07-31T15:58:44.473339Z",
     "iopub.status.busy": "2021-07-31T15:58:44.472736Z",
     "iopub.status.idle": "2021-07-31T15:58:44.475993Z",
     "shell.execute_reply": "2021-07-31T15:58:44.475426Z",
     "shell.execute_reply.started": "2021-07-31T15:51:07.224826Z"
    },
    "papermill": {
     "duration": 0.032568,
     "end_time": "2021-07-31T15:58:44.476167",
     "exception": false,
     "start_time": "2021-07-31T15:58:44.443599",
     "status": "completed"
    },
    "tags": []
   },
   "outputs": [
    {
     "name": "stdout",
     "output_type": "stream",
     "text": [
      "[[1. 0. 1. 1. 1. 0.]\n",
      " [1. 0. 1. 1. 1. 0.]\n",
      " [1. 0. 1. 1. 1. 0.]\n",
      " [1. 0. 1. 1. 1. 0.]\n",
      " [1. 0. 1. 1. 1. 0.]]\n"
     ]
    }
   ],
   "source": [
    "temp = np.zeros(xz.shape).astype(int)\n",
    "temp[:,1] = xz[:, 1]\n",
    "xz = np.delete(xz, 1,1)\n",
    "x_r = np.hstack((xz, temp[:, [1]]))\n",
    "# x_r = np.delete(x_r,1,1)\n",
    "print(x_r)"
   ]
  },
  {
   "cell_type": "code",
   "execution_count": null,
   "id": "235d7f9d",
   "metadata": {
    "papermill": {
     "duration": 0.025229,
     "end_time": "2021-07-31T15:58:44.526414",
     "exception": false,
     "start_time": "2021-07-31T15:58:44.501185",
     "status": "completed"
    },
    "tags": []
   },
   "outputs": [],
   "source": []
  }
 ],
 "metadata": {
  "kernelspec": {
   "display_name": "Python 3",
   "language": "python",
   "name": "python3"
  },
  "language_info": {
   "codemirror_mode": {
    "name": "ipython",
    "version": 3
   },
   "file_extension": ".py",
   "mimetype": "text/x-python",
   "name": "python",
   "nbconvert_exporter": "python",
   "pygments_lexer": "ipython3",
   "version": "3.7.10"
  },
  "papermill": {
   "default_parameters": {},
   "duration": 11.451188,
   "end_time": "2021-07-31T15:58:45.260274",
   "environment_variables": {},
   "exception": null,
   "input_path": "__notebook__.ipynb",
   "output_path": "__notebook__.ipynb",
   "parameters": {},
   "start_time": "2021-07-31T15:58:33.809086",
   "version": "2.3.3"
  }
 },
 "nbformat": 4,
 "nbformat_minor": 5
}
