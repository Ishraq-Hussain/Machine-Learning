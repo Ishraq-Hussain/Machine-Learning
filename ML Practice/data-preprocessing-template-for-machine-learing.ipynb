{
 "cells": [
  {
   "cell_type": "markdown",
   "id": "71698fe5",
   "metadata": {
    "papermill": {
     "duration": 0.010217,
     "end_time": "2021-07-29T14:34:34.200398",
     "exception": false,
     "start_time": "2021-07-29T14:34:34.190181",
     "status": "completed"
    },
    "tags": []
   },
   "source": [
    "# **Basic 6 step applicable for almost all machine learing model**"
   ]
  },
  {
   "cell_type": "markdown",
   "id": "2fe9f339",
   "metadata": {
    "papermill": {
     "duration": 0.008916,
     "end_time": "2021-07-29T14:34:34.218925",
     "exception": false,
     "start_time": "2021-07-29T14:34:34.210009",
     "status": "completed"
    },
    "tags": []
   },
   "source": [
    "**Importing the Libraries**"
   ]
  },
  {
   "cell_type": "code",
   "execution_count": 1,
   "id": "170ee288",
   "metadata": {
    "execution": {
     "iopub.execute_input": "2021-07-29T14:34:34.241549Z",
     "iopub.status.busy": "2021-07-29T14:34:34.240395Z",
     "iopub.status.idle": "2021-07-29T14:34:34.250743Z",
     "shell.execute_reply": "2021-07-29T14:34:34.251256Z",
     "shell.execute_reply.started": "2021-07-29T14:28:09.385010Z"
    },
    "papermill": {
     "duration": 0.023369,
     "end_time": "2021-07-29T14:34:34.251570",
     "exception": false,
     "start_time": "2021-07-29T14:34:34.228201",
     "status": "completed"
    },
    "tags": []
   },
   "outputs": [],
   "source": [
    "#Import Libraries\n",
    "import numpy as np\n",
    "import pandas as pd\n",
    "import matplotlib.pyplot as plt"
   ]
  },
  {
   "cell_type": "markdown",
   "id": "f9d31911",
   "metadata": {
    "papermill": {
     "duration": 0.00927,
     "end_time": "2021-07-29T14:34:34.270308",
     "exception": false,
     "start_time": "2021-07-29T14:34:34.261038",
     "status": "completed"
    },
    "tags": []
   },
   "source": [
    "**Import the Dataset**"
   ]
  },
  {
   "cell_type": "code",
   "execution_count": 2,
   "id": "3e9c3c9e",
   "metadata": {
    "execution": {
     "iopub.execute_input": "2021-07-29T14:34:34.291907Z",
     "iopub.status.busy": "2021-07-29T14:34:34.291230Z",
     "iopub.status.idle": "2021-07-29T14:34:34.409232Z",
     "shell.execute_reply": "2021-07-29T14:34:34.408414Z",
     "shell.execute_reply.started": "2021-07-29T14:28:12.873204Z"
    },
    "papermill": {
     "duration": 0.130017,
     "end_time": "2021-07-29T14:34:34.409637",
     "exception": false,
     "start_time": "2021-07-29T14:34:34.279620",
     "status": "completed"
    },
    "tags": []
   },
   "outputs": [
    {
     "name": "stdout",
     "output_type": "stream",
     "text": [
      "[['France' 44.0 72000.0]\n",
      " ['Spain' 27.0 48000.0]\n",
      " ['Germany' 30.0 54000.0]\n",
      " ['Spain' 38.0 61000.0]\n",
      " ['Germany' 40.0 nan]\n",
      " ['France' 35.0 58000.0]\n",
      " ['Spain' nan 52000.0]\n",
      " ['France' 48.0 79000.0]\n",
      " ['Germany' 50.0 83000.0]\n",
      " ['France' 37.0 67000.0]]\n",
      "['No' 'Yes' 'No' 'No' 'Yes' 'Yes' 'No' 'Yes' 'No' 'Yes']\n"
     ]
    }
   ],
   "source": [
    "#Importing the Dataset\n",
    "dataset = pd.read_csv(\"../input/datacsv/Data.csv\")\n",
    "X = dataset.iloc[:, :-1].values           # saving the independent variable as a 2D array\n",
    "y = dataset.iloc[:, -1].values            #saving the dependent variable as a vector or 1D array\n",
    "print(X)\n",
    "print(y)"
   ]
  },
  {
   "cell_type": "markdown",
   "id": "75c6bc11",
   "metadata": {
    "papermill": {
     "duration": 0.011411,
     "end_time": "2021-07-29T14:34:34.434225",
     "exception": false,
     "start_time": "2021-07-29T14:34:34.422814",
     "status": "completed"
    },
    "tags": []
   },
   "source": [
    "**Handling Missing Values**"
   ]
  },
  {
   "cell_type": "code",
   "execution_count": 3,
   "id": "cce3af64",
   "metadata": {
    "execution": {
     "iopub.execute_input": "2021-07-29T14:34:34.466711Z",
     "iopub.status.busy": "2021-07-29T14:34:34.465993Z",
     "iopub.status.idle": "2021-07-29T14:34:35.683121Z",
     "shell.execute_reply": "2021-07-29T14:34:35.682287Z",
     "shell.execute_reply.started": "2021-07-12T16:13:27.042298Z"
    },
    "papermill": {
     "duration": 1.234588,
     "end_time": "2021-07-29T14:34:35.683335",
     "exception": false,
     "start_time": "2021-07-29T14:34:34.448747",
     "status": "completed"
    },
    "tags": []
   },
   "outputs": [
    {
     "name": "stdout",
     "output_type": "stream",
     "text": [
      "[['France' 44.0 72000.0]\n",
      " ['Spain' 27.0 48000.0]\n",
      " ['Germany' 30.0 54000.0]\n",
      " ['Spain' 38.0 61000.0]\n",
      " ['Germany' 40.0 63777.77777777778]\n",
      " ['France' 35.0 58000.0]\n",
      " ['Spain' 38.77777777777778 52000.0]\n",
      " ['France' 48.0 79000.0]\n",
      " ['Germany' 50.0 83000.0]\n",
      " ['France' 37.0 67000.0]]\n"
     ]
    }
   ],
   "source": [
    "#Handling Missing Values\n",
    "from sklearn.impute import SimpleImputer\n",
    "imputer = SimpleImputer(missing_values = np.nan, strategy='mean')\n",
    "# imputer.fit(X[:, [1,2]])\n",
    "X[:, [1,2]] = imputer.fit_transform(X[:, [1,2]])\n",
    "print(X)"
   ]
  },
  {
   "cell_type": "markdown",
   "id": "8544f7f8",
   "metadata": {
    "papermill": {
     "duration": 0.010441,
     "end_time": "2021-07-29T14:34:35.704523",
     "exception": false,
     "start_time": "2021-07-29T14:34:35.694082",
     "status": "completed"
    },
    "tags": []
   },
   "source": [
    "**Encoding the categorical variable**"
   ]
  },
  {
   "cell_type": "code",
   "execution_count": 4,
   "id": "1c39345b",
   "metadata": {
    "execution": {
     "iopub.execute_input": "2021-07-29T14:34:35.731350Z",
     "iopub.status.busy": "2021-07-29T14:34:35.730542Z",
     "iopub.status.idle": "2021-07-29T14:34:35.747964Z",
     "shell.execute_reply": "2021-07-29T14:34:35.747367Z",
     "shell.execute_reply.started": "2021-07-12T16:13:28.351284Z"
    },
    "papermill": {
     "duration": 0.033387,
     "end_time": "2021-07-29T14:34:35.748105",
     "exception": false,
     "start_time": "2021-07-29T14:34:35.714718",
     "status": "completed"
    },
    "tags": []
   },
   "outputs": [
    {
     "name": "stdout",
     "output_type": "stream",
     "text": [
      "[[1.0 0.0 0.0 44.0 72000.0]\n",
      " [0.0 0.0 1.0 27.0 48000.0]\n",
      " [0.0 1.0 0.0 30.0 54000.0]\n",
      " [0.0 0.0 1.0 38.0 61000.0]\n",
      " [0.0 1.0 0.0 40.0 63777.77777777778]\n",
      " [1.0 0.0 0.0 35.0 58000.0]\n",
      " [0.0 0.0 1.0 38.77777777777778 52000.0]\n",
      " [1.0 0.0 0.0 48.0 79000.0]\n",
      " [0.0 1.0 0.0 50.0 83000.0]\n",
      " [1.0 0.0 0.0 37.0 67000.0]]\n",
      "[0 1 0 0 1 1 0 1 0 1]\n"
     ]
    }
   ],
   "source": [
    "#Encoding the categorical varible\n",
    "#Encoding the Independent variable\n",
    "from sklearn.compose import ColumnTransformer\n",
    "from sklearn.preprocessing import OneHotEncoder\n",
    "ct = ColumnTransformer(transformers=[('encoder', OneHotEncoder(), [0])], remainder='passthrough')\n",
    "X = ct.fit_transform(X)\n",
    "print(X)\n",
    "\n",
    "#Encoding the dependent variable\n",
    "from sklearn.preprocessing import LabelEncoder\n",
    "le = LabelEncoder()\n",
    "y = le.fit_transform(y)\n",
    "print(y)"
   ]
  },
  {
   "cell_type": "markdown",
   "id": "2c509453",
   "metadata": {
    "papermill": {
     "duration": 0.010101,
     "end_time": "2021-07-29T14:34:35.768694",
     "exception": false,
     "start_time": "2021-07-29T14:34:35.758593",
     "status": "completed"
    },
    "tags": []
   },
   "source": [
    "**Transforming the dataset into test set and training set**"
   ]
  },
  {
   "cell_type": "code",
   "execution_count": 5,
   "id": "fd9e16dc",
   "metadata": {
    "execution": {
     "iopub.execute_input": "2021-07-29T14:34:35.798030Z",
     "iopub.status.busy": "2021-07-29T14:34:35.797148Z",
     "iopub.status.idle": "2021-07-29T14:34:35.801939Z",
     "shell.execute_reply": "2021-07-29T14:34:35.801335Z",
     "shell.execute_reply.started": "2021-07-12T16:14:55.831141Z"
    },
    "papermill": {
     "duration": 0.022613,
     "end_time": "2021-07-29T14:34:35.802072",
     "exception": false,
     "start_time": "2021-07-29T14:34:35.779459",
     "status": "completed"
    },
    "tags": []
   },
   "outputs": [
    {
     "name": "stdout",
     "output_type": "stream",
     "text": [
      "[[1.0 0.0 0.0 37.0 67000.0]\n",
      " [1.0 0.0 0.0 44.0 72000.0]\n",
      " [0.0 1.0 0.0 30.0 54000.0]\n",
      " [1.0 0.0 0.0 35.0 58000.0]\n",
      " [1.0 0.0 0.0 48.0 79000.0]\n",
      " [0.0 0.0 1.0 27.0 48000.0]\n",
      " [0.0 1.0 0.0 40.0 63777.77777777778]\n",
      " [0.0 0.0 1.0 38.0 61000.0]]\n",
      "[1 0 0 1 1 1 1 0]\n",
      "[[0.0 1.0 0.0 50.0 83000.0]\n",
      " [0.0 0.0 1.0 38.77777777777778 52000.0]]\n",
      "[0 0]\n"
     ]
    }
   ],
   "source": [
    "#Transforming the dataset into test set and train set\n",
    "from sklearn.model_selection import train_test_split\n",
    "# help(train_test_split)\n",
    "X_train, X_test, y_train, y_test = train_test_split(X, y, test_size = 0.2, random_state=8)\n",
    "print(X_train)\n",
    "print(y_train)\n",
    "print(X_test)\n",
    "print(y_test)"
   ]
  },
  {
   "cell_type": "markdown",
   "id": "619b3355",
   "metadata": {
    "papermill": {
     "duration": 0.010332,
     "end_time": "2021-07-29T14:34:35.823134",
     "exception": false,
     "start_time": "2021-07-29T14:34:35.812802",
     "status": "completed"
    },
    "tags": []
   },
   "source": [
    "**Feature Scaling**"
   ]
  },
  {
   "cell_type": "code",
   "execution_count": 6,
   "id": "92788429",
   "metadata": {
    "execution": {
     "iopub.execute_input": "2021-07-29T14:34:35.852653Z",
     "iopub.status.busy": "2021-07-29T14:34:35.851874Z",
     "iopub.status.idle": "2021-07-29T14:34:35.855547Z",
     "shell.execute_reply": "2021-07-29T14:34:35.854902Z",
     "shell.execute_reply.started": "2021-07-12T16:15:01.686669Z"
    },
    "papermill": {
     "duration": 0.02148,
     "end_time": "2021-07-29T14:34:35.855687",
     "exception": false,
     "start_time": "2021-07-29T14:34:35.834207",
     "status": "completed"
    },
    "tags": []
   },
   "outputs": [
    {
     "name": "stdout",
     "output_type": "stream",
     "text": [
      "[[1.0 0.0 0.0 -0.058222250973958195 0.4476695040387244]\n",
      " [1.0 0.0 0.0 1.0285931005399283 0.9866695757910343]\n",
      " [0.0 1.0 0.0 -1.1450376024878446 -0.9537306825172813]\n",
      " [1.0 0.0 0.0 -0.3687409228350686 -0.5225306251154334]\n",
      " [1.0 0.0 0.0 1.649630444262149 1.741269676244268]\n",
      " [0.0 0.0 1.0 -1.6108156102795101 -1.6005307686200532]\n",
      " [0.0 1.0 0.0 0.4075557568177074 0.1003139022427917]\n",
      " [0.0 0.0 1.0 0.09703708495659699 -0.19913058206404746]]\n",
      "[[0.0 1.0 0.0 1.9601491161232594 2.172469733646116]\n",
      " [0.0 0.0 1.0 0.21779434623591784 -1.1693307112182052]]\n"
     ]
    }
   ],
   "source": [
    "#Feature Scaling\n",
    "from sklearn.preprocessing import StandardScaler\n",
    "sc = StandardScaler()\n",
    "X_train[:, 3:] = sc.fit_transform(X_train[:, 3:])\n",
    "X_test[:, 3:] = sc.transform(X_test[:, 3:])\n",
    "print(X_train)\n",
    "print(X_test)"
   ]
  }
 ],
 "metadata": {
  "kernelspec": {
   "display_name": "Python 3",
   "language": "python",
   "name": "python3"
  },
  "language_info": {
   "codemirror_mode": {
    "name": "ipython",
    "version": 3
   },
   "file_extension": ".py",
   "mimetype": "text/x-python",
   "name": "python",
   "nbconvert_exporter": "python",
   "pygments_lexer": "ipython3",
   "version": "3.7.10"
  },
  "papermill": {
   "default_parameters": {},
   "duration": 11.840177,
   "end_time": "2021-07-29T14:34:37.472154",
   "environment_variables": {},
   "exception": null,
   "input_path": "__notebook__.ipynb",
   "output_path": "__notebook__.ipynb",
   "parameters": {},
   "start_time": "2021-07-29T14:34:25.631977",
   "version": "2.3.3"
  }
 },
 "nbformat": 4,
 "nbformat_minor": 5
}
