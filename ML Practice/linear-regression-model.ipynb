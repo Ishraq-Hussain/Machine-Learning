{
 "cells": [
  {
   "cell_type": "code",
   "execution_count": 1,
   "id": "faf9b56f",
   "metadata": {
    "_cell_guid": "b1076dfc-b9ad-4769-8c92-a6c4dae69d19",
    "_uuid": "8f2839f25d086af736a60e9eeb907d3b93b6e0e5",
    "execution": {
     "iopub.execute_input": "2021-07-29T15:30:21.303563Z",
     "iopub.status.busy": "2021-07-29T15:30:21.302363Z",
     "iopub.status.idle": "2021-07-29T15:30:21.323647Z",
     "shell.execute_reply": "2021-07-29T15:30:21.324176Z",
     "shell.execute_reply.started": "2021-07-29T14:52:56.523346Z"
    },
    "papermill": {
     "duration": 0.037399,
     "end_time": "2021-07-29T15:30:21.324540",
     "exception": false,
     "start_time": "2021-07-29T15:30:21.287141",
     "status": "completed"
    },
    "tags": []
   },
   "outputs": [
    {
     "name": "stdout",
     "output_type": "stream",
     "text": [
      "/kaggle/input/salary-data-simple-linear-regression/Salary_Data.csv\n"
     ]
    }
   ],
   "source": [
    "# This Python 3 environment comes with many helpful analytics libraries installed\n",
    "# It is defined by the kaggle/python Docker image: https://github.com/kaggle/docker-python\n",
    "# For example, here's several helpful packages to load\n",
    "\n",
    "import numpy as np # linear algebra\n",
    "import pandas as pd # data processing, CSV file I/O (e.g. pd.read_csv)\n",
    "\n",
    "# Input data files are available in the read-only \"../input/\" directory\n",
    "# For example, running this (by clicking run or pressing Shift+Enter) will list all files under the input directory\n",
    "\n",
    "import os\n",
    "for dirname, _, filenames in os.walk('/kaggle/input'):\n",
    "    for filename in filenames:\n",
    "        print(os.path.join(dirname, filename))\n",
    "\n",
    "# You can write up to 20GB to the current directory (/kaggle/working/) that gets preserved as output when you create a version using \"Save & Run All\" \n",
    "# You can also write temporary files to /kaggle/temp/, but they won't be saved outside of the current session"
   ]
  },
  {
   "cell_type": "code",
   "execution_count": 2,
   "id": "1abb18e2",
   "metadata": {
    "execution": {
     "iopub.execute_input": "2021-07-29T15:30:21.348213Z",
     "iopub.status.busy": "2021-07-29T15:30:21.347381Z",
     "iopub.status.idle": "2021-07-29T15:30:21.351407Z",
     "shell.execute_reply": "2021-07-29T15:30:21.351946Z",
     "shell.execute_reply.started": "2021-07-29T14:53:32.466008Z"
    },
    "papermill": {
     "duration": 0.017406,
     "end_time": "2021-07-29T15:30:21.352153",
     "exception": false,
     "start_time": "2021-07-29T15:30:21.334747",
     "status": "completed"
    },
    "tags": []
   },
   "outputs": [],
   "source": [
    "#Importing Libraries\n",
    "import numpy as np\n",
    "import pandas as pd\n",
    "import matplotlib.pyplot as plt"
   ]
  },
  {
   "cell_type": "code",
   "execution_count": 3,
   "id": "97d1c856",
   "metadata": {
    "execution": {
     "iopub.execute_input": "2021-07-29T15:30:21.374810Z",
     "iopub.status.busy": "2021-07-29T15:30:21.374109Z",
     "iopub.status.idle": "2021-07-29T15:30:21.549984Z",
     "shell.execute_reply": "2021-07-29T15:30:21.550521Z",
     "shell.execute_reply.started": "2021-07-29T14:55:16.168325Z"
    },
    "papermill": {
     "duration": 0.189015,
     "end_time": "2021-07-29T15:30:21.550730",
     "exception": false,
     "start_time": "2021-07-29T15:30:21.361715",
     "status": "completed"
    },
    "tags": []
   },
   "outputs": [
    {
     "data": {
      "text/html": [
       "<div>\n",
       "<style scoped>\n",
       "    .dataframe tbody tr th:only-of-type {\n",
       "        vertical-align: middle;\n",
       "    }\n",
       "\n",
       "    .dataframe tbody tr th {\n",
       "        vertical-align: top;\n",
       "    }\n",
       "\n",
       "    .dataframe thead th {\n",
       "        text-align: right;\n",
       "    }\n",
       "</style>\n",
       "<table border=\"1\" class=\"dataframe\">\n",
       "  <thead>\n",
       "    <tr style=\"text-align: right;\">\n",
       "      <th></th>\n",
       "      <th>YearsExperience</th>\n",
       "      <th>Salary</th>\n",
       "    </tr>\n",
       "  </thead>\n",
       "  <tbody>\n",
       "    <tr>\n",
       "      <th>0</th>\n",
       "      <td>1.1</td>\n",
       "      <td>39343.0</td>\n",
       "    </tr>\n",
       "    <tr>\n",
       "      <th>1</th>\n",
       "      <td>1.3</td>\n",
       "      <td>46205.0</td>\n",
       "    </tr>\n",
       "    <tr>\n",
       "      <th>2</th>\n",
       "      <td>1.5</td>\n",
       "      <td>37731.0</td>\n",
       "    </tr>\n",
       "    <tr>\n",
       "      <th>3</th>\n",
       "      <td>2.0</td>\n",
       "      <td>43525.0</td>\n",
       "    </tr>\n",
       "    <tr>\n",
       "      <th>4</th>\n",
       "      <td>2.2</td>\n",
       "      <td>39891.0</td>\n",
       "    </tr>\n",
       "  </tbody>\n",
       "</table>\n",
       "</div>"
      ],
      "text/plain": [
       "   YearsExperience   Salary\n",
       "0              1.1  39343.0\n",
       "1              1.3  46205.0\n",
       "2              1.5  37731.0\n",
       "3              2.0  43525.0\n",
       "4              2.2  39891.0"
      ]
     },
     "execution_count": 3,
     "metadata": {},
     "output_type": "execute_result"
    }
   ],
   "source": [
    "#Importing the dataset\n",
    "df = pd.read_csv('../input/salary-data-simple-linear-regression/Salary_Data.csv')\n",
    "df.head()"
   ]
  },
  {
   "cell_type": "code",
   "execution_count": 4,
   "id": "97819823",
   "metadata": {
    "execution": {
     "iopub.execute_input": "2021-07-29T15:30:21.574913Z",
     "iopub.status.busy": "2021-07-29T15:30:21.574190Z",
     "iopub.status.idle": "2021-07-29T15:30:21.584203Z",
     "shell.execute_reply": "2021-07-29T15:30:21.583262Z",
     "shell.execute_reply.started": "2021-07-29T14:57:33.728306Z"
    },
    "papermill": {
     "duration": 0.023914,
     "end_time": "2021-07-29T15:30:21.584462",
     "exception": false,
     "start_time": "2021-07-29T15:30:21.560548",
     "status": "completed"
    },
    "tags": []
   },
   "outputs": [
    {
     "name": "stdout",
     "output_type": "stream",
     "text": [
      "[[ 1.1]\n",
      " [ 1.3]\n",
      " [ 1.5]\n",
      " [ 2. ]\n",
      " [ 2.2]\n",
      " [ 2.9]\n",
      " [ 3. ]\n",
      " [ 3.2]\n",
      " [ 3.2]\n",
      " [ 3.7]\n",
      " [ 3.9]\n",
      " [ 4. ]\n",
      " [ 4. ]\n",
      " [ 4.1]\n",
      " [ 4.5]\n",
      " [ 4.9]\n",
      " [ 5.1]\n",
      " [ 5.3]\n",
      " [ 5.9]\n",
      " [ 6. ]\n",
      " [ 6.8]\n",
      " [ 7.1]\n",
      " [ 7.9]\n",
      " [ 8.2]\n",
      " [ 8.7]\n",
      " [ 9. ]\n",
      " [ 9.5]\n",
      " [ 9.6]\n",
      " [10.3]\n",
      " [10.5]]\n",
      "[ 39343.  46205.  37731.  43525.  39891.  56642.  60150.  54445.  64445.\n",
      "  57189.  63218.  55794.  56957.  57081.  61111.  67938.  66029.  83088.\n",
      "  81363.  93940.  91738.  98273. 101302. 113812. 109431. 105582. 116969.\n",
      " 112635. 122391. 121872.]\n"
     ]
    }
   ],
   "source": [
    "#Spliting the dataset into independent and dependent variable\n",
    "x = df.iloc[:, :-1].values\n",
    "y = df.iloc[:, -1].values\n",
    "print(x)\n",
    "print(y)"
   ]
  },
  {
   "cell_type": "code",
   "execution_count": 5,
   "id": "cce44690",
   "metadata": {
    "execution": {
     "iopub.execute_input": "2021-07-29T15:30:21.612515Z",
     "iopub.status.busy": "2021-07-29T15:30:21.611771Z",
     "iopub.status.idle": "2021-07-29T15:30:22.673421Z",
     "shell.execute_reply": "2021-07-29T15:30:22.672766Z",
     "shell.execute_reply.started": "2021-07-29T15:00:34.038911Z"
    },
    "papermill": {
     "duration": 1.07803,
     "end_time": "2021-07-29T15:30:22.673611",
     "exception": false,
     "start_time": "2021-07-29T15:30:21.595581",
     "status": "completed"
    },
    "tags": []
   },
   "outputs": [
    {
     "name": "stdout",
     "output_type": "stream",
     "text": [
      "[[ 8.7]\n",
      " [ 9.6]\n",
      " [ 4. ]\n",
      " [ 5.3]\n",
      " [ 7.9]\n",
      " [ 2.9]\n",
      " [ 5.1]\n",
      " [ 3.2]\n",
      " [ 4.5]\n",
      " [ 8.2]\n",
      " [ 6.8]\n",
      " [ 1.3]\n",
      " [10.5]\n",
      " [ 3. ]\n",
      " [ 2.2]\n",
      " [ 5.9]\n",
      " [ 6. ]\n",
      " [ 3.7]\n",
      " [ 3.2]\n",
      " [ 9. ]\n",
      " [ 2. ]\n",
      " [ 1.1]\n",
      " [ 7.1]\n",
      " [ 4.9]\n",
      " [ 4. ]]\n",
      "[109431. 112635.  55794.  83088. 101302.  56642.  66029.  64445.  61111.\n",
      " 113812.  91738.  46205. 121872.  60150.  39891.  81363.  93940.  57189.\n",
      "  54445. 105582.  43525.  39343.  98273.  67938.  56957.]\n",
      "[[ 1.5]\n",
      " [10.3]\n",
      " [ 4.1]\n",
      " [ 3.9]\n",
      " [ 9.5]]\n",
      "[ 37731. 122391.  57081.  63218. 116969.]\n"
     ]
    }
   ],
   "source": [
    "#Spliting the dataset into training set and test set\n",
    "from sklearn.model_selection import train_test_split\n",
    "x_train, x_test, y_train, y_test = train_test_split(x, y, test_size=0.15, random_state=0)\n",
    "print(x_train)\n",
    "print(y_train)\n",
    "print(x_test)\n",
    "print(y_test)"
   ]
  },
  {
   "cell_type": "code",
   "execution_count": 6,
   "id": "28f3d8a7",
   "metadata": {
    "execution": {
     "iopub.execute_input": "2021-07-29T15:30:22.702015Z",
     "iopub.status.busy": "2021-07-29T15:30:22.701033Z",
     "iopub.status.idle": "2021-07-29T15:30:22.977051Z",
     "shell.execute_reply": "2021-07-29T15:30:22.976447Z",
     "shell.execute_reply.started": "2021-07-29T15:07:33.219162Z"
    },
    "papermill": {
     "duration": 0.292764,
     "end_time": "2021-07-29T15:30:22.977254",
     "exception": false,
     "start_time": "2021-07-29T15:30:22.684490",
     "status": "completed"
    },
    "tags": []
   },
   "outputs": [
    {
     "data": {
      "text/plain": [
       "LinearRegression()"
      ]
     },
     "execution_count": 6,
     "metadata": {},
     "output_type": "execute_result"
    }
   ],
   "source": [
    "#training our machine\n",
    "from sklearn.linear_model import LinearRegression\n",
    "regressor = LinearRegression()\n",
    "regressor.fit(x_train, y_train)"
   ]
  },
  {
   "cell_type": "code",
   "execution_count": 7,
   "id": "076ad866",
   "metadata": {
    "execution": {
     "iopub.execute_input": "2021-07-29T15:30:23.006540Z",
     "iopub.status.busy": "2021-07-29T15:30:23.005778Z",
     "iopub.status.idle": "2021-07-29T15:30:23.008661Z",
     "shell.execute_reply": "2021-07-29T15:30:23.009192Z",
     "shell.execute_reply.started": "2021-07-29T15:13:43.720684Z"
    },
    "papermill": {
     "duration": 0.021119,
     "end_time": "2021-07-29T15:30:23.009414",
     "exception": false,
     "start_time": "2021-07-29T15:30:22.988295",
     "status": "completed"
    },
    "tags": []
   },
   "outputs": [
    {
     "name": "stdout",
     "output_type": "stream",
     "text": [
      "[ 40691.99663985 122933.04133999  64990.48711944  63121.37246716\n",
      " 115456.58273088]\n",
      "\n",
      "[ 37731. 122391.  57081.  63218. 116969.]\n"
     ]
    }
   ],
   "source": [
    "#predicting on test set\n",
    "y_predict = regressor.predict(x_test)\n",
    "print(y_predict)\n",
    "print(\"\")\n",
    "print(y_test)"
   ]
  },
  {
   "cell_type": "code",
   "execution_count": 8,
   "id": "4d069b8a",
   "metadata": {
    "execution": {
     "iopub.execute_input": "2021-07-29T15:30:23.035841Z",
     "iopub.status.busy": "2021-07-29T15:30:23.035042Z",
     "iopub.status.idle": "2021-07-29T15:30:23.399377Z",
     "shell.execute_reply": "2021-07-29T15:30:23.397994Z",
     "shell.execute_reply.started": "2021-07-29T15:29:01.466709Z"
    },
    "papermill": {
     "duration": 0.378912,
     "end_time": "2021-07-29T15:30:23.399577",
     "exception": false,
     "start_time": "2021-07-29T15:30:23.020665",
     "status": "completed"
    },
    "tags": []
   },
   "outputs": [
    {
     "data": {
      "image/png": "[encoded data removed]",
      "text/plain": [
       "<Figure size 921.6x633.6 with 2 Axes>"
      ]
     },
     "metadata": {
      "needs_background": "light"
     },
     "output_type": "display_data"
    }
   ],
   "source": [
    "#plotting training data vs regression model\n",
    "plt.style.use('seaborn-poster')\n",
    "fig, ax = plt.subplots(1,2)\n",
    "ax[0].scatter(x_train, y_train, color='red', marker='*')\n",
    "ax[0].plot(x_train, regressor.predict(x_train), color='blue')\n",
    "ax[1].scatter(x_test, y_test)\n",
    "ax[1].plot(x_train, regressor.predict(x_train), color='black')\n",
    "ax[0].set_xlabel('Years of Experience')\n",
    "ax[0].set_ylabel('Salary Paid')\n",
    "ax[0].set_title('Salary vs Experience')\n",
    "ax[1].set_xlabel('Years of Experience')\n",
    "ax[1].set_ylabel('Salary Paid')\n",
    "ax[1].set_title('Salary vs Experience')\n",
    "plt.show()"
   ]
  },
  {
   "cell_type": "code",
   "execution_count": 9,
   "id": "1a410267",
   "metadata": {
    "execution": {
     "iopub.execute_input": "2021-07-29T15:30:23.454272Z",
     "iopub.status.busy": "2021-07-29T15:30:23.452651Z",
     "iopub.status.idle": "2021-07-29T15:30:23.587868Z",
     "shell.execute_reply": "2021-07-29T15:30:23.587259Z",
     "shell.execute_reply.started": "2021-07-29T15:22:41.632885Z"
    },
    "papermill": {
     "duration": 0.175077,
     "end_time": "2021-07-29T15:30:23.588041",
     "exception": false,
     "start_time": "2021-07-29T15:30:23.412964",
     "status": "completed"
    },
    "tags": []
   },
   "outputs": [
    {
     "data": {
      "image/png": "[encoded data removed]",
      "text/plain": [
       "<Figure size 432x288 with 1 Axes>"
      ]
     },
     "metadata": {
      "needs_background": "light"
     },
     "output_type": "display_data"
    }
   ],
   "source": [
    "%matplotlib inline\n",
    "plt.scatter(x_test, y_test)\n",
    "plt.plot(x_train, regressor.predict(x_train))\n",
    "plt.xlabel('Years of Exp')\n",
    "plt.ylabel('Salary')\n",
    "plt.title('Salary vs Exp')\n",
    "plt.show()"
   ]
  }
 ],
 "metadata": {
  "kernelspec": {
   "display_name": "Python 3",
   "language": "python",
   "name": "python3"
  },
  "language_info": {
   "codemirror_mode": {
    "name": "ipython",
    "version": 3
   },
   "file_extension": ".py",
   "mimetype": "text/x-python",
   "name": "python",
   "nbconvert_exporter": "python",
   "pygments_lexer": "ipython3",
   "version": "3.7.10"
  },
  "papermill": {
   "default_parameters": {},
   "duration": 12.875537,
   "end_time": "2021-07-29T15:30:24.717255",
   "environment_variables": {},
   "exception": null,
   "input_path": "__notebook__.ipynb",
   "output_path": "__notebook__.ipynb",
   "parameters": {},
   "start_time": "2021-07-29T15:30:11.841718",
   "version": "2.3.3"
  }
 },
 "nbformat": 4,
 "nbformat_minor": 5
}
