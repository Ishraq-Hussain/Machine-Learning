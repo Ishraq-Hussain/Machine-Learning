{
 "cells": [
  {
   "cell_type": "code",
   "execution_count": 1,
   "id": "0ff366c1",
   "metadata": {
    "_cell_guid": "b1076dfc-b9ad-4769-8c92-a6c4dae69d19",
    "_uuid": "8f2839f25d086af736a60e9eeb907d3b93b6e0e5",
    "execution": {
     "iopub.execute_input": "2021-08-02T09:28:18.135537Z",
     "iopub.status.busy": "2021-08-02T09:28:18.134080Z",
     "iopub.status.idle": "2021-08-02T09:28:18.158359Z",
     "shell.execute_reply": "2021-08-02T09:28:18.158974Z",
     "shell.execute_reply.started": "2021-08-02T08:27:10.851017Z"
    },
    "papermill": {
     "duration": 0.042327,
     "end_time": "2021-08-02T09:28:18.159324",
     "exception": false,
     "start_time": "2021-08-02T09:28:18.116997",
     "status": "completed"
    },
    "tags": []
   },
   "outputs": [
    {
     "name": "stdout",
     "output_type": "stream",
     "text": [
      "/kaggle/input/car-prices/carprices.csv\n"
     ]
    }
   ],
   "source": [
    "# This Python 3 environment comes with many helpful analytics libraries installed\n",
    "# It is defined by the kaggle/python Docker image: https://github.com/kaggle/docker-python\n",
    "# For example, here's several helpful packages to load\n",
    "\n",
    "import numpy as np # linear algebra\n",
    "import pandas as pd # data processing, CSV file I/O (e.g. pd.read_csv)\n",
    "\n",
    "# Input data files are available in the read-only \"../input/\" directory\n",
    "# For example, running this (by clicking run or pressing Shift+Enter) will list all files under the input directory\n",
    "\n",
    "import os\n",
    "for dirname, _, filenames in os.walk('/kaggle/input'):\n",
    "    for filename in filenames:\n",
    "        print(os.path.join(dirname, filename))\n",
    "\n",
    "# You can write up to 20GB to the current directory (/kaggle/working/) that gets preserved as output when you create a version using \"Save & Run All\" \n",
    "# You can also write temporary files to /kaggle/temp/, but they won't be saved outside of the current session"
   ]
  },
  {
   "cell_type": "code",
   "execution_count": 2,
   "id": "1954ca7c",
   "metadata": {
    "execution": {
     "iopub.execute_input": "2021-08-02T09:28:18.194020Z",
     "iopub.status.busy": "2021-08-02T09:28:18.192420Z",
     "iopub.status.idle": "2021-08-02T09:28:18.195592Z",
     "shell.execute_reply": "2021-08-02T09:28:18.196163Z",
     "shell.execute_reply.started": "2021-08-02T08:27:11.136010Z"
    },
    "papermill": {
     "duration": 0.022785,
     "end_time": "2021-08-02T09:28:18.196347",
     "exception": false,
     "start_time": "2021-08-02T09:28:18.173562",
     "status": "completed"
    },
    "tags": []
   },
   "outputs": [],
   "source": [
    "import numpy as np\n",
    "import pandas as pd\n",
    "import matplotlib.pyplot as plt"
   ]
  },
  {
   "cell_type": "code",
   "execution_count": 3,
   "id": "0c0e61fe",
   "metadata": {
    "execution": {
     "iopub.execute_input": "2021-08-02T09:28:18.226235Z",
     "iopub.status.busy": "2021-08-02T09:28:18.225239Z",
     "iopub.status.idle": "2021-08-02T09:28:18.380510Z",
     "shell.execute_reply": "2021-08-02T09:28:18.381012Z",
     "shell.execute_reply.started": "2021-08-02T09:15:12.494368Z"
    },
    "papermill": {
     "duration": 0.171551,
     "end_time": "2021-08-02T09:28:18.381232",
     "exception": false,
     "start_time": "2021-08-02T09:28:18.209681",
     "status": "completed"
    },
    "tags": []
   },
   "outputs": [
    {
     "name": "stdout",
     "output_type": "stream",
     "text": [
      "<class 'pandas.core.frame.DataFrame'>\n",
      "RangeIndex: 13 entries, 0 to 12\n",
      "Data columns (total 4 columns):\n",
      " #   Column         Non-Null Count  Dtype \n",
      "---  ------         --------------  ----- \n",
      " 0   Car Model      13 non-null     object\n",
      " 1   Mileage        13 non-null     int64 \n",
      " 2   Sell Price($)  13 non-null     int64 \n",
      " 3   Age(yrs)       13 non-null     int64 \n",
      "dtypes: int64(3), object(1)\n",
      "memory usage: 544.0+ bytes\n",
      "None\n"
     ]
    },
    {
     "data": {
      "text/html": [
       "<div>\n",
       "<style scoped>\n",
       "    .dataframe tbody tr th:only-of-type {\n",
       "        vertical-align: middle;\n",
       "    }\n",
       "\n",
       "    .dataframe tbody tr th {\n",
       "        vertical-align: top;\n",
       "    }\n",
       "\n",
       "    .dataframe thead th {\n",
       "        text-align: right;\n",
       "    }\n",
       "</style>\n",
       "<table border=\"1\" class=\"dataframe\">\n",
       "  <thead>\n",
       "    <tr style=\"text-align: right;\">\n",
       "      <th></th>\n",
       "      <th>Car Model</th>\n",
       "      <th>Mileage</th>\n",
       "      <th>Sell Price($)</th>\n",
       "      <th>Age(yrs)</th>\n",
       "    </tr>\n",
       "  </thead>\n",
       "  <tbody>\n",
       "    <tr>\n",
       "      <th>0</th>\n",
       "      <td>BMW X5</td>\n",
       "      <td>69000</td>\n",
       "      <td>18000</td>\n",
       "      <td>6</td>\n",
       "    </tr>\n",
       "    <tr>\n",
       "      <th>1</th>\n",
       "      <td>BMW X5</td>\n",
       "      <td>35000</td>\n",
       "      <td>34000</td>\n",
       "      <td>3</td>\n",
       "    </tr>\n",
       "    <tr>\n",
       "      <th>2</th>\n",
       "      <td>BMW X5</td>\n",
       "      <td>57000</td>\n",
       "      <td>26100</td>\n",
       "      <td>5</td>\n",
       "    </tr>\n",
       "    <tr>\n",
       "      <th>3</th>\n",
       "      <td>BMW X5</td>\n",
       "      <td>22500</td>\n",
       "      <td>40000</td>\n",
       "      <td>2</td>\n",
       "    </tr>\n",
       "    <tr>\n",
       "      <th>4</th>\n",
       "      <td>BMW X5</td>\n",
       "      <td>46000</td>\n",
       "      <td>31500</td>\n",
       "      <td>4</td>\n",
       "    </tr>\n",
       "    <tr>\n",
       "      <th>5</th>\n",
       "      <td>Audi A5</td>\n",
       "      <td>59000</td>\n",
       "      <td>29400</td>\n",
       "      <td>5</td>\n",
       "    </tr>\n",
       "    <tr>\n",
       "      <th>6</th>\n",
       "      <td>Audi A5</td>\n",
       "      <td>52000</td>\n",
       "      <td>32000</td>\n",
       "      <td>5</td>\n",
       "    </tr>\n",
       "    <tr>\n",
       "      <th>7</th>\n",
       "      <td>Audi A5</td>\n",
       "      <td>72000</td>\n",
       "      <td>19300</td>\n",
       "      <td>6</td>\n",
       "    </tr>\n",
       "    <tr>\n",
       "      <th>8</th>\n",
       "      <td>Audi A5</td>\n",
       "      <td>91000</td>\n",
       "      <td>12000</td>\n",
       "      <td>8</td>\n",
       "    </tr>\n",
       "    <tr>\n",
       "      <th>9</th>\n",
       "      <td>Mercedez Benz C class</td>\n",
       "      <td>67000</td>\n",
       "      <td>22000</td>\n",
       "      <td>6</td>\n",
       "    </tr>\n",
       "    <tr>\n",
       "      <th>10</th>\n",
       "      <td>Mercedez Benz C class</td>\n",
       "      <td>83000</td>\n",
       "      <td>20000</td>\n",
       "      <td>7</td>\n",
       "    </tr>\n",
       "    <tr>\n",
       "      <th>11</th>\n",
       "      <td>Mercedez Benz C class</td>\n",
       "      <td>79000</td>\n",
       "      <td>21000</td>\n",
       "      <td>7</td>\n",
       "    </tr>\n",
       "    <tr>\n",
       "      <th>12</th>\n",
       "      <td>Mercedez Benz C class</td>\n",
       "      <td>59000</td>\n",
       "      <td>33000</td>\n",
       "      <td>5</td>\n",
       "    </tr>\n",
       "  </tbody>\n",
       "</table>\n",
       "</div>"
      ],
      "text/plain": [
       "                Car Model  Mileage  Sell Price($)  Age(yrs)\n",
       "0                  BMW X5    69000          18000         6\n",
       "1                  BMW X5    35000          34000         3\n",
       "2                  BMW X5    57000          26100         5\n",
       "3                  BMW X5    22500          40000         2\n",
       "4                  BMW X5    46000          31500         4\n",
       "5                 Audi A5    59000          29400         5\n",
       "6                 Audi A5    52000          32000         5\n",
       "7                 Audi A5    72000          19300         6\n",
       "8                 Audi A5    91000          12000         8\n",
       "9   Mercedez Benz C class    67000          22000         6\n",
       "10  Mercedez Benz C class    83000          20000         7\n",
       "11  Mercedez Benz C class    79000          21000         7\n",
       "12  Mercedez Benz C class    59000          33000         5"
      ]
     },
     "execution_count": 3,
     "metadata": {},
     "output_type": "execute_result"
    }
   ],
   "source": [
    "df = pd.read_csv('/kaggle/input/car-prices/carprices.csv')\n",
    "print(df.info())\n",
    "df"
   ]
  },
  {
   "cell_type": "markdown",
   "id": "e259f426",
   "metadata": {
    "papermill": {
     "duration": 0.013256,
     "end_time": "2021-08-02T09:28:18.407848",
     "exception": false,
     "start_time": "2021-08-02T09:28:18.394592",
     "status": "completed"
    },
    "tags": []
   },
   "source": [
    "***Plotting mileage vs sell price & Age of Cars to observe the relationship between these variable***"
   ]
  },
  {
   "cell_type": "code",
   "execution_count": 4,
   "id": "3bee8e05",
   "metadata": {
    "execution": {
     "iopub.execute_input": "2021-08-02T09:28:18.438884Z",
     "iopub.status.busy": "2021-08-02T09:28:18.438001Z",
     "iopub.status.idle": "2021-08-02T09:28:18.780145Z",
     "shell.execute_reply": "2021-08-02T09:28:18.779553Z",
     "shell.execute_reply.started": "2021-08-02T08:56:57.507853Z"
    },
    "papermill": {
     "duration": 0.358882,
     "end_time": "2021-08-02T09:28:18.780301",
     "exception": false,
     "start_time": "2021-08-02T09:28:18.421419",
     "status": "completed"
    },
    "tags": []
   },
   "outputs": [
    {
     "data": {
      "image/png": "[encoded data removed]",
      "text/plain": [
       "<Figure size 921.6x633.6 with 2 Axes>"
      ]
     },
     "metadata": {
      "needs_background": "light"
     },
     "output_type": "display_data"
    }
   ],
   "source": [
    "#plotting mileage vs sell price to observe the relationship between these variable\n",
    "plt.style.use('seaborn-poster')\n",
    "fig, ax = plt.subplots()\n",
    "ax.scatter(df['Sell Price($)'], df['Mileage'], color='red', marker='+', label='Mileage')\n",
    "ax.set_xlabel('Car Price')\n",
    "ax.set_ylabel('Mileage')\n",
    "ax.tick_params('y', colors='red')\n",
    "# ax.legend()\n",
    "ax2 = ax.twinx()\n",
    "ax2.scatter(df['Sell Price($)'], df['Age(yrs)'], color='green',label='Age',alpha=0.7)\n",
    "ax2.set_xlabel('Car Price')\n",
    "ax2.set_ylabel('Age')\n",
    "ax2.tick_params('y', colors='green')\n",
    "# ax2.legend()\n",
    "plt.show()"
   ]
  },
  {
   "cell_type": "code",
   "execution_count": 5,
   "id": "9c988b36",
   "metadata": {
    "execution": {
     "iopub.execute_input": "2021-08-02T09:28:18.820391Z",
     "iopub.status.busy": "2021-08-02T09:28:18.819658Z",
     "iopub.status.idle": "2021-08-02T09:28:18.824390Z",
     "shell.execute_reply": "2021-08-02T09:28:18.825004Z",
     "shell.execute_reply.started": "2021-08-02T09:20:25.435250Z"
    },
    "papermill": {
     "duration": 0.030254,
     "end_time": "2021-08-02T09:28:18.825215",
     "exception": false,
     "start_time": "2021-08-02T09:28:18.794961",
     "status": "completed"
    },
    "tags": []
   },
   "outputs": [
    {
     "name": "stdout",
     "output_type": "stream",
     "text": [
      "[['BMW X5' 69000 6]\n",
      " ['BMW X5' 35000 3]\n",
      " ['BMW X5' 57000 5]\n",
      " ['BMW X5' 22500 2]\n",
      " ['BMW X5' 46000 4]\n",
      " ['Audi A5' 59000 5]\n",
      " ['Audi A5' 52000 5]\n",
      " ['Audi A5' 72000 6]\n",
      " ['Audi A5' 91000 8]\n",
      " ['Mercedez Benz C class' 67000 6]\n",
      " ['Mercedez Benz C class' 83000 7]\n",
      " ['Mercedez Benz C class' 79000 7]\n",
      " ['Mercedez Benz C class' 59000 5]]\n",
      "[18000 34000 26100 40000 31500 29400 32000 19300 12000 22000 20000 21000\n",
      " 33000]\n"
     ]
    }
   ],
   "source": [
    "#Spliting the dataset into matrix of feature & dependent variable\n",
    "x = df.iloc[:,[0,1,3]].values\n",
    "y = df.iloc[:, 2].values\n",
    "print(x)\n",
    "print(y)"
   ]
  },
  {
   "cell_type": "code",
   "execution_count": 6,
   "id": "f5ee6adf",
   "metadata": {
    "execution": {
     "iopub.execute_input": "2021-08-02T09:28:18.862439Z",
     "iopub.status.busy": "2021-08-02T09:28:18.861780Z",
     "iopub.status.idle": "2021-08-02T09:28:19.964218Z",
     "shell.execute_reply": "2021-08-02T09:28:19.964695Z",
     "shell.execute_reply.started": "2021-08-02T09:20:30.658219Z"
    },
    "papermill": {
     "duration": 1.123649,
     "end_time": "2021-08-02T09:28:19.964876",
     "exception": false,
     "start_time": "2021-08-02T09:28:18.841227",
     "status": "completed"
    },
    "tags": []
   },
   "outputs": [
    {
     "name": "stdout",
     "output_type": "stream",
     "text": [
      "[[0.0 1.0 0.0 69000 6]\n",
      " [0.0 1.0 0.0 35000 3]\n",
      " [0.0 1.0 0.0 57000 5]\n",
      " [0.0 1.0 0.0 22500 2]\n",
      " [0.0 1.0 0.0 46000 4]\n",
      " [1.0 0.0 0.0 59000 5]\n",
      " [1.0 0.0 0.0 52000 5]\n",
      " [1.0 0.0 0.0 72000 6]\n",
      " [1.0 0.0 0.0 91000 8]\n",
      " [0.0 0.0 1.0 67000 6]\n",
      " [0.0 0.0 1.0 83000 7]\n",
      " [0.0 0.0 1.0 79000 7]\n",
      " [0.0 0.0 1.0 59000 5]]\n"
     ]
    }
   ],
   "source": [
    "from sklearn.compose import ColumnTransformer\n",
    "from sklearn.preprocessing import OneHotEncoder\n",
    "ct = ColumnTransformer(transformers=[('encoder', OneHotEncoder(), [0])], remainder='passthrough')\n",
    "x = ct.fit_transform(x)\n",
    "print(x)"
   ]
  },
  {
   "cell_type": "markdown",
   "id": "364d9754",
   "metadata": {
    "papermill": {
     "duration": 0.014709,
     "end_time": "2021-08-02T09:28:19.994937",
     "exception": false,
     "start_time": "2021-08-02T09:28:19.980228",
     "status": "completed"
    },
    "tags": []
   },
   "source": [
    "**Removing one dummy variable**"
   ]
  },
  {
   "cell_type": "code",
   "execution_count": 7,
   "id": "709aa062",
   "metadata": {
    "execution": {
     "iopub.execute_input": "2021-08-02T09:28:20.031774Z",
     "iopub.status.busy": "2021-08-02T09:28:20.030884Z",
     "iopub.status.idle": "2021-08-02T09:28:20.035019Z",
     "shell.execute_reply": "2021-08-02T09:28:20.034409Z",
     "shell.execute_reply.started": "2021-08-02T09:20:58.437390Z"
    },
    "papermill": {
     "duration": 0.02499,
     "end_time": "2021-08-02T09:28:20.035199",
     "exception": false,
     "start_time": "2021-08-02T09:28:20.010209",
     "status": "completed"
    },
    "tags": []
   },
   "outputs": [
    {
     "data": {
      "text/plain": [
       "array([[1.0, 0.0, 69000, 6],\n",
       "       [1.0, 0.0, 35000, 3],\n",
       "       [1.0, 0.0, 57000, 5],\n",
       "       [1.0, 0.0, 22500, 2],\n",
       "       [1.0, 0.0, 46000, 4],\n",
       "       [0.0, 0.0, 59000, 5],\n",
       "       [0.0, 0.0, 52000, 5],\n",
       "       [0.0, 0.0, 72000, 6],\n",
       "       [0.0, 0.0, 91000, 8],\n",
       "       [0.0, 1.0, 67000, 6],\n",
       "       [0.0, 1.0, 83000, 7],\n",
       "       [0.0, 1.0, 79000, 7],\n",
       "       [0.0, 1.0, 59000, 5]], dtype=object)"
      ]
     },
     "execution_count": 7,
     "metadata": {},
     "output_type": "execute_result"
    }
   ],
   "source": [
    "#Removing one dummy variable column to avoid dummy variable trap\n",
    "x = x[:, 1:]\n",
    "x"
   ]
  },
  {
   "cell_type": "markdown",
   "id": "e25c9e3a",
   "metadata": {
    "papermill": {
     "duration": 0.015879,
     "end_time": "2021-08-02T09:28:20.067259",
     "exception": false,
     "start_time": "2021-08-02T09:28:20.051380",
     "status": "completed"
    },
    "tags": []
   },
   "source": [
    "**Training our model**"
   ]
  },
  {
   "cell_type": "code",
   "execution_count": 8,
   "id": "41fe1eb4",
   "metadata": {
    "execution": {
     "iopub.execute_input": "2021-08-02T09:28:20.103679Z",
     "iopub.status.busy": "2021-08-02T09:28:20.103007Z",
     "iopub.status.idle": "2021-08-02T09:28:20.516659Z",
     "shell.execute_reply": "2021-08-02T09:28:20.515984Z",
     "shell.execute_reply.started": "2021-08-02T09:21:02.900662Z"
    },
    "papermill": {
     "duration": 0.433859,
     "end_time": "2021-08-02T09:28:20.516799",
     "exception": false,
     "start_time": "2021-08-02T09:28:20.082940",
     "status": "completed"
    },
    "tags": []
   },
   "outputs": [
    {
     "data": {
      "text/plain": [
       "LinearRegression()"
      ]
     },
     "execution_count": 8,
     "metadata": {},
     "output_type": "execute_result"
    }
   ],
   "source": [
    "#Training our model \n",
    "from sklearn.linear_model import LinearRegression\n",
    "reg = LinearRegression()\n",
    "reg.fit(x,y)"
   ]
  },
  {
   "cell_type": "markdown",
   "id": "db63ada9",
   "metadata": {
    "papermill": {
     "duration": 0.015795,
     "end_time": "2021-08-02T09:28:20.550103",
     "exception": false,
     "start_time": "2021-08-02T09:28:20.534308",
     "status": "completed"
    },
    "tags": []
   },
   "source": [
    "**Price of mercedez benz that is 4 yr old with mileage 45000  &     Price of BMW X5 that is 7 yr old with mileage 86000**"
   ]
  },
  {
   "cell_type": "code",
   "execution_count": 9,
   "id": "962a6638",
   "metadata": {
    "execution": {
     "iopub.execute_input": "2021-08-02T09:28:20.589762Z",
     "iopub.status.busy": "2021-08-02T09:28:20.589117Z",
     "iopub.status.idle": "2021-08-02T09:28:20.593287Z",
     "shell.execute_reply": "2021-08-02T09:28:20.592609Z",
     "shell.execute_reply.started": "2021-08-02T09:14:38.325973Z"
    },
    "papermill": {
     "duration": 0.026066,
     "end_time": "2021-08-02T09:28:20.593431",
     "exception": false,
     "start_time": "2021-08-02T09:28:20.567365",
     "status": "completed"
    },
    "tags": []
   },
   "outputs": [
    {
     "data": {
      "text/plain": [
       "array([36991.31721062, 15365.40972059])"
      ]
     },
     "execution_count": 9,
     "metadata": {},
     "output_type": "execute_result"
    }
   ],
   "source": [
    "#Predicting results\n",
    "reg.predict([[0, 1, 45000, 4], [0, 0, 86000, 7]])"
   ]
  },
  {
   "cell_type": "markdown",
   "id": "4021ec7e",
   "metadata": {
    "papermill": {
     "duration": 0.015977,
     "end_time": "2021-08-02T09:28:20.626415",
     "exception": false,
     "start_time": "2021-08-02T09:28:20.610438",
     "status": "completed"
    },
    "tags": []
   },
   "source": [
    "**Model Score**"
   ]
  },
  {
   "cell_type": "code",
   "execution_count": 10,
   "id": "a8febeb8",
   "metadata": {
    "execution": {
     "iopub.execute_input": "2021-08-02T09:28:20.665960Z",
     "iopub.status.busy": "2021-08-02T09:28:20.665282Z",
     "iopub.status.idle": "2021-08-02T09:28:20.667798Z",
     "shell.execute_reply": "2021-08-02T09:28:20.668436Z",
     "shell.execute_reply.started": "2021-08-02T09:21:06.356109Z"
    },
    "papermill": {
     "duration": 0.025365,
     "end_time": "2021-08-02T09:28:20.668626",
     "exception": false,
     "start_time": "2021-08-02T09:28:20.643261",
     "status": "completed"
    },
    "tags": []
   },
   "outputs": [
    {
     "data": {
      "text/plain": [
       "0.9417050937281083"
      ]
     },
     "execution_count": 10,
     "metadata": {},
     "output_type": "execute_result"
    }
   ],
   "source": [
    "#Scoring our model\n",
    "reg.score(x,y)"
   ]
  },
  {
   "cell_type": "markdown",
   "id": "e86aeb62",
   "metadata": {
    "papermill": {
     "duration": 0.016625,
     "end_time": "2021-08-02T09:28:20.702005",
     "exception": false,
     "start_time": "2021-08-02T09:28:20.685380",
     "status": "completed"
    },
    "tags": []
   },
   "source": [
    "So, our model socered 94%"
   ]
  }
 ],
 "metadata": {
  "kernelspec": {
   "display_name": "Python 3",
   "language": "python",
   "name": "python3"
  },
  "language_info": {
   "codemirror_mode": {
    "name": "ipython",
    "version": 3
   },
   "file_extension": ".py",
   "mimetype": "text/x-python",
   "name": "python",
   "nbconvert_exporter": "python",
   "pygments_lexer": "ipython3",
   "version": "3.7.10"
  },
  "papermill": {
   "default_parameters": {},
   "duration": 12.611862,
   "end_time": "2021-08-02T09:28:21.529161",
   "environment_variables": {},
   "exception": null,
   "input_path": "__notebook__.ipynb",
   "output_path": "__notebook__.ipynb",
   "parameters": {},
   "start_time": "2021-08-02T09:28:08.917299",
   "version": "2.3.3"
  }
 },
 "nbformat": 4,
 "nbformat_minor": 5
}
