{
 "cells": [
  {
   "cell_type": "code",
   "execution_count": 1,
   "id": "d71eb661",
   "metadata": {
    "_cell_guid": "b1076dfc-b9ad-4769-8c92-a6c4dae69d19",
    "_uuid": "8f2839f25d086af736a60e9eeb907d3b93b6e0e5",
    "execution": {
     "iopub.execute_input": "2021-08-07T15:11:03.087248Z",
     "iopub.status.busy": "2021-08-07T15:11:03.086070Z",
     "iopub.status.idle": "2021-08-07T15:11:03.097554Z",
     "shell.execute_reply": "2021-08-07T15:11:03.098072Z",
     "shell.execute_reply.started": "2021-08-07T14:38:23.807092Z"
    },
    "papermill": {
     "duration": 0.028775,
     "end_time": "2021-08-07T15:11:03.098425",
     "exception": false,
     "start_time": "2021-08-07T15:11:03.069650",
     "status": "completed"
    },
    "tags": []
   },
   "outputs": [],
   "source": [
    "# This Python 3 environment comes with many helpful analytics libraries installed\n",
    "# It is defined by the kaggle/python Docker image: https://github.com/kaggle/docker-python\n",
    "# For example, here's several helpful packages to load\n",
    "\n",
    "import numpy as np # linear algebra\n",
    "import pandas as pd # data processing, CSV file I/O (e.g. pd.read_csv)\n",
    "\n",
    "# Input data files are available in the read-only \"../input/\" directory\n",
    "# For example, running this (by clicking run or pressing Shift+Enter) will list all files under the input directory\n",
    "\n",
    "import os\n",
    "for dirname, _, filenames in os.walk('/kaggle/input'):\n",
    "    for filename in filenames:\n",
    "        print(os.path.join(dirname, filename))\n",
    "\n",
    "# You can write up to 20GB to the current directory (/kaggle/working/) that gets preserved as output when you create a version using \"Save & Run All\" \n",
    "# You can also write temporary files to /kaggle/temp/, but they won't be saved outside of the current session"
   ]
  },
  {
   "cell_type": "code",
   "execution_count": 2,
   "id": "0159b346",
   "metadata": {
    "execution": {
     "iopub.execute_input": "2021-08-07T15:11:03.126942Z",
     "iopub.status.busy": "2021-08-07T15:11:03.126311Z",
     "iopub.status.idle": "2021-08-07T15:11:04.241038Z",
     "shell.execute_reply": "2021-08-07T15:11:04.240451Z",
     "shell.execute_reply.started": "2021-08-07T14:39:35.779418Z"
    },
    "papermill": {
     "duration": 1.129566,
     "end_time": "2021-08-07T15:11:04.241194",
     "exception": false,
     "start_time": "2021-08-07T15:11:03.111628",
     "status": "completed"
    },
    "tags": []
   },
   "outputs": [],
   "source": [
    "#Importing Libraries\n",
    "import numpy as np\n",
    "import pandas as pd\n",
    "import matplotlib.pyplot as plt\n",
    "from sklearn.datasets import load_iris"
   ]
  },
  {
   "cell_type": "code",
   "execution_count": 3,
   "id": "bf11a3c9",
   "metadata": {
    "execution": {
     "iopub.execute_input": "2021-08-07T15:11:04.271322Z",
     "iopub.status.busy": "2021-08-07T15:11:04.270473Z",
     "iopub.status.idle": "2021-08-07T15:11:04.279346Z",
     "shell.execute_reply": "2021-08-07T15:11:04.278713Z",
     "shell.execute_reply.started": "2021-08-07T14:39:57.521077Z"
    },
    "papermill": {
     "duration": 0.025797,
     "end_time": "2021-08-07T15:11:04.279494",
     "exception": false,
     "start_time": "2021-08-07T15:11:04.253697",
     "status": "completed"
    },
    "tags": []
   },
   "outputs": [],
   "source": [
    "df_iris = load_iris()"
   ]
  },
  {
   "cell_type": "code",
   "execution_count": 4,
   "id": "90934b2e",
   "metadata": {
    "execution": {
     "iopub.execute_input": "2021-08-07T15:11:04.312108Z",
     "iopub.status.busy": "2021-08-07T15:11:04.311134Z",
     "iopub.status.idle": "2021-08-07T15:11:04.315291Z",
     "shell.execute_reply": "2021-08-07T15:11:04.315789Z",
     "shell.execute_reply.started": "2021-08-07T14:43:46.101097Z"
    },
    "papermill": {
     "duration": 0.024133,
     "end_time": "2021-08-07T15:11:04.315962",
     "exception": false,
     "start_time": "2021-08-07T15:11:04.291829",
     "status": "completed"
    },
    "tags": []
   },
   "outputs": [
    {
     "data": {
      "text/plain": [
       "['DESCR',\n",
       " 'data',\n",
       " 'feature_names',\n",
       " 'filename',\n",
       " 'frame',\n",
       " 'target',\n",
       " 'target_names']"
      ]
     },
     "execution_count": 4,
     "metadata": {},
     "output_type": "execute_result"
    }
   ],
   "source": [
    "df_iris\n",
    "dir(df_iris)"
   ]
  },
  {
   "cell_type": "code",
   "execution_count": 5,
   "id": "126f8b41",
   "metadata": {
    "execution": {
     "iopub.execute_input": "2021-08-07T15:11:04.345095Z",
     "iopub.status.busy": "2021-08-07T15:11:04.344090Z",
     "iopub.status.idle": "2021-08-07T15:11:04.347953Z",
     "shell.execute_reply": "2021-08-07T15:11:04.348406Z",
     "shell.execute_reply.started": "2021-08-07T14:46:00.613483Z"
    },
    "papermill": {
     "duration": 0.019765,
     "end_time": "2021-08-07T15:11:04.348603",
     "exception": false,
     "start_time": "2021-08-07T15:11:04.328838",
     "status": "completed"
    },
    "tags": []
   },
   "outputs": [],
   "source": [
    "x = df_iris.data\n",
    "y = df_iris.target"
   ]
  },
  {
   "cell_type": "code",
   "execution_count": 6,
   "id": "26b627ef",
   "metadata": {
    "execution": {
     "iopub.execute_input": "2021-08-07T15:11:04.378067Z",
     "iopub.status.busy": "2021-08-07T15:11:04.377048Z",
     "iopub.status.idle": "2021-08-07T15:11:04.395651Z",
     "shell.execute_reply": "2021-08-07T15:11:04.394587Z",
     "shell.execute_reply.started": "2021-08-07T14:46:59.583052Z"
    },
    "papermill": {
     "duration": 0.034677,
     "end_time": "2021-08-07T15:11:04.395834",
     "exception": false,
     "start_time": "2021-08-07T15:11:04.361157",
     "status": "completed"
    },
    "tags": []
   },
   "outputs": [
    {
     "name": "stdout",
     "output_type": "stream",
     "text": [
      "150\n",
      "150\n",
      "[[5.1 3.5 1.4 0.2]\n",
      " [4.9 3.  1.4 0.2]\n",
      " [4.7 3.2 1.3 0.2]\n",
      " [4.6 3.1 1.5 0.2]\n",
      " [5.  3.6 1.4 0.2]\n",
      " [5.4 3.9 1.7 0.4]\n",
      " [4.6 3.4 1.4 0.3]\n",
      " [5.  3.4 1.5 0.2]\n",
      " [4.4 2.9 1.4 0.2]\n",
      " [4.9 3.1 1.5 0.1]\n",
      " [5.4 3.7 1.5 0.2]\n",
      " [4.8 3.4 1.6 0.2]\n",
      " [4.8 3.  1.4 0.1]\n",
      " [4.3 3.  1.1 0.1]\n",
      " [5.8 4.  1.2 0.2]\n",
      " [5.7 4.4 1.5 0.4]\n",
      " [5.4 3.9 1.3 0.4]\n",
      " [5.1 3.5 1.4 0.3]\n",
      " [5.7 3.8 1.7 0.3]\n",
      " [5.1 3.8 1.5 0.3]\n",
      " [5.4 3.4 1.7 0.2]\n",
      " [5.1 3.7 1.5 0.4]\n",
      " [4.6 3.6 1.  0.2]\n",
      " [5.1 3.3 1.7 0.5]\n",
      " [4.8 3.4 1.9 0.2]\n",
      " [5.  3.  1.6 0.2]\n",
      " [5.  3.4 1.6 0.4]\n",
      " [5.2 3.5 1.5 0.2]\n",
      " [5.2 3.4 1.4 0.2]\n",
      " [4.7 3.2 1.6 0.2]\n",
      " [4.8 3.1 1.6 0.2]\n",
      " [5.4 3.4 1.5 0.4]\n",
      " [5.2 4.1 1.5 0.1]\n",
      " [5.5 4.2 1.4 0.2]\n",
      " [4.9 3.1 1.5 0.2]\n",
      " [5.  3.2 1.2 0.2]\n",
      " [5.5 3.5 1.3 0.2]\n",
      " [4.9 3.6 1.4 0.1]\n",
      " [4.4 3.  1.3 0.2]\n",
      " [5.1 3.4 1.5 0.2]\n",
      " [5.  3.5 1.3 0.3]\n",
      " [4.5 2.3 1.3 0.3]\n",
      " [4.4 3.2 1.3 0.2]\n",
      " [5.  3.5 1.6 0.6]\n",
      " [5.1 3.8 1.9 0.4]\n",
      " [4.8 3.  1.4 0.3]\n",
      " [5.1 3.8 1.6 0.2]\n",
      " [4.6 3.2 1.4 0.2]\n",
      " [5.3 3.7 1.5 0.2]\n",
      " [5.  3.3 1.4 0.2]\n",
      " [7.  3.2 4.7 1.4]\n",
      " [6.4 3.2 4.5 1.5]\n",
      " [6.9 3.1 4.9 1.5]\n",
      " [5.5 2.3 4.  1.3]\n",
      " [6.5 2.8 4.6 1.5]\n",
      " [5.7 2.8 4.5 1.3]\n",
      " [6.3 3.3 4.7 1.6]\n",
      " [4.9 2.4 3.3 1. ]\n",
      " [6.6 2.9 4.6 1.3]\n",
      " [5.2 2.7 3.9 1.4]\n",
      " [5.  2.  3.5 1. ]\n",
      " [5.9 3.  4.2 1.5]\n",
      " [6.  2.2 4.  1. ]\n",
      " [6.1 2.9 4.7 1.4]\n",
      " [5.6 2.9 3.6 1.3]\n",
      " [6.7 3.1 4.4 1.4]\n",
      " [5.6 3.  4.5 1.5]\n",
      " [5.8 2.7 4.1 1. ]\n",
      " [6.2 2.2 4.5 1.5]\n",
      " [5.6 2.5 3.9 1.1]\n",
      " [5.9 3.2 4.8 1.8]\n",
      " [6.1 2.8 4.  1.3]\n",
      " [6.3 2.5 4.9 1.5]\n",
      " [6.1 2.8 4.7 1.2]\n",
      " [6.4 2.9 4.3 1.3]\n",
      " [6.6 3.  4.4 1.4]\n",
      " [6.8 2.8 4.8 1.4]\n",
      " [6.7 3.  5.  1.7]\n",
      " [6.  2.9 4.5 1.5]\n",
      " [5.7 2.6 3.5 1. ]\n",
      " [5.5 2.4 3.8 1.1]\n",
      " [5.5 2.4 3.7 1. ]\n",
      " [5.8 2.7 3.9 1.2]\n",
      " [6.  2.7 5.1 1.6]\n",
      " [5.4 3.  4.5 1.5]\n",
      " [6.  3.4 4.5 1.6]\n",
      " [6.7 3.1 4.7 1.5]\n",
      " [6.3 2.3 4.4 1.3]\n",
      " [5.6 3.  4.1 1.3]\n",
      " [5.5 2.5 4.  1.3]\n",
      " [5.5 2.6 4.4 1.2]\n",
      " [6.1 3.  4.6 1.4]\n",
      " [5.8 2.6 4.  1.2]\n",
      " [5.  2.3 3.3 1. ]\n",
      " [5.6 2.7 4.2 1.3]\n",
      " [5.7 3.  4.2 1.2]\n",
      " [5.7 2.9 4.2 1.3]\n",
      " [6.2 2.9 4.3 1.3]\n",
      " [5.1 2.5 3.  1.1]\n",
      " [5.7 2.8 4.1 1.3]\n",
      " [6.3 3.3 6.  2.5]\n",
      " [5.8 2.7 5.1 1.9]\n",
      " [7.1 3.  5.9 2.1]\n",
      " [6.3 2.9 5.6 1.8]\n",
      " [6.5 3.  5.8 2.2]\n",
      " [7.6 3.  6.6 2.1]\n",
      " [4.9 2.5 4.5 1.7]\n",
      " [7.3 2.9 6.3 1.8]\n",
      " [6.7 2.5 5.8 1.8]\n",
      " [7.2 3.6 6.1 2.5]\n",
      " [6.5 3.2 5.1 2. ]\n",
      " [6.4 2.7 5.3 1.9]\n",
      " [6.8 3.  5.5 2.1]\n",
      " [5.7 2.5 5.  2. ]\n",
      " [5.8 2.8 5.1 2.4]\n",
      " [6.4 3.2 5.3 2.3]\n",
      " [6.5 3.  5.5 1.8]\n",
      " [7.7 3.8 6.7 2.2]\n",
      " [7.7 2.6 6.9 2.3]\n",
      " [6.  2.2 5.  1.5]\n",
      " [6.9 3.2 5.7 2.3]\n",
      " [5.6 2.8 4.9 2. ]\n",
      " [7.7 2.8 6.7 2. ]\n",
      " [6.3 2.7 4.9 1.8]\n",
      " [6.7 3.3 5.7 2.1]\n",
      " [7.2 3.2 6.  1.8]\n",
      " [6.2 2.8 4.8 1.8]\n",
      " [6.1 3.  4.9 1.8]\n",
      " [6.4 2.8 5.6 2.1]\n",
      " [7.2 3.  5.8 1.6]\n",
      " [7.4 2.8 6.1 1.9]\n",
      " [7.9 3.8 6.4 2. ]\n",
      " [6.4 2.8 5.6 2.2]\n",
      " [6.3 2.8 5.1 1.5]\n",
      " [6.1 2.6 5.6 1.4]\n",
      " [7.7 3.  6.1 2.3]\n",
      " [6.3 3.4 5.6 2.4]\n",
      " [6.4 3.1 5.5 1.8]\n",
      " [6.  3.  4.8 1.8]\n",
      " [6.9 3.1 5.4 2.1]\n",
      " [6.7 3.1 5.6 2.4]\n",
      " [6.9 3.1 5.1 2.3]\n",
      " [5.8 2.7 5.1 1.9]\n",
      " [6.8 3.2 5.9 2.3]\n",
      " [6.7 3.3 5.7 2.5]\n",
      " [6.7 3.  5.2 2.3]\n",
      " [6.3 2.5 5.  1.9]\n",
      " [6.5 3.  5.2 2. ]\n",
      " [6.2 3.4 5.4 2.3]\n",
      " [5.9 3.  5.1 1.8]]\n",
      "[0 0 0 0 0 0 0 0 0 0 0 0 0 0 0 0 0 0 0 0 0 0 0 0 0 0 0 0 0 0 0 0 0 0 0 0 0\n",
      " 0 0 0 0 0 0 0 0 0 0 0 0 0 1 1 1 1 1 1 1 1 1 1 1 1 1 1 1 1 1 1 1 1 1 1 1 1\n",
      " 1 1 1 1 1 1 1 1 1 1 1 1 1 1 1 1 1 1 1 1 1 1 1 1 1 1 2 2 2 2 2 2 2 2 2 2 2\n",
      " 2 2 2 2 2 2 2 2 2 2 2 2 2 2 2 2 2 2 2 2 2 2 2 2 2 2 2 2 2 2 2 2 2 2 2 2 2\n",
      " 2 2]\n"
     ]
    }
   ],
   "source": [
    "print(len(x))\n",
    "print(len(y))\n",
    "print(x)\n",
    "print(y)"
   ]
  },
  {
   "cell_type": "code",
   "execution_count": 7,
   "id": "7ca3e959",
   "metadata": {
    "execution": {
     "iopub.execute_input": "2021-08-07T15:11:04.428338Z",
     "iopub.status.busy": "2021-08-07T15:11:04.427680Z",
     "iopub.status.idle": "2021-08-07T15:11:04.507096Z",
     "shell.execute_reply": "2021-08-07T15:11:04.507959Z",
     "shell.execute_reply.started": "2021-08-07T15:04:51.915204Z"
    },
    "papermill": {
     "duration": 0.098361,
     "end_time": "2021-08-07T15:11:04.508228",
     "exception": false,
     "start_time": "2021-08-07T15:11:04.409867",
     "status": "completed"
    },
    "tags": []
   },
   "outputs": [
    {
     "name": "stdout",
     "output_type": "stream",
     "text": [
      "[[6.7 2.5 5.8 1.8]\n",
      " [7.9 3.8 6.4 2. ]\n",
      " [6.3 2.8 5.1 1.5]\n",
      " [5.5 2.6 4.4 1.2]\n",
      " [4.7 3.2 1.3 0.2]\n",
      " [7.2 3.6 6.1 2.5]\n",
      " [6.5 3.  5.2 2. ]\n",
      " [5.7 2.8 4.1 1.3]\n",
      " [5.8 2.7 5.1 1.9]\n",
      " [5.6 2.8 4.9 2. ]\n",
      " [6.1 3.  4.9 1.8]\n",
      " [5.1 3.4 1.5 0.2]\n",
      " [6.3 3.3 6.  2.5]\n",
      " [6.3 3.3 4.7 1.6]\n",
      " [6.4 2.8 5.6 2.2]\n",
      " [6.9 3.1 4.9 1.5]\n",
      " [7.  3.2 4.7 1.4]\n",
      " [6.7 3.  5.  1.7]\n",
      " [4.6 3.1 1.5 0.2]\n",
      " [6.9 3.1 5.4 2.1]\n",
      " [7.7 2.8 6.7 2. ]\n",
      " [6.3 2.9 5.6 1.8]\n",
      " [4.6 3.6 1.  0.2]\n",
      " [5.7 3.  4.2 1.2]\n",
      " [5.1 3.8 1.5 0.3]\n",
      " [6.1 2.6 5.6 1.4]\n",
      " [4.8 3.4 1.9 0.2]\n",
      " [6.  2.2 5.  1.5]\n",
      " [6.2 2.8 4.8 1.8]\n",
      " [5.  3.3 1.4 0.2]\n",
      " [6.8 3.2 5.9 2.3]\n",
      " [5.2 3.5 1.5 0.2]\n",
      " [5.3 3.7 1.5 0.2]\n",
      " [5.5 2.5 4.  1.3]\n",
      " [7.2 3.  5.8 1.6]\n",
      " [5.4 3.9 1.3 0.4]\n",
      " [4.8 3.4 1.6 0.2]\n",
      " [5.1 2.5 3.  1.1]\n",
      " [6.5 3.  5.5 1.8]\n",
      " [6.3 2.3 4.4 1.3]\n",
      " [5.  3.4 1.5 0.2]\n",
      " [5.  3.4 1.6 0.4]\n",
      " [4.8 3.  1.4 0.1]\n",
      " [6.7 3.1 4.4 1.4]\n",
      " [6.2 2.2 4.5 1.5]\n",
      " [5.5 2.4 3.8 1.1]\n",
      " [6.5 3.2 5.1 2. ]\n",
      " [5.8 2.6 4.  1.2]\n",
      " [5.5 2.3 4.  1.3]\n",
      " [6.9 3.2 5.7 2.3]\n",
      " [5.4 3.9 1.7 0.4]\n",
      " [6.2 3.4 5.4 2.3]\n",
      " [6.5 2.8 4.6 1.5]\n",
      " [6.6 3.  4.4 1.4]\n",
      " [6.1 2.9 4.7 1.4]\n",
      " [5.5 3.5 1.3 0.2]\n",
      " [7.7 3.  6.1 2.3]\n",
      " [4.9 2.4 3.3 1. ]\n",
      " [6.7 3.1 5.6 2.4]\n",
      " [6.1 3.  4.6 1.4]\n",
      " [6.4 2.9 4.3 1.3]\n",
      " [5.4 3.4 1.5 0.4]\n",
      " [5.4 3.7 1.5 0.2]\n",
      " [5.7 3.8 1.7 0.3]\n",
      " [4.9 3.  1.4 0.2]\n",
      " [4.4 3.2 1.3 0.2]\n",
      " [5.9 3.  5.1 1.8]\n",
      " [6.4 2.7 5.3 1.9]\n",
      " [6.7 3.3 5.7 2.5]\n",
      " [4.4 3.  1.3 0.2]\n",
      " [6.5 3.  5.8 2.2]\n",
      " [7.3 2.9 6.3 1.8]\n",
      " [5.1 3.8 1.6 0.2]\n",
      " [5.1 3.3 1.7 0.5]\n",
      " [5.1 3.7 1.5 0.4]\n",
      " [7.1 3.  5.9 2.1]\n",
      " [5.8 2.7 4.1 1. ]\n",
      " [5.5 2.4 3.7 1. ]\n",
      " [5.7 2.8 4.5 1.3]\n",
      " [6.1 2.8 4.  1.3]\n",
      " [4.7 3.2 1.6 0.2]\n",
      " [6.  3.4 4.5 1.6]\n",
      " [5.4 3.4 1.7 0.2]\n",
      " [4.9 3.6 1.4 0.1]\n",
      " [5.8 2.8 5.1 2.4]\n",
      " [5.5 4.2 1.4 0.2]\n",
      " [4.9 3.1 1.5 0.1]\n",
      " [7.7 2.6 6.9 2.3]\n",
      " [6.3 2.7 4.9 1.8]\n",
      " [5.4 3.  4.5 1.5]\n",
      " [5.6 2.7 4.2 1.3]\n",
      " [5.7 4.4 1.5 0.4]\n",
      " [5.  3.2 1.2 0.2]\n",
      " [5.9 3.  4.2 1.5]\n",
      " [6.4 3.1 5.5 1.8]\n",
      " [6.7 3.1 4.7 1.5]\n",
      " [5.1 3.8 1.9 0.4]\n",
      " [5.  3.  1.6 0.2]\n",
      " [5.  3.6 1.4 0.2]\n",
      " [6.3 2.5 4.9 1.5]\n",
      " [7.4 2.8 6.1 1.9]\n",
      " [5.7 2.5 5.  2. ]\n",
      " [6.7 3.3 5.7 2.1]\n",
      " [5.  2.3 3.3 1. ]\n",
      " [5.1 3.5 1.4 0.2]\n",
      " [5.7 2.6 3.5 1. ]\n",
      " [4.9 2.5 4.5 1.7]\n",
      " [4.4 2.9 1.4 0.2]\n",
      " [7.2 3.2 6.  1.8]\n",
      " [7.7 3.8 6.7 2.2]\n",
      " [5.6 2.9 3.6 1.3]\n",
      " [5.6 2.5 3.9 1.1]\n",
      " [6.8 2.8 4.8 1.4]\n",
      " [6.4 3.2 4.5 1.5]\n",
      " [4.8 3.  1.4 0.3]\n",
      " [6.  2.7 5.1 1.6]\n",
      " [5.2 4.1 1.5 0.1]\n",
      " [4.6 3.2 1.4 0.2]\n",
      " [7.6 3.  6.6 2.1]\n",
      " [6.6 2.9 4.6 1.3]]\n",
      "[2 2 2 1 0 2 2 1 2 2 2 0 2 1 2 1 1 1 0 2 2 2 0 1 0 2 0 2 2 0 2 0 0 1 2 0 0\n",
      " 1 2 1 0 0 0 1 1 1 2 1 1 2 0 2 1 1 1 0 2 1 2 1 1 0 0 0 0 0 2 2 2 0 2 2 0 0\n",
      " 0 2 1 1 1 1 0 1 0 0 2 0 0 2 2 1 1 0 0 1 2 1 0 0 0 1 2 2 2 1 0 1 2 0 2 2 1\n",
      " 1 1 1 0 1 0 0 2 1]\n",
      "[[5.8 4.  1.2 0.2]\n",
      " [6.  3.  4.8 1.8]\n",
      " [5.  2.  3.5 1. ]\n",
      " [6.9 3.1 5.1 2.3]\n",
      " [5.2 3.4 1.4 0.2]\n",
      " [6.4 3.2 5.3 2.3]\n",
      " [5.  3.5 1.3 0.3]\n",
      " [6.2 2.9 4.3 1.3]\n",
      " [4.5 2.3 1.3 0.3]\n",
      " [5.8 2.7 3.9 1.2]\n",
      " [6.8 3.  5.5 2.1]\n",
      " [4.9 3.1 1.5 0.2]\n",
      " [6.1 2.8 4.7 1.2]\n",
      " [6.7 3.  5.2 2.3]\n",
      " [6.  2.2 4.  1. ]\n",
      " [5.  3.5 1.6 0.6]\n",
      " [5.8 2.7 5.1 1.9]\n",
      " [5.7 2.9 4.2 1.3]\n",
      " [5.9 3.2 4.8 1.8]\n",
      " [6.4 2.8 5.6 2.1]\n",
      " [5.6 3.  4.1 1.3]\n",
      " [5.1 3.5 1.4 0.3]\n",
      " [6.3 3.4 5.6 2.4]\n",
      " [5.2 2.7 3.9 1.4]\n",
      " [5.6 3.  4.5 1.5]\n",
      " [4.3 3.  1.1 0.1]\n",
      " [4.6 3.4 1.4 0.3]\n",
      " [6.  2.9 4.5 1.5]\n",
      " [4.8 3.1 1.6 0.2]\n",
      " [6.3 2.5 5.  1.9]]\n",
      "[0 2 1 2 0 2 0 1 0 1 2 0 1 2 1 0 2 1 1 2 1 0 2 1 1 0 0 1 0 2]\n"
     ]
    }
   ],
   "source": [
    "#Spliting the dataset into training set and test set\n",
    "from sklearn.model_selection import train_test_split\n",
    "x_train, x_test, y_train, y_test = train_test_split(x, y, test_size=0.2)\n",
    "print(x_train)\n",
    "print(y_train)\n",
    "print(x_test)\n",
    "print(y_test)"
   ]
  },
  {
   "cell_type": "code",
   "execution_count": 8,
   "id": "8dd2da03",
   "metadata": {
    "execution": {
     "iopub.execute_input": "2021-08-07T15:11:04.546228Z",
     "iopub.status.busy": "2021-08-07T15:11:04.545588Z",
     "iopub.status.idle": "2021-08-07T15:11:04.550985Z",
     "shell.execute_reply": "2021-08-07T15:11:04.551465Z",
     "shell.execute_reply.started": "2021-08-07T14:54:13.998184Z"
    },
    "papermill": {
     "duration": 0.027805,
     "end_time": "2021-08-07T15:11:04.551649",
     "exception": false,
     "start_time": "2021-08-07T15:11:04.523844",
     "status": "completed"
    },
    "tags": []
   },
   "outputs": [
    {
     "name": "stdout",
     "output_type": "stream",
     "text": [
      "float64\n",
      "int64\n"
     ]
    }
   ],
   "source": [
    "print(x_train.dtype)\n",
    "print(y_train.dtype)"
   ]
  },
  {
   "cell_type": "code",
   "execution_count": 9,
   "id": "1fd8ec7c",
   "metadata": {
    "execution": {
     "iopub.execute_input": "2021-08-07T15:11:04.587429Z",
     "iopub.status.busy": "2021-08-07T15:11:04.586693Z",
     "iopub.status.idle": "2021-08-07T15:11:04.823805Z",
     "shell.execute_reply": "2021-08-07T15:11:04.823244Z",
     "shell.execute_reply.started": "2021-08-07T15:04:57.860661Z"
    },
    "papermill": {
     "duration": 0.25668,
     "end_time": "2021-08-07T15:11:04.823939",
     "exception": false,
     "start_time": "2021-08-07T15:11:04.567259",
     "status": "completed"
    },
    "tags": []
   },
   "outputs": [
    {
     "data": {
      "text/plain": [
       "LogisticRegression(solver='liblinear')"
      ]
     },
     "execution_count": 9,
     "metadata": {},
     "output_type": "execute_result"
    }
   ],
   "source": [
    "#Training our model\n",
    "from sklearn.linear_model import LogisticRegression\n",
    "classifier = LogisticRegression(solver='liblinear')\n",
    "classifier.fit(x_train, y_train)"
   ]
  },
  {
   "cell_type": "code",
   "execution_count": 10,
   "id": "2eb18a36",
   "metadata": {
    "execution": {
     "iopub.execute_input": "2021-08-07T15:11:04.861822Z",
     "iopub.status.busy": "2021-08-07T15:11:04.861091Z",
     "iopub.status.idle": "2021-08-07T15:11:04.864008Z",
     "shell.execute_reply": "2021-08-07T15:11:04.864650Z",
     "shell.execute_reply.started": "2021-08-07T15:05:01.019003Z"
    },
    "papermill": {
     "duration": 0.026356,
     "end_time": "2021-08-07T15:11:04.864826",
     "exception": false,
     "start_time": "2021-08-07T15:11:04.838470",
     "status": "completed"
    },
    "tags": []
   },
   "outputs": [
    {
     "data": {
      "text/plain": [
       "0.9"
      ]
     },
     "execution_count": 10,
     "metadata": {},
     "output_type": "execute_result"
    }
   ],
   "source": [
    "#Scoring our model\n",
    "classifier.score(x_test, y_test)"
   ]
  },
  {
   "cell_type": "code",
   "execution_count": 11,
   "id": "499cf49c",
   "metadata": {
    "execution": {
     "iopub.execute_input": "2021-08-07T15:11:04.898014Z",
     "iopub.status.busy": "2021-08-07T15:11:04.897360Z",
     "iopub.status.idle": "2021-08-07T15:11:04.903383Z",
     "shell.execute_reply": "2021-08-07T15:11:04.903922Z",
     "shell.execute_reply.started": "2021-08-07T15:05:11.087539Z"
    },
    "papermill": {
     "duration": 0.024639,
     "end_time": "2021-08-07T15:11:04.904100",
     "exception": false,
     "start_time": "2021-08-07T15:11:04.879461",
     "status": "completed"
    },
    "tags": []
   },
   "outputs": [
    {
     "name": "stdout",
     "output_type": "stream",
     "text": [
      "[2]\n",
      "[0]\n"
     ]
    }
   ],
   "source": [
    "#Predicting some results\n",
    "print(classifier.predict(df_iris.data[149].reshape(1,-1)))\n",
    "print(classifier.predict(df_iris.data[0].reshape(1,-1)))"
   ]
  },
  {
   "cell_type": "code",
   "execution_count": 12,
   "id": "2ecd802b",
   "metadata": {
    "execution": {
     "iopub.execute_input": "2021-08-07T15:11:04.937962Z",
     "iopub.status.busy": "2021-08-07T15:11:04.937249Z",
     "iopub.status.idle": "2021-08-07T15:11:04.945840Z",
     "shell.execute_reply": "2021-08-07T15:11:04.946324Z",
     "shell.execute_reply.started": "2021-08-07T15:05:13.146286Z"
    },
    "papermill": {
     "duration": 0.027302,
     "end_time": "2021-08-07T15:11:04.946505",
     "exception": false,
     "start_time": "2021-08-07T15:11:04.919203",
     "status": "completed"
    },
    "tags": []
   },
   "outputs": [
    {
     "data": {
      "text/plain": [
       "array([[10,  0,  0],\n",
       "       [ 0,  8,  3],\n",
       "       [ 0,  0,  9]])"
      ]
     },
     "execution_count": 12,
     "metadata": {},
     "output_type": "execute_result"
    }
   ],
   "source": [
    "#Creating confusion matrix\n",
    "from sklearn.metrics import confusion_matrix\n",
    "cm = confusion_matrix(y_test, classifier.predict(x_test))\n",
    "cm"
   ]
  },
  {
   "cell_type": "code",
   "execution_count": 13,
   "id": "d8200ef2",
   "metadata": {
    "execution": {
     "iopub.execute_input": "2021-08-07T15:11:04.979863Z",
     "iopub.status.busy": "2021-08-07T15:11:04.979206Z",
     "iopub.status.idle": "2021-08-07T15:11:05.477062Z",
     "shell.execute_reply": "2021-08-07T15:11:05.476341Z",
     "shell.execute_reply.started": "2021-08-07T15:09:32.393778Z"
    },
    "papermill": {
     "duration": 0.51561,
     "end_time": "2021-08-07T15:11:05.477215",
     "exception": false,
     "start_time": "2021-08-07T15:11:04.961605",
     "status": "completed"
    },
    "tags": []
   },
   "outputs": [
    {
     "data": {
      "text/plain": [
       "Text(69.0, 0.5, 'Truth')"
      ]
     },
     "execution_count": 13,
     "metadata": {},
     "output_type": "execute_result"
    },
    {
     "data": {
      "image/png": "[encoded data removed]",
      "text/plain": [
       "<Figure size 720x720 with 2 Axes>"
      ]
     },
     "metadata": {
      "needs_background": "light"
     },
     "output_type": "display_data"
    }
   ],
   "source": [
    "import seaborn as sns\n",
    "plt.figure(figsize=(10, 10))\n",
    "sns.heatmap(cm, annot=True)\n",
    "plt.xlabel('Predicted')\n",
    "plt.ylabel('Truth')"
   ]
  },
  {
   "cell_type": "code",
   "execution_count": null,
   "id": "331083a6",
   "metadata": {
    "papermill": {
     "duration": 0.015721,
     "end_time": "2021-08-07T15:11:05.510966",
     "exception": false,
     "start_time": "2021-08-07T15:11:05.495245",
     "status": "completed"
    },
    "tags": []
   },
   "outputs": [],
   "source": []
  }
 ],
 "metadata": {
  "kernelspec": {
   "display_name": "Python 3",
   "language": "python",
   "name": "python3"
  },
  "language_info": {
   "codemirror_mode": {
    "name": "ipython",
    "version": 3
   },
   "file_extension": ".py",
   "mimetype": "text/x-python",
   "name": "python",
   "nbconvert_exporter": "python",
   "pygments_lexer": "ipython3",
   "version": "3.7.10"
  },
  "papermill": {
   "default_parameters": {},
   "duration": 11.587463,
   "end_time": "2021-08-07T15:11:06.338449",
   "environment_variables": {},
   "exception": null,
   "input_path": "__notebook__.ipynb",
   "output_path": "__notebook__.ipynb",
   "parameters": {},
   "start_time": "2021-08-07T15:10:54.750986",
   "version": "2.3.3"
  }
 },
 "nbformat": 4,
 "nbformat_minor": 5
}
