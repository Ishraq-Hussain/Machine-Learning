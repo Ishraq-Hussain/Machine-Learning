{
 "cells": [
  {
   "cell_type": "code",
   "execution_count": 1,
   "id": "787d8994",
   "metadata": {
    "_cell_guid": "b1076dfc-b9ad-4769-8c92-a6c4dae69d19",
    "_uuid": "8f2839f25d086af736a60e9eeb907d3b93b6e0e5",
    "execution": {
     "iopub.execute_input": "2021-07-29T14:19:38.226456Z",
     "iopub.status.busy": "2021-07-29T14:19:38.225813Z",
     "iopub.status.idle": "2021-07-29T14:19:38.238997Z",
     "shell.execute_reply": "2021-07-29T14:19:38.238170Z",
     "shell.execute_reply.started": "2021-07-29T13:36:38.044332Z"
    },
    "papermill": {
     "duration": 0.031019,
     "end_time": "2021-07-29T14:19:38.239217",
     "exception": false,
     "start_time": "2021-07-29T14:19:38.208198",
     "status": "completed"
    },
    "tags": []
   },
   "outputs": [
    {
     "name": "stdout",
     "output_type": "stream",
     "text": [
      "/kaggle/input/canadas-per-capita-income/Canada-per-capita-income.csv\n"
     ]
    }
   ],
   "source": [
    "# This Python 3 environment comes with many helpful analytics libraries installed\n",
    "# It is defined by the kaggle/python Docker image: https://github.com/kaggle/docker-python\n",
    "# For example, here's several helpful packages to load\n",
    "\n",
    "import numpy as np # linear algebra\n",
    "import pandas as pd # data processing, CSV file I/O (e.g. pd.read_csv)\n",
    "\n",
    "# Input data files are available in the read-only \"../input/\" directory\n",
    "# For example, running this (by clicking run or pressing Shift+Enter) will list all files under the input directory\n",
    "\n",
    "import os\n",
    "for dirname, _, filenames in os.walk('/kaggle/input'):\n",
    "    for filename in filenames:\n",
    "        print(os.path.join(dirname, filename))\n",
    "\n",
    "# You can write up to 20GB to the current directory (/kaggle/working/) that gets preserved as output when you create a version using \"Save & Run All\" \n",
    "# You can also write temporary files to /kaggle/temp/, but they won't be saved outside of the current session"
   ]
  },
  {
   "cell_type": "code",
   "execution_count": 2,
   "id": "da50caaa",
   "metadata": {
    "execution": {
     "iopub.execute_input": "2021-07-29T14:19:38.257116Z",
     "iopub.status.busy": "2021-07-29T14:19:38.256486Z",
     "iopub.status.idle": "2021-07-29T14:19:38.259200Z",
     "shell.execute_reply": "2021-07-29T14:19:38.258672Z",
     "shell.execute_reply.started": "2021-07-29T13:37:20.542243Z"
    },
    "papermill": {
     "duration": 0.012716,
     "end_time": "2021-07-29T14:19:38.259333",
     "exception": false,
     "start_time": "2021-07-29T14:19:38.246617",
     "status": "completed"
    },
    "tags": []
   },
   "outputs": [],
   "source": [
    "import pandas as pd\n",
    "import numpy as np\n",
    "import matplotlib.pyplot as plt"
   ]
  },
  {
   "cell_type": "code",
   "execution_count": 3,
   "id": "fea049a4",
   "metadata": {
    "execution": {
     "iopub.execute_input": "2021-07-29T14:19:38.276945Z",
     "iopub.status.busy": "2021-07-29T14:19:38.276240Z",
     "iopub.status.idle": "2021-07-29T14:19:38.376869Z",
     "shell.execute_reply": "2021-07-29T14:19:38.376332Z",
     "shell.execute_reply.started": "2021-07-29T13:40:29.258731Z"
    },
    "papermill": {
     "duration": 0.111147,
     "end_time": "2021-07-29T14:19:38.377008",
     "exception": false,
     "start_time": "2021-07-29T14:19:38.265861",
     "status": "completed"
    },
    "tags": []
   },
   "outputs": [],
   "source": [
    "df = pd.read_csv('../input/canadas-per-capita-income/Canada-per-capita-income.csv')\n",
    "x = df.iloc[:, :-1].values\n",
    "y = df.iloc[:, -1].values"
   ]
  },
  {
   "cell_type": "code",
   "execution_count": 4,
   "id": "1a79c655",
   "metadata": {
    "execution": {
     "iopub.execute_input": "2021-07-29T14:19:38.394636Z",
     "iopub.status.busy": "2021-07-29T14:19:38.393830Z",
     "iopub.status.idle": "2021-07-29T14:19:39.657107Z",
     "shell.execute_reply": "2021-07-29T14:19:39.657527Z",
     "shell.execute_reply.started": "2021-07-29T14:01:58.859277Z"
    },
    "papermill": {
     "duration": 1.274362,
     "end_time": "2021-07-29T14:19:39.657713",
     "exception": false,
     "start_time": "2021-07-29T14:19:38.383351",
     "status": "completed"
    },
    "tags": []
   },
   "outputs": [
    {
     "data": {
      "text/plain": [
       "LinearRegression()"
      ]
     },
     "execution_count": 4,
     "metadata": {},
     "output_type": "execute_result"
    }
   ],
   "source": [
    "#Training our machine\n",
    "from sklearn.linear_model import LinearRegression\n",
    "regressor = LinearRegression()\n",
    "regressor.fit(x, y)"
   ]
  },
  {
   "cell_type": "code",
   "execution_count": 5,
   "id": "cf9970b2",
   "metadata": {
    "execution": {
     "iopub.execute_input": "2021-07-29T14:19:39.676251Z",
     "iopub.status.busy": "2021-07-29T14:19:39.675634Z",
     "iopub.status.idle": "2021-07-29T14:19:39.678096Z",
     "shell.execute_reply": "2021-07-29T14:19:39.678580Z",
     "shell.execute_reply.started": "2021-07-29T14:06:23.561824Z"
    },
    "papermill": {
     "duration": 0.014366,
     "end_time": "2021-07-29T14:19:39.678761",
     "exception": false,
     "start_time": "2021-07-29T14:19:39.664395",
     "status": "completed"
    },
    "tags": []
   },
   "outputs": [
    {
     "data": {
      "text/plain": [
       "41288.69409441762"
      ]
     },
     "execution_count": 5,
     "metadata": {},
     "output_type": "execute_result"
    }
   ],
   "source": [
    "canada_per_capita_income_2020 = regressor.predict([[2020]])\n",
    "canada_per_capita_income_2020[0]"
   ]
  },
  {
   "cell_type": "code",
   "execution_count": 6,
   "id": "f153dc04",
   "metadata": {
    "execution": {
     "iopub.execute_input": "2021-07-29T14:19:39.694731Z",
     "iopub.status.busy": "2021-07-29T14:19:39.694168Z",
     "iopub.status.idle": "2021-07-29T14:19:39.849996Z",
     "shell.execute_reply": "2021-07-29T14:19:39.850387Z",
     "shell.execute_reply.started": "2021-07-29T14:15:16.243991Z"
    },
    "papermill": {
     "duration": 0.165196,
     "end_time": "2021-07-29T14:19:39.850548",
     "exception": false,
     "start_time": "2021-07-29T14:19:39.685352",
     "status": "completed"
    },
    "tags": []
   },
   "outputs": [
    {
     "data": {
      "image/png": "[encoded data removed]",
      "text/plain": [
       "<Figure size 432x288 with 1 Axes>"
      ]
     },
     "metadata": {},
     "output_type": "display_data"
    }
   ],
   "source": [
    "plt.style.use('ggplot')\n",
    "fig, ax = plt.subplots()\n",
    "ax.scatter(x, y, color='red', marker='+')\n",
    "ax.plot(x, regressor.predict(x), color='black')\n",
    "ax.set_xlabel('Years')\n",
    "ax.set_ylabel('Per capita income (USD)')\n",
    "ax.set_title(\"Canada's per capita income\")\n",
    "plt.show()"
   ]
  },
  {
   "cell_type": "code",
   "execution_count": 7,
   "id": "6de8e222",
   "metadata": {
    "execution": {
     "iopub.execute_input": "2021-07-29T14:19:39.871859Z",
     "iopub.status.busy": "2021-07-29T14:19:39.871096Z",
     "iopub.status.idle": "2021-07-29T14:19:39.874896Z",
     "shell.execute_reply": "2021-07-29T14:19:39.874325Z",
     "shell.execute_reply.started": "2021-07-29T14:13:29.659525Z"
    },
    "papermill": {
     "duration": 0.01684,
     "end_time": "2021-07-29T14:19:39.875024",
     "exception": false,
     "start_time": "2021-07-29T14:19:39.858184",
     "status": "completed"
    },
    "tags": []
   },
   "outputs": [
    {
     "data": {
      "text/plain": [
       "['Solarize_Light2',\n",
       " '_classic_test_patch',\n",
       " 'bmh',\n",
       " 'classic',\n",
       " 'dark_background',\n",
       " 'fast',\n",
       " 'fivethirtyeight',\n",
       " 'ggplot',\n",
       " 'grayscale',\n",
       " 'seaborn',\n",
       " 'seaborn-bright',\n",
       " 'seaborn-colorblind',\n",
       " 'seaborn-dark',\n",
       " 'seaborn-dark-palette',\n",
       " 'seaborn-darkgrid',\n",
       " 'seaborn-deep',\n",
       " 'seaborn-muted',\n",
       " 'seaborn-notebook',\n",
       " 'seaborn-paper',\n",
       " 'seaborn-pastel',\n",
       " 'seaborn-poster',\n",
       " 'seaborn-talk',\n",
       " 'seaborn-ticks',\n",
       " 'seaborn-white',\n",
       " 'seaborn-whitegrid',\n",
       " 'tableau-colorblind10']"
      ]
     },
     "execution_count": 7,
     "metadata": {},
     "output_type": "execute_result"
    }
   ],
   "source": [
    "plt.style.available"
   ]
  },
  {
   "cell_type": "code",
   "execution_count": 8,
   "id": "51660c53",
   "metadata": {
    "execution": {
     "iopub.execute_input": "2021-07-29T14:19:39.895403Z",
     "iopub.status.busy": "2021-07-29T14:19:39.894796Z",
     "iopub.status.idle": "2021-07-29T14:19:39.898131Z",
     "shell.execute_reply": "2021-07-29T14:19:39.897640Z",
     "shell.execute_reply.started": "2021-07-29T14:17:52.911526Z"
    },
    "papermill": {
     "duration": 0.015438,
     "end_time": "2021-07-29T14:19:39.898257",
     "exception": false,
     "start_time": "2021-07-29T14:19:39.882819",
     "status": "completed"
    },
    "tags": []
   },
   "outputs": [
    {
     "name": "stdout",
     "output_type": "stream",
     "text": [
      "[828.46507522]\n",
      "-1632210.7578554575\n"
     ]
    }
   ],
   "source": [
    "print(regressor.coef_) # m = slope \n",
    "print(regressor.intercept_) # c = intercept"
   ]
  }
 ],
 "metadata": {
  "kernelspec": {
   "display_name": "Python 3",
   "language": "python",
   "name": "python3"
  },
  "language_info": {
   "codemirror_mode": {
    "name": "ipython",
    "version": 3
   },
   "file_extension": ".py",
   "mimetype": "text/x-python",
   "name": "python",
   "nbconvert_exporter": "python",
   "pygments_lexer": "ipython3",
   "version": "3.7.10"
  },
  "papermill": {
   "default_parameters": {},
   "duration": 10.853283,
   "end_time": "2021-07-29T14:19:41.490405",
   "environment_variables": {},
   "exception": null,
   "input_path": "__notebook__.ipynb",
   "output_path": "__notebook__.ipynb",
   "parameters": {},
   "start_time": "2021-07-29T14:19:30.637122",
   "version": "2.3.3"
  }
 },
 "nbformat": 4,
 "nbformat_minor": 5
}
